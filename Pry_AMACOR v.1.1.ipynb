{
  "cells": [
    {
      "cell_type": "markdown",
      "metadata": {
        "id": "view-in-github",
        "colab_type": "text"
      },
      "source": [
        "<a href=\"https://colab.research.google.com/github/Bubu52/BEST-PROJECT-IN-THE-WORLD/blob/main/Pry_AMACOR%20v.1.1.ipynb\" target=\"_parent\"><img src=\"https://colab.research.google.com/assets/colab-badge.svg\" alt=\"Open In Colab\"/></a>"
      ]
    },
    {
      "cell_type": "markdown",
      "id": "b7097cc7",
      "metadata": {
        "id": "b7097cc7"
      },
      "source": [
        "<img width=600 src=\"https://impelia.org/wp-content/uploads/2022/08/impelia_logo-cabecera_-02.png\">"
      ]
    },
    {
      "cell_type": "markdown",
      "id": "7c5cf168",
      "metadata": {
        "id": "7c5cf168"
      },
      "source": [
        "Hecho por: [Kenny Garcés](https://www.linkedin.com/in/kennygarces/) y [Remei Toda](https://www.linkedin.com/in/remei-toda-ribes-185879119/)"
      ]
    },
    {
      "cell_type": "markdown",
      "id": "c2350cd8-1a4a-4c2d-9187-40351ffc2d27",
      "metadata": {
        "id": "c2350cd8-1a4a-4c2d-9187-40351ffc2d27"
      },
      "source": [
        "# Análisis de datos supermercados <strong style= 'color: red'>A</strong><strong style= 'color: green'>M</strong><strong style= 'color: orange'>A</strong><strong style= 'color: blue'>C</strong><strong style= 'color: brown'>O</strong><strong style= 'color: purple'>R</strong>\n"
      ]
    },
    {
      "cell_type": "markdown",
      "id": "9858e10b-9a61-44f8-a3ef-8f2bdaf384f4",
      "metadata": {
        "id": "9858e10b-9a61-44f8-a3ef-8f2bdaf384f4"
      },
      "source": [
        "Amacor, un renombrado supermercado con una presencia sólida en la región donde el dueño es José Pérez. Se encuentra en una fase estratégica de mejora continua para fortalecer la eficiencia de sus operaciones. Ya que actualmente se encuentran con ciertos conflictos económicos en la empresa y quieren aumentar su facturación y así evitar posibles depidos. Como parte de este proceso, el equipo de marketing de Amacor ha llevado a cabo una iniciativa ambiciosa para recopilar y analizar datos detallados sobre su inventario de productos. El objetivo es optimizar la gestión del inventario, mejorar la toma de decisiones y garantizar una experiencia de compra excepcional para sus clientes.\n",
        "\n",
        "El dataset recopilado contiene información crucial, como nombres de productos, categorías, precios, ofertas, cantidades en stock y fechas de exportación del dato. Sin embargo, durante el proceso de revisión, el equipo de marketing ha identificado desafíos sustanciales que requieren atención inmediata. Estos desafíos incluyen la ausencia de valores en ciertas columnas, la existencia de productos duplicados y la posibilidad de inconsistencias en la calidad de los datos.\n",
        "\n",
        "Esta situación ha llevado al equipo de marketing a pedir ayuda a los data scientist de Impelia. Con el fin, de poder obtener información precisa y confiable, lo que es esencial para la toma de decisiones de manera eficiente y estratégica."
      ]
    },
    {
      "cell_type": "markdown",
      "id": "ad6a8671-f559-4894-b70c-f1cebf333a94",
      "metadata": {
        "id": "ad6a8671-f559-4894-b70c-f1cebf333a94"
      },
      "source": [
        "## Metología a seguir\n",
        "\n",
        "**Análisis Inicial**: Evaluar el impacto de los valores nulos y productos duplicados en el conjunto de datos.\n",
        "Identificar las columnas clave que serán fundamentales en el proceso de limpieza y análisis.\n",
        "\n",
        "**Limpieza de Datos**: Desarrollar estrategias para abordar los valores nulos, ya sea mediante la eliminación de registros o la imputación de valores basada en el contexto.\n",
        "Implementar un procedimiento para eliminar productos duplicados, conservando solo la primera ocurrencia.\n",
        "\n",
        "**Análisis de Columnas**: Realizar un análisis exhaustivo de cada columna para comprender la naturaleza de los datos y detectar posibles anomalías.\n",
        "Proponer soluciones para corregir cualquier error o inconsistencia identificada.\n",
        "\n",
        "**Resumen Estadístico**: Generar un resumen estadístico detallado para las columnas numéricas, aprovechando gráficos y visualizaciones para destacar patrones y tendencias.\n",
        "\n",
        "**Presentación de Resultados**: Elaborar un informe completo que documente las acciones tomadas en la limpieza de datos y el análisis de los mismos.\n",
        "El informe deberá responder como mínimo a las siguientes cuestiones:\n",
        "1. ¿Cúal es el número total de productos?\n",
        "\n",
        "2. ¿Cuantos productos tienen oferta aplicada?\n",
        "\n",
        "3. ¿Cuál es el producto más caro?\n",
        "\n",
        "4. ¿A cuantos productos no les queda Stock?\n",
        "\n",
        "5. ¿Cuál es el producto más barato?\n",
        "\n",
        "6. ¿Cuál es el producto con más Stock? ¿Se le está aplicando oferta a este producto?\n",
        "\n",
        "7. A los producos que se les aplica la oferta, ¿Cuánto dinero se está ahorrando el cliente?\n",
        "\n",
        "8. ¿Cuál es el producto más barato por pasillos?\n",
        "\n",
        "9. ¿Cuál es el producto más caro por pasillos?\n",
        "\n",
        "10. ¿Cuál es el producto con más Stock por pasillos?\n",
        "\n",
        "11. ¿Qué ocurre con el producto \"**<strong style= 'color: red'>Mostaza regular doypack 1000 g</strong>**\"? ¿Hay algún otro producto que le ocurra lo mismo?\n",
        "\n",
        "12. ¿Cuál es la marca con más productos?\n",
        "\n",
        "13. ¿Cuántos productos hay en cada pasillo?\n",
        "\n",
        "14. Cambiar los nombres de los productos a en formato mayúsculas y cambiando los espacios por \"_\".\n",
        "\n",
        "15. ¿Cuántas variedades de vinos venden? ¿Y cuál es el más caro?\n",
        "\n",
        "16. ¿Qué pasillo tiene más productos sin ofertas aplicadas?\n",
        "\n",
        "17. ¿Cuántos productos se venden a granel y cuántos por unidad?\n",
        "\n",
        "18. ¿Cuántos productos de los que hay en stock se les está aplicando oferta?\n",
        "\n",
        "19. ¿Qué está ocurriendo con el Producto \"**<strong style= 'color: red'>Aceite de Oliva extra virgen 250 ml</strong>**\" en temas de oferta y demanda?\n",
        "\n",
        "20. Ofrece recomendaciones específicas para mejorar la calidad de los datos y sugerir acciones futuras para la gestión del inventario."
      ]
    },
    {
      "cell_type": "code",
      "execution_count": 109,
      "id": "2e947a0e-4f22-42be-a1ec-ccfd2a9007fa",
      "metadata": {
        "id": "2e947a0e-4f22-42be-a1ec-ccfd2a9007fa",
        "colab": {
          "base_uri": "https://localhost:8080/"
        },
        "outputId": "c7f63084-e171-4bf7-c1fb-13e302abb1a7"
      },
      "outputs": [
        {
          "output_type": "execute_result",
          "data": {
            "text/plain": [
              "0"
            ]
          },
          "metadata": {},
          "execution_count": 109
        }
      ],
      "source": [
        "import pandas as pd\n",
        "data = pd.read_csv(\"Amacor.csv\")\n",
        "df = data.copy()\n",
        "\n",
        "df.rename(columns = {\"title\":\n",
        "\"NOMBRE_PRODUCTO\"}, inplace = True)\n",
        "df.rename(columns = {\"brand\":\n",
        "\"MARCA\"}, inplace = True)\n",
        "df.rename(columns = {\"normal_price\":\n",
        "\"PRECIO_SIN_OFERTA\"}, inplace = True)\n",
        "df.rename(columns = {\"low_price\":\n",
        "\"PRECIO_OFERTA_MIN\"}, inplace = True)\n",
        "df.rename(columns = {\"high_price\":\n",
        "\"PRECIO_OFERTA_MAX\"}, inplace = True)\n",
        "df.rename(columns = {\"oferta\":\n",
        "\"OFERTA\"}, inplace = True)\n",
        "df.rename(columns = {\"categoria1\":\n",
        "\"ZONA_SUPERMERCADO\"}, inplace = True)\n",
        "df.rename(columns = {\"categoria2\":\n",
        "\"TIPO_PRODUCTO\"}, inplace = True)\n",
        "df.rename(columns = {\"Atributos\":\n",
        "\"ATRIBUTOS\"}, inplace = True)\n",
        "df.rename(columns = {\"sin_stock\":\n",
        "\"STOCK\"}, inplace = True)\n",
        "df.rename(columns = {\"Num_Stock\":\n",
        "\"CANTIDAD_STOCK\"}, inplace = True)\n",
        "df.rename(columns = {\"datetime\":\n",
        "\"DATATIME\"}, inplace = True)\n",
        "df.rename(columns = {\"page\":\n",
        "\"PAGE\"}, inplace = True)\n",
        "\n",
        "df.isnull().sum()\n",
        "df.duplicated().sum()"
      ]
    },
    {
      "cell_type": "markdown",
      "source": [
        "1. ¿Cúal es el número total de productos?"
      ],
      "metadata": {
        "id": "dAvCmzVyp2i8"
      },
      "id": "dAvCmzVyp2i8"
    },
    {
      "cell_type": "code",
      "source": [
        "df.shape"
      ],
      "metadata": {
        "colab": {
          "base_uri": "https://localhost:8080/"
        },
        "id": "8y3517Gzp4HL",
        "outputId": "efac542e-0424-4d9c-d394-1b5b7baaade7"
      },
      "id": "8y3517Gzp4HL",
      "execution_count": 110,
      "outputs": [
        {
          "output_type": "execute_result",
          "data": {
            "text/plain": [
              "(4468, 13)"
            ]
          },
          "metadata": {},
          "execution_count": 110
        }
      ]
    },
    {
      "cell_type": "markdown",
      "source": [
        "2. ¿Cuantos productos tienen oferta aplicada?"
      ],
      "metadata": {
        "id": "UWswVTV1qDFp"
      },
      "id": "UWswVTV1qDFp"
    },
    {
      "cell_type": "code",
      "source": [
        "df[\"OFERTA\"].value_counts()"
      ],
      "metadata": {
        "colab": {
          "base_uri": "https://localhost:8080/"
        },
        "id": "MCtgsDB3qD3V",
        "outputId": "f803520c-7d6d-4aa1-b12c-92258bfbd909"
      },
      "id": "MCtgsDB3qD3V",
      "execution_count": 111,
      "outputs": [
        {
          "output_type": "execute_result",
          "data": {
            "text/plain": [
              "0    3611\n",
              "1     857\n",
              "Name: OFERTA, dtype: int64"
            ]
          },
          "metadata": {},
          "execution_count": 111
        }
      ]
    },
    {
      "cell_type": "markdown",
      "source": [
        "3. ¿Cuál es el producto más caro?"
      ],
      "metadata": {
        "id": "vOMY5Fr4sF2V"
      },
      "id": "vOMY5Fr4sF2V"
    },
    {
      "cell_type": "code",
      "source": [
        "pd.DataFrame(df.groupby(\"NOMBRE_PRODUCTO\")[\"PRECIO_SIN_OFERTA\"].max().sort_values(ascending=False).head(1))"
      ],
      "metadata": {
        "colab": {
          "base_uri": "https://localhost:8080/",
          "height": 112
        },
        "id": "VyJV3MKYsKUF",
        "outputId": "ef0a5852-fa17-4e50-e01b-2abecdfc6c32"
      },
      "id": "VyJV3MKYsKUF",
      "execution_count": 112,
      "outputs": [
        {
          "output_type": "execute_result",
          "data": {
            "text/plain": [
              "                    PRECIO_SIN_OFERTA\n",
              "NOMBRE_PRODUCTO                      \n",
              "Crema de leche 1 L            44028.0"
            ],
            "text/html": [
              "\n",
              "  <div id=\"df-7eb33731-ce06-4bff-a481-af5c1ea3fe70\" class=\"colab-df-container\">\n",
              "    <div>\n",
              "<style scoped>\n",
              "    .dataframe tbody tr th:only-of-type {\n",
              "        vertical-align: middle;\n",
              "    }\n",
              "\n",
              "    .dataframe tbody tr th {\n",
              "        vertical-align: top;\n",
              "    }\n",
              "\n",
              "    .dataframe thead th {\n",
              "        text-align: right;\n",
              "    }\n",
              "</style>\n",
              "<table border=\"1\" class=\"dataframe\">\n",
              "  <thead>\n",
              "    <tr style=\"text-align: right;\">\n",
              "      <th></th>\n",
              "      <th>PRECIO_SIN_OFERTA</th>\n",
              "    </tr>\n",
              "    <tr>\n",
              "      <th>NOMBRE_PRODUCTO</th>\n",
              "      <th></th>\n",
              "    </tr>\n",
              "  </thead>\n",
              "  <tbody>\n",
              "    <tr>\n",
              "      <th>Crema de leche 1 L</th>\n",
              "      <td>44028.0</td>\n",
              "    </tr>\n",
              "  </tbody>\n",
              "</table>\n",
              "</div>\n",
              "    <div class=\"colab-df-buttons\">\n",
              "\n",
              "  <div class=\"colab-df-container\">\n",
              "    <button class=\"colab-df-convert\" onclick=\"convertToInteractive('df-7eb33731-ce06-4bff-a481-af5c1ea3fe70')\"\n",
              "            title=\"Convert this dataframe to an interactive table.\"\n",
              "            style=\"display:none;\">\n",
              "\n",
              "  <svg xmlns=\"http://www.w3.org/2000/svg\" height=\"24px\" viewBox=\"0 -960 960 960\">\n",
              "    <path d=\"M120-120v-720h720v720H120Zm60-500h600v-160H180v160Zm220 220h160v-160H400v160Zm0 220h160v-160H400v160ZM180-400h160v-160H180v160Zm440 0h160v-160H620v160ZM180-180h160v-160H180v160Zm440 0h160v-160H620v160Z\"/>\n",
              "  </svg>\n",
              "    </button>\n",
              "\n",
              "  <style>\n",
              "    .colab-df-container {\n",
              "      display:flex;\n",
              "      gap: 12px;\n",
              "    }\n",
              "\n",
              "    .colab-df-convert {\n",
              "      background-color: #E8F0FE;\n",
              "      border: none;\n",
              "      border-radius: 50%;\n",
              "      cursor: pointer;\n",
              "      display: none;\n",
              "      fill: #1967D2;\n",
              "      height: 32px;\n",
              "      padding: 0 0 0 0;\n",
              "      width: 32px;\n",
              "    }\n",
              "\n",
              "    .colab-df-convert:hover {\n",
              "      background-color: #E2EBFA;\n",
              "      box-shadow: 0px 1px 2px rgba(60, 64, 67, 0.3), 0px 1px 3px 1px rgba(60, 64, 67, 0.15);\n",
              "      fill: #174EA6;\n",
              "    }\n",
              "\n",
              "    .colab-df-buttons div {\n",
              "      margin-bottom: 4px;\n",
              "    }\n",
              "\n",
              "    [theme=dark] .colab-df-convert {\n",
              "      background-color: #3B4455;\n",
              "      fill: #D2E3FC;\n",
              "    }\n",
              "\n",
              "    [theme=dark] .colab-df-convert:hover {\n",
              "      background-color: #434B5C;\n",
              "      box-shadow: 0px 1px 3px 1px rgba(0, 0, 0, 0.15);\n",
              "      filter: drop-shadow(0px 1px 2px rgba(0, 0, 0, 0.3));\n",
              "      fill: #FFFFFF;\n",
              "    }\n",
              "  </style>\n",
              "\n",
              "    <script>\n",
              "      const buttonEl =\n",
              "        document.querySelector('#df-7eb33731-ce06-4bff-a481-af5c1ea3fe70 button.colab-df-convert');\n",
              "      buttonEl.style.display =\n",
              "        google.colab.kernel.accessAllowed ? 'block' : 'none';\n",
              "\n",
              "      async function convertToInteractive(key) {\n",
              "        const element = document.querySelector('#df-7eb33731-ce06-4bff-a481-af5c1ea3fe70');\n",
              "        const dataTable =\n",
              "          await google.colab.kernel.invokeFunction('convertToInteractive',\n",
              "                                                    [key], {});\n",
              "        if (!dataTable) return;\n",
              "\n",
              "        const docLinkHtml = 'Like what you see? Visit the ' +\n",
              "          '<a target=\"_blank\" href=https://colab.research.google.com/notebooks/data_table.ipynb>data table notebook</a>'\n",
              "          + ' to learn more about interactive tables.';\n",
              "        element.innerHTML = '';\n",
              "        dataTable['output_type'] = 'display_data';\n",
              "        await google.colab.output.renderOutput(dataTable, element);\n",
              "        const docLink = document.createElement('div');\n",
              "        docLink.innerHTML = docLinkHtml;\n",
              "        element.appendChild(docLink);\n",
              "      }\n",
              "    </script>\n",
              "  </div>\n",
              "\n",
              "    </div>\n",
              "  </div>\n"
            ]
          },
          "metadata": {},
          "execution_count": 112
        }
      ]
    },
    {
      "cell_type": "markdown",
      "source": [
        "4. ¿A cuantos productos no les queda Stock?"
      ],
      "metadata": {
        "id": "QrOFW9TXuXq6"
      },
      "id": "QrOFW9TXuXq6"
    },
    {
      "cell_type": "code",
      "source": [
        " cond=df[\"STOCK\"]==0\n",
        " cond.sum()"
      ],
      "metadata": {
        "colab": {
          "base_uri": "https://localhost:8080/"
        },
        "id": "jC3EVyWyucTQ",
        "outputId": "11382256-81c1-428b-fbf6-3a9ea1d267c6"
      },
      "id": "jC3EVyWyucTQ",
      "execution_count": 113,
      "outputs": [
        {
          "output_type": "execute_result",
          "data": {
            "text/plain": [
              "207"
            ]
          },
          "metadata": {},
          "execution_count": 113
        }
      ]
    },
    {
      "cell_type": "markdown",
      "source": [
        "5. ¿Cuál es el producto más barato?"
      ],
      "metadata": {
        "id": "EXIyV5shwYlu"
      },
      "id": "EXIyV5shwYlu"
    },
    {
      "cell_type": "code",
      "source": [
        "pd.DataFrame(df.groupby(\"NOMBRE_PRODUCTO\")[\"PRECIO_SIN_OFERTA\"].min().sort_values(ascending=True).head(1))"
      ],
      "metadata": {
        "colab": {
          "base_uri": "https://localhost:8080/",
          "height": 112
        },
        "id": "hD197x1xwb-i",
        "outputId": "dcc717aa-4fba-4350-bd6f-ac267e322c9d"
      },
      "id": "hD197x1xwb-i",
      "execution_count": 114,
      "outputs": [
        {
          "output_type": "execute_result",
          "data": {
            "text/plain": [
              "                 PRECIO_SIN_OFERTA\n",
              "NOMBRE_PRODUCTO                   \n",
              "Abastero Cat. V                0.0"
            ],
            "text/html": [
              "\n",
              "  <div id=\"df-a4da49f3-c944-4909-9fd1-4a0b11002c47\" class=\"colab-df-container\">\n",
              "    <div>\n",
              "<style scoped>\n",
              "    .dataframe tbody tr th:only-of-type {\n",
              "        vertical-align: middle;\n",
              "    }\n",
              "\n",
              "    .dataframe tbody tr th {\n",
              "        vertical-align: top;\n",
              "    }\n",
              "\n",
              "    .dataframe thead th {\n",
              "        text-align: right;\n",
              "    }\n",
              "</style>\n",
              "<table border=\"1\" class=\"dataframe\">\n",
              "  <thead>\n",
              "    <tr style=\"text-align: right;\">\n",
              "      <th></th>\n",
              "      <th>PRECIO_SIN_OFERTA</th>\n",
              "    </tr>\n",
              "    <tr>\n",
              "      <th>NOMBRE_PRODUCTO</th>\n",
              "      <th></th>\n",
              "    </tr>\n",
              "  </thead>\n",
              "  <tbody>\n",
              "    <tr>\n",
              "      <th>Abastero Cat. V</th>\n",
              "      <td>0.0</td>\n",
              "    </tr>\n",
              "  </tbody>\n",
              "</table>\n",
              "</div>\n",
              "    <div class=\"colab-df-buttons\">\n",
              "\n",
              "  <div class=\"colab-df-container\">\n",
              "    <button class=\"colab-df-convert\" onclick=\"convertToInteractive('df-a4da49f3-c944-4909-9fd1-4a0b11002c47')\"\n",
              "            title=\"Convert this dataframe to an interactive table.\"\n",
              "            style=\"display:none;\">\n",
              "\n",
              "  <svg xmlns=\"http://www.w3.org/2000/svg\" height=\"24px\" viewBox=\"0 -960 960 960\">\n",
              "    <path d=\"M120-120v-720h720v720H120Zm60-500h600v-160H180v160Zm220 220h160v-160H400v160Zm0 220h160v-160H400v160ZM180-400h160v-160H180v160Zm440 0h160v-160H620v160ZM180-180h160v-160H180v160Zm440 0h160v-160H620v160Z\"/>\n",
              "  </svg>\n",
              "    </button>\n",
              "\n",
              "  <style>\n",
              "    .colab-df-container {\n",
              "      display:flex;\n",
              "      gap: 12px;\n",
              "    }\n",
              "\n",
              "    .colab-df-convert {\n",
              "      background-color: #E8F0FE;\n",
              "      border: none;\n",
              "      border-radius: 50%;\n",
              "      cursor: pointer;\n",
              "      display: none;\n",
              "      fill: #1967D2;\n",
              "      height: 32px;\n",
              "      padding: 0 0 0 0;\n",
              "      width: 32px;\n",
              "    }\n",
              "\n",
              "    .colab-df-convert:hover {\n",
              "      background-color: #E2EBFA;\n",
              "      box-shadow: 0px 1px 2px rgba(60, 64, 67, 0.3), 0px 1px 3px 1px rgba(60, 64, 67, 0.15);\n",
              "      fill: #174EA6;\n",
              "    }\n",
              "\n",
              "    .colab-df-buttons div {\n",
              "      margin-bottom: 4px;\n",
              "    }\n",
              "\n",
              "    [theme=dark] .colab-df-convert {\n",
              "      background-color: #3B4455;\n",
              "      fill: #D2E3FC;\n",
              "    }\n",
              "\n",
              "    [theme=dark] .colab-df-convert:hover {\n",
              "      background-color: #434B5C;\n",
              "      box-shadow: 0px 1px 3px 1px rgba(0, 0, 0, 0.15);\n",
              "      filter: drop-shadow(0px 1px 2px rgba(0, 0, 0, 0.3));\n",
              "      fill: #FFFFFF;\n",
              "    }\n",
              "  </style>\n",
              "\n",
              "    <script>\n",
              "      const buttonEl =\n",
              "        document.querySelector('#df-a4da49f3-c944-4909-9fd1-4a0b11002c47 button.colab-df-convert');\n",
              "      buttonEl.style.display =\n",
              "        google.colab.kernel.accessAllowed ? 'block' : 'none';\n",
              "\n",
              "      async function convertToInteractive(key) {\n",
              "        const element = document.querySelector('#df-a4da49f3-c944-4909-9fd1-4a0b11002c47');\n",
              "        const dataTable =\n",
              "          await google.colab.kernel.invokeFunction('convertToInteractive',\n",
              "                                                    [key], {});\n",
              "        if (!dataTable) return;\n",
              "\n",
              "        const docLinkHtml = 'Like what you see? Visit the ' +\n",
              "          '<a target=\"_blank\" href=https://colab.research.google.com/notebooks/data_table.ipynb>data table notebook</a>'\n",
              "          + ' to learn more about interactive tables.';\n",
              "        element.innerHTML = '';\n",
              "        dataTable['output_type'] = 'display_data';\n",
              "        await google.colab.output.renderOutput(dataTable, element);\n",
              "        const docLink = document.createElement('div');\n",
              "        docLink.innerHTML = docLinkHtml;\n",
              "        element.appendChild(docLink);\n",
              "      }\n",
              "    </script>\n",
              "  </div>\n",
              "\n",
              "    </div>\n",
              "  </div>\n"
            ]
          },
          "metadata": {},
          "execution_count": 114
        }
      ]
    },
    {
      "cell_type": "markdown",
      "source": [
        "6. ¿Cuál es el producto con más Stock? ¿Se le está aplicando oferta a este producto?"
      ],
      "metadata": {
        "id": "biqFx096wxGX"
      },
      "id": "biqFx096wxGX"
    },
    {
      "cell_type": "code",
      "source": [
        "mas_stock = pd.DataFrame(df.groupby(\"NOMBRE_PRODUCTO\")[\"CANTIDAD_STOCK\"].max().sort_values(ascending=False).head(1))\n",
        "mas_stock"
      ],
      "metadata": {
        "colab": {
          "base_uri": "https://localhost:8080/",
          "height": 112
        },
        "id": "gVmCpuG3zw9D",
        "outputId": "098088ee-6d60-490d-9271-a66499553d8f"
      },
      "id": "gVmCpuG3zw9D",
      "execution_count": null,
      "outputs": [
        {
          "output_type": "execute_result",
          "data": {
            "text/plain": [
              "                              CANTIDAD_STOCK\n",
              "NOMBRE_PRODUCTO                             \n",
              "Espumante Moscato 12° 750 cc              50"
            ],
            "text/html": [
              "\n",
              "  <div id=\"df-f9ede4d6-78fa-4de8-ae74-04c27bc2ecce\" class=\"colab-df-container\">\n",
              "    <div>\n",
              "<style scoped>\n",
              "    .dataframe tbody tr th:only-of-type {\n",
              "        vertical-align: middle;\n",
              "    }\n",
              "\n",
              "    .dataframe tbody tr th {\n",
              "        vertical-align: top;\n",
              "    }\n",
              "\n",
              "    .dataframe thead th {\n",
              "        text-align: right;\n",
              "    }\n",
              "</style>\n",
              "<table border=\"1\" class=\"dataframe\">\n",
              "  <thead>\n",
              "    <tr style=\"text-align: right;\">\n",
              "      <th></th>\n",
              "      <th>CANTIDAD_STOCK</th>\n",
              "    </tr>\n",
              "    <tr>\n",
              "      <th>NOMBRE_PRODUCTO</th>\n",
              "      <th></th>\n",
              "    </tr>\n",
              "  </thead>\n",
              "  <tbody>\n",
              "    <tr>\n",
              "      <th>Espumante Moscato 12° 750 cc</th>\n",
              "      <td>50</td>\n",
              "    </tr>\n",
              "  </tbody>\n",
              "</table>\n",
              "</div>\n",
              "    <div class=\"colab-df-buttons\">\n",
              "\n",
              "  <div class=\"colab-df-container\">\n",
              "    <button class=\"colab-df-convert\" onclick=\"convertToInteractive('df-f9ede4d6-78fa-4de8-ae74-04c27bc2ecce')\"\n",
              "            title=\"Convert this dataframe to an interactive table.\"\n",
              "            style=\"display:none;\">\n",
              "\n",
              "  <svg xmlns=\"http://www.w3.org/2000/svg\" height=\"24px\" viewBox=\"0 -960 960 960\">\n",
              "    <path d=\"M120-120v-720h720v720H120Zm60-500h600v-160H180v160Zm220 220h160v-160H400v160Zm0 220h160v-160H400v160ZM180-400h160v-160H180v160Zm440 0h160v-160H620v160ZM180-180h160v-160H180v160Zm440 0h160v-160H620v160Z\"/>\n",
              "  </svg>\n",
              "    </button>\n",
              "\n",
              "  <style>\n",
              "    .colab-df-container {\n",
              "      display:flex;\n",
              "      gap: 12px;\n",
              "    }\n",
              "\n",
              "    .colab-df-convert {\n",
              "      background-color: #E8F0FE;\n",
              "      border: none;\n",
              "      border-radius: 50%;\n",
              "      cursor: pointer;\n",
              "      display: none;\n",
              "      fill: #1967D2;\n",
              "      height: 32px;\n",
              "      padding: 0 0 0 0;\n",
              "      width: 32px;\n",
              "    }\n",
              "\n",
              "    .colab-df-convert:hover {\n",
              "      background-color: #E2EBFA;\n",
              "      box-shadow: 0px 1px 2px rgba(60, 64, 67, 0.3), 0px 1px 3px 1px rgba(60, 64, 67, 0.15);\n",
              "      fill: #174EA6;\n",
              "    }\n",
              "\n",
              "    .colab-df-buttons div {\n",
              "      margin-bottom: 4px;\n",
              "    }\n",
              "\n",
              "    [theme=dark] .colab-df-convert {\n",
              "      background-color: #3B4455;\n",
              "      fill: #D2E3FC;\n",
              "    }\n",
              "\n",
              "    [theme=dark] .colab-df-convert:hover {\n",
              "      background-color: #434B5C;\n",
              "      box-shadow: 0px 1px 3px 1px rgba(0, 0, 0, 0.15);\n",
              "      filter: drop-shadow(0px 1px 2px rgba(0, 0, 0, 0.3));\n",
              "      fill: #FFFFFF;\n",
              "    }\n",
              "  </style>\n",
              "\n",
              "    <script>\n",
              "      const buttonEl =\n",
              "        document.querySelector('#df-f9ede4d6-78fa-4de8-ae74-04c27bc2ecce button.colab-df-convert');\n",
              "      buttonEl.style.display =\n",
              "        google.colab.kernel.accessAllowed ? 'block' : 'none';\n",
              "\n",
              "      async function convertToInteractive(key) {\n",
              "        const element = document.querySelector('#df-f9ede4d6-78fa-4de8-ae74-04c27bc2ecce');\n",
              "        const dataTable =\n",
              "          await google.colab.kernel.invokeFunction('convertToInteractive',\n",
              "                                                    [key], {});\n",
              "        if (!dataTable) return;\n",
              "\n",
              "        const docLinkHtml = 'Like what you see? Visit the ' +\n",
              "          '<a target=\"_blank\" href=https://colab.research.google.com/notebooks/data_table.ipynb>data table notebook</a>'\n",
              "          + ' to learn more about interactive tables.';\n",
              "        element.innerHTML = '';\n",
              "        dataTable['output_type'] = 'display_data';\n",
              "        await google.colab.output.renderOutput(dataTable, element);\n",
              "        const docLink = document.createElement('div');\n",
              "        docLink.innerHTML = docLinkHtml;\n",
              "        element.appendChild(docLink);\n",
              "      }\n",
              "    </script>\n",
              "  </div>\n",
              "\n",
              "    </div>\n",
              "  </div>\n"
            ]
          },
          "metadata": {},
          "execution_count": 292
        }
      ]
    },
    {
      "cell_type": "markdown",
      "source": [
        "7.A los producos que se les aplica la oferta, ¿Cuánto dinero se está ahorrando el cliente?"
      ],
      "metadata": {
        "id": "zQCAiymJzkQ7"
      },
      "id": "zQCAiymJzkQ7"
    },
    {
      "cell_type": "code",
      "source": [
        "cond = df[df['OFERTA']==1]\n",
        "total = cond['PRECIO_SIN_OFERTA'].sum().round(2)\n",
        "print(f'En total, el cliente se estaria ahorrando un total de \"{total}\"€')"
      ],
      "metadata": {
        "colab": {
          "base_uri": "https://localhost:8080/"
        },
        "id": "3Okr_1smzkLC",
        "outputId": "fc86fa47-3f97-4c11-b08c-523e2ca043e6"
      },
      "id": "3Okr_1smzkLC",
      "execution_count": 52,
      "outputs": [
        {
          "output_type": "stream",
          "name": "stdout",
          "text": [
            "En total, el cliente se estaria ahorrando un total de \"1853.22\"€\n"
          ]
        }
      ]
    },
    {
      "cell_type": "markdown",
      "source": [
        "8.¿Cuál es el producto más barato por pasillos?"
      ],
      "metadata": {
        "id": "Ss-PLpuazkFG"
      },
      "id": "Ss-PLpuazkFG"
    },
    {
      "cell_type": "code",
      "source": [
        "df.groupby('NUM_PASILLOS')[['NOMBRE_PRODUCTO','PRECIO_SIN_OFERTA']].min()"
      ],
      "metadata": {
        "id": "2_NIeoGpzj_q"
      },
      "id": "2_NIeoGpzj_q",
      "execution_count": null,
      "outputs": []
    },
    {
      "cell_type": "markdown",
      "source": [
        "9.¿Cuál es el producto más caro por pasillos?"
      ],
      "metadata": {
        "id": "g6JBWUURzj57"
      },
      "id": "g6JBWUURzj57"
    },
    {
      "cell_type": "code",
      "source": [
        "df.groupby('NUM_PASILLOS')[['NOMBRE_PRODUCTO','PRECIO_SIN_OFERTA']].max()"
      ],
      "metadata": {
        "id": "3DPBqzbczjzJ"
      },
      "id": "3DPBqzbczjzJ",
      "execution_count": null,
      "outputs": []
    },
    {
      "cell_type": "markdown",
      "source": [
        "10.¿Cuál es el producto con más Stock por pasillos?"
      ],
      "metadata": {
        "id": "eKdH-nWjzjtK"
      },
      "id": "eKdH-nWjzjtK"
    },
    {
      "cell_type": "code",
      "source": [
        "df.groupby('NUM_PASILLOS')[['NOMBRE_PRODUCTO','CANTIDAD_STOCK']].max()"
      ],
      "metadata": {
        "id": "PaymC_bpzjk9"
      },
      "id": "PaymC_bpzjk9",
      "execution_count": null,
      "outputs": []
    },
    {
      "cell_type": "markdown",
      "source": [
        "11.¿Qué ocurre con el producto \"Mostaza regular doypack 1000 g\"? ¿Hay algún otro producto que le ocurra lo mismo?"
      ],
      "metadata": {
        "id": "pdT7XnFNzjeT"
      },
      "id": "pdT7XnFNzjeT"
    },
    {
      "cell_type": "code",
      "source": [
        "df[df['NOMBRE_PRODUCTO']== \"Mostaza regular doypack 1000 g\"]"
      ],
      "metadata": {
        "id": "C11_PfMPzjW1"
      },
      "id": "C11_PfMPzjW1",
      "execution_count": null,
      "outputs": []
    },
    {
      "cell_type": "markdown",
      "source": [
        "12.¿Cuál es la marca con más productos?"
      ],
      "metadata": {
        "id": "UxCtCvwEzjP2"
      },
      "id": "UxCtCvwEzjP2"
    },
    {
      "cell_type": "code",
      "source": [
        "df.groupby('MARCA')[['NOMBRE_PRODUCTO','CANTIDAD_STOCK']].max().sort_values(by='CANTIDAD_STOCK',ascending=False).head(1)"
      ],
      "metadata": {
        "id": "NQumWDY9zjI8"
      },
      "id": "NQumWDY9zjI8",
      "execution_count": null,
      "outputs": []
    },
    {
      "cell_type": "markdown",
      "source": [
        "13.¿Cuántos productos hay en cada pasillo?"
      ],
      "metadata": {
        "id": "DYqIaIc2zjCK"
      },
      "id": "DYqIaIc2zjCK"
    },
    {
      "cell_type": "code",
      "source": [
        "pd.DataFrame(df.groupby('NUM_PASILLOS')['NOMBRE_PRODUCTO'].value_counts())"
      ],
      "metadata": {
        "id": "sfP9XJP8zi7H"
      },
      "id": "sfP9XJP8zi7H",
      "execution_count": null,
      "outputs": []
    },
    {
      "cell_type": "markdown",
      "source": [
        "14.Cambiar los nombres de los productos a en formato mayúsculas y cambiando los espacios por \"_\"."
      ],
      "metadata": {
        "id": "Oq8E12WYzixS"
      },
      "id": "Oq8E12WYzixS"
    },
    {
      "cell_type": "code",
      "source": [
        " df['NOMBRE_PRODUCTO']= df['NOMBRE_PRODUCTO'].str.upper()"
      ],
      "metadata": {
        "id": "MyZyFjUnzijr"
      },
      "id": "MyZyFjUnzijr",
      "execution_count": 126,
      "outputs": []
    },
    {
      "cell_type": "code",
      "source": [
        "for i in df['NOMBRE_PRODUCTO']:\n",
        "   i.replace(\" \",\"_\")\n",
        ""
      ],
      "metadata": {
        "id": "osThRCt789ko"
      },
      "id": "osThRCt789ko",
      "execution_count": 107,
      "outputs": []
    },
    {
      "cell_type": "markdown",
      "source": [
        "15.¿Cuántas variedades de vinos venden? ¿Y cuál es el más caro?"
      ],
      "metadata": {
        "id": "lecLC-1QB7Bj"
      },
      "id": "lecLC-1QB7Bj"
    },
    {
      "cell_type": "code",
      "source": [
        "cond = df[df['TIPO_PRODUCTO']=='vinos-cervezas-y-licores']\n",
        "cond.loc[:,'NOMBRE_PRODUCTO']"
      ],
      "metadata": {
        "colab": {
          "base_uri": "https://localhost:8080/"
        },
        "id": "4AZ3GUfN83w6",
        "outputId": "38495ece-5e5e-458d-d5b9-0f957bbabd65"
      },
      "id": "4AZ3GUfN83w6",
      "execution_count": 148,
      "outputs": [
        {
          "output_type": "execute_result",
          "data": {
            "text/plain": [
              "240                PACK 24 UN. CERVEZA LAGER 5.2° 330 CC\n",
              "241                    VINO DIABLO RED ENSAMBLAJE 750 CC\n",
              "242              PACK 6 UN. CERVEZA RUBIA BOTELLA 330 CC\n",
              "243                 PACK 6 UN. CERVEZA LAGER LATA 354 CC\n",
              "244            PACK 18 UN. CERVEZA LAGER 4.6° 330 CC C/U\n",
              "                             ...                        \n",
              "475                             ESPUMANTE LOVE 7° 750 CC\n",
              "476                  VINO CARMÉNÈRE PANUL RESERVA 750 CC\n",
              "477                  ESPUMANTE BRUT 12.5° BOTELLA 750 CC\n",
              "478    VINO CHARDONNAY TRES MEDALLAS VIÑA SANTA RITA ...\n",
              "479            VINO CARMÉNÈRE SAUVIGNON BLANC 13° 750 CC\n",
              "Name: NOMBRE_PRODUCTO, Length: 240, dtype: object"
            ]
          },
          "metadata": {},
          "execution_count": 148
        }
      ]
    },
    {
      "cell_type": "markdown",
      "source": [
        "16.¿Qué pasillo tiene más productos sin ofertas aplicadas?"
      ],
      "metadata": {
        "id": "4rpT3lpHzh91"
      },
      "id": "4rpT3lpHzh91"
    },
    {
      "cell_type": "code",
      "source": [
        "cond = df[df['OFERTA']==0]\n",
        "cond.groupby('NUM_PASILLOS')['CANTIDAD_STOCK'].sum()"
      ],
      "metadata": {
        "colab": {
          "base_uri": "https://localhost:8080/"
        },
        "id": "v0bWpmAdFX88",
        "outputId": "b58544fc-adc0-442a-e8f6-9640a145af9d"
      },
      "id": "v0bWpmAdFX88",
      "execution_count": 166,
      "outputs": [
        {
          "output_type": "execute_result",
          "data": {
            "text/plain": [
              "NUM_PASILLOS\n",
              "1    17801\n",
              "2    14853\n",
              "3     2690\n",
              "4     1586\n",
              "5    51134\n",
              "Name: CANTIDAD_STOCK, dtype: int64"
            ]
          },
          "metadata": {},
          "execution_count": 166
        }
      ]
    },
    {
      "cell_type": "markdown",
      "source": [
        "17.¿Cuántos productos se venden a granel y cuántos por unidad?"
      ],
      "metadata": {
        "id": "ct537wD1E_3i"
      },
      "id": "ct537wD1E_3i"
    },
    {
      "cell_type": "code",
      "source": [
        "df['ATRIBUTOS'].value_counts()"
      ],
      "metadata": {
        "colab": {
          "base_uri": "https://localhost:8080/"
        },
        "id": "QTX9XmWeFYdg",
        "outputId": "1c970a88-8744-44d2-a590-defb997697ba"
      },
      "id": "QTX9XmWeFYdg",
      "execution_count": 172,
      "outputs": [
        {
          "output_type": "execute_result",
          "data": {
            "text/plain": [
              "1 un      4401\n",
              "500 g       17\n",
              "1 kg        14\n",
              "1.5 kg      12\n",
              "1.6 kg       6\n",
              "2 kg         3\n",
              "1.7 kg       2\n",
              "1.4 kg       2\n",
              "900 g        2\n",
              "2.3 kg       2\n",
              "300 g        1\n",
              "1.3 kg       1\n",
              "100 g        1\n",
              "400 g        1\n",
              "2.2 kg       1\n",
              "2.5 kg       1\n",
              "800 g        1\n",
              "Name: ATRIBUTOS, dtype: int64"
            ]
          },
          "metadata": {},
          "execution_count": 172
        }
      ]
    },
    {
      "cell_type": "markdown",
      "source": [
        "18.¿Cuántos productos de los que hay en stock se les está aplicando oferta?"
      ],
      "metadata": {
        "id": "aqFxN8RFE_xz"
      },
      "id": "aqFxN8RFE_xz"
    },
    {
      "cell_type": "code",
      "source": [
        "cond = df[df['OFERTA']==1]\n",
        "cond.groupby('OFERTA')['STOCK'].value_counts()"
      ],
      "metadata": {
        "colab": {
          "base_uri": "https://localhost:8080/"
        },
        "id": "wTAvJs-LFZQY",
        "outputId": "a62b6316-6a31-4080-c752-cbbf96da2c83"
      },
      "id": "wTAvJs-LFZQY",
      "execution_count": 177,
      "outputs": [
        {
          "output_type": "execute_result",
          "data": {
            "text/plain": [
              "OFERTA  STOCK\n",
              "1       1        857\n",
              "Name: STOCK, dtype: int64"
            ]
          },
          "metadata": {},
          "execution_count": 177
        }
      ]
    },
    {
      "cell_type": "markdown",
      "source": [
        "19.¿Qué está ocurriendo con el Producto \"Aceite de Oliva extra virgen 250 ml\" en temas de oferta y demanda?"
      ],
      "metadata": {
        "id": "_JYzSiZEE_u_"
      },
      "id": "_JYzSiZEE_u_"
    },
    {
      "cell_type": "code",
      "source": [],
      "metadata": {
        "id": "-TUGgdA9FZun"
      },
      "id": "-TUGgdA9FZun",
      "execution_count": null,
      "outputs": []
    },
    {
      "cell_type": "markdown",
      "source": [
        "20.Ofrece recomendaciones específicas para mejorar la calidad de los datos y sugerir acciones futuras para la gestión del inventario."
      ],
      "metadata": {
        "id": "CEpNWEgwE_gz"
      },
      "id": "CEpNWEgwE_gz"
    },
    {
      "cell_type": "code",
      "source": [],
      "metadata": {
        "id": "U-BpxZq1E2gX"
      },
      "id": "U-BpxZq1E2gX",
      "execution_count": null,
      "outputs": []
    },
    {
      "cell_type": "code",
      "source": [
        "df_dup= df[['NOMBRE_PRODUCTO','MARCA']]\n",
        "\n",
        "df.drop_duplicates(inplace=True)"
      ],
      "metadata": {
        "id": "O2uFph4Uw0OU"
      },
      "id": "O2uFph4Uw0OU",
      "execution_count": 115,
      "outputs": []
    },
    {
      "cell_type": "code",
      "source": [
        "df.duplicated().sum()"
      ],
      "metadata": {
        "colab": {
          "base_uri": "https://localhost:8080/"
        },
        "id": "ZuzNjutFzMWi",
        "outputId": "a04e2432-092d-4ef9-95fd-f42885bee69e"
      },
      "id": "ZuzNjutFzMWi",
      "execution_count": 116,
      "outputs": [
        {
          "output_type": "execute_result",
          "data": {
            "text/plain": [
              "0"
            ]
          },
          "metadata": {},
          "execution_count": 116
        }
      ]
    },
    {
      "cell_type": "code",
      "source": [
        "df_filtro = df[df[\"NOMBRE_PRODUCTO\"]==\"Arroz integral grado 1 de 1 kg\"]\n",
        "df_filtro"
      ],
      "metadata": {
        "colab": {
          "base_uri": "https://localhost:8080/",
          "height": 264
        },
        "id": "g5jDMkWq44NR",
        "outputId": "640d6534-1718-4a12-95ce-e6981323948e"
      },
      "id": "g5jDMkWq44NR",
      "execution_count": null,
      "outputs": [
        {
          "output_type": "execute_result",
          "data": {
            "text/plain": [
              "                     NOMBRE_PRODUCTO       MARCA  PRECIO_SIN_OFERTA  \\\n",
              "2353  Arroz integral grado 1 de 1 kg  Iansa Agro             1.6379   \n",
              "3067  Arroz integral grado 1 de 1 kg  Iansa Agro             1.6379   \n",
              "3781  Arroz integral grado 1 de 1 kg  Iansa Agro             1.6379   \n",
              "3863  Arroz integral grado 1 de 1 kg  Iansa Agro             1.6379   \n",
              "\n",
              "      PRECIO_OFERTA_MIN  PRECIO_OFERTA_MAX  OFERTA ZONA_SUPERMERCADO  \\\n",
              "2353           0.483434           0.499573       0          despensa   \n",
              "3067           0.483434           0.499573       0          despensa   \n",
              "3781           0.483434           0.499573       0          despensa   \n",
              "3863           0.483434           0.499573       0          despensa   \n",
              "\n",
              "      NUM_PASILLOS      TIPO_PRODUCTO                    DATATIME ATRIBUTOS  \\\n",
              "2353             5  arroz-y-legumbres  2022-07-16 19:41:59.974480      1 un   \n",
              "3067             5  arroz-y-legumbres  2022-07-16 20:20:00.576384      1 un   \n",
              "3781             5  arroz-y-legumbres  2022-07-16 20:54:13.402156      1 un   \n",
              "3863             5  arroz-y-legumbres  2022-07-16 21:25:28.860226      1 un   \n",
              "\n",
              "      STOCK  CANTIDAD_STOCK  PAGE  \n",
              "2353      1               6     2  \n",
              "3067      1              27     2  \n",
              "3781      1              44     2  \n",
              "3863      1              17     2  "
            ],
            "text/html": [
              "\n",
              "  <div id=\"df-92e44f32-20d1-4b7e-9f04-fe2e6a9976d2\" class=\"colab-df-container\">\n",
              "    <div>\n",
              "<style scoped>\n",
              "    .dataframe tbody tr th:only-of-type {\n",
              "        vertical-align: middle;\n",
              "    }\n",
              "\n",
              "    .dataframe tbody tr th {\n",
              "        vertical-align: top;\n",
              "    }\n",
              "\n",
              "    .dataframe thead th {\n",
              "        text-align: right;\n",
              "    }\n",
              "</style>\n",
              "<table border=\"1\" class=\"dataframe\">\n",
              "  <thead>\n",
              "    <tr style=\"text-align: right;\">\n",
              "      <th></th>\n",
              "      <th>NOMBRE_PRODUCTO</th>\n",
              "      <th>MARCA</th>\n",
              "      <th>PRECIO_SIN_OFERTA</th>\n",
              "      <th>PRECIO_OFERTA_MIN</th>\n",
              "      <th>PRECIO_OFERTA_MAX</th>\n",
              "      <th>OFERTA</th>\n",
              "      <th>ZONA_SUPERMERCADO</th>\n",
              "      <th>NUM_PASILLOS</th>\n",
              "      <th>TIPO_PRODUCTO</th>\n",
              "      <th>DATATIME</th>\n",
              "      <th>ATRIBUTOS</th>\n",
              "      <th>STOCK</th>\n",
              "      <th>CANTIDAD_STOCK</th>\n",
              "      <th>PAGE</th>\n",
              "    </tr>\n",
              "  </thead>\n",
              "  <tbody>\n",
              "    <tr>\n",
              "      <th>2353</th>\n",
              "      <td>Arroz integral grado 1 de 1 kg</td>\n",
              "      <td>Iansa Agro</td>\n",
              "      <td>1.6379</td>\n",
              "      <td>0.483434</td>\n",
              "      <td>0.499573</td>\n",
              "      <td>0</td>\n",
              "      <td>despensa</td>\n",
              "      <td>5</td>\n",
              "      <td>arroz-y-legumbres</td>\n",
              "      <td>2022-07-16 19:41:59.974480</td>\n",
              "      <td>1 un</td>\n",
              "      <td>1</td>\n",
              "      <td>6</td>\n",
              "      <td>2</td>\n",
              "    </tr>\n",
              "    <tr>\n",
              "      <th>3067</th>\n",
              "      <td>Arroz integral grado 1 de 1 kg</td>\n",
              "      <td>Iansa Agro</td>\n",
              "      <td>1.6379</td>\n",
              "      <td>0.483434</td>\n",
              "      <td>0.499573</td>\n",
              "      <td>0</td>\n",
              "      <td>despensa</td>\n",
              "      <td>5</td>\n",
              "      <td>arroz-y-legumbres</td>\n",
              "      <td>2022-07-16 20:20:00.576384</td>\n",
              "      <td>1 un</td>\n",
              "      <td>1</td>\n",
              "      <td>27</td>\n",
              "      <td>2</td>\n",
              "    </tr>\n",
              "    <tr>\n",
              "      <th>3781</th>\n",
              "      <td>Arroz integral grado 1 de 1 kg</td>\n",
              "      <td>Iansa Agro</td>\n",
              "      <td>1.6379</td>\n",
              "      <td>0.483434</td>\n",
              "      <td>0.499573</td>\n",
              "      <td>0</td>\n",
              "      <td>despensa</td>\n",
              "      <td>5</td>\n",
              "      <td>arroz-y-legumbres</td>\n",
              "      <td>2022-07-16 20:54:13.402156</td>\n",
              "      <td>1 un</td>\n",
              "      <td>1</td>\n",
              "      <td>44</td>\n",
              "      <td>2</td>\n",
              "    </tr>\n",
              "    <tr>\n",
              "      <th>3863</th>\n",
              "      <td>Arroz integral grado 1 de 1 kg</td>\n",
              "      <td>Iansa Agro</td>\n",
              "      <td>1.6379</td>\n",
              "      <td>0.483434</td>\n",
              "      <td>0.499573</td>\n",
              "      <td>0</td>\n",
              "      <td>despensa</td>\n",
              "      <td>5</td>\n",
              "      <td>arroz-y-legumbres</td>\n",
              "      <td>2022-07-16 21:25:28.860226</td>\n",
              "      <td>1 un</td>\n",
              "      <td>1</td>\n",
              "      <td>17</td>\n",
              "      <td>2</td>\n",
              "    </tr>\n",
              "  </tbody>\n",
              "</table>\n",
              "</div>\n",
              "    <div class=\"colab-df-buttons\">\n",
              "\n",
              "  <div class=\"colab-df-container\">\n",
              "    <button class=\"colab-df-convert\" onclick=\"convertToInteractive('df-92e44f32-20d1-4b7e-9f04-fe2e6a9976d2')\"\n",
              "            title=\"Convert this dataframe to an interactive table.\"\n",
              "            style=\"display:none;\">\n",
              "\n",
              "  <svg xmlns=\"http://www.w3.org/2000/svg\" height=\"24px\" viewBox=\"0 -960 960 960\">\n",
              "    <path d=\"M120-120v-720h720v720H120Zm60-500h600v-160H180v160Zm220 220h160v-160H400v160Zm0 220h160v-160H400v160ZM180-400h160v-160H180v160Zm440 0h160v-160H620v160ZM180-180h160v-160H180v160Zm440 0h160v-160H620v160Z\"/>\n",
              "  </svg>\n",
              "    </button>\n",
              "\n",
              "  <style>\n",
              "    .colab-df-container {\n",
              "      display:flex;\n",
              "      gap: 12px;\n",
              "    }\n",
              "\n",
              "    .colab-df-convert {\n",
              "      background-color: #E8F0FE;\n",
              "      border: none;\n",
              "      border-radius: 50%;\n",
              "      cursor: pointer;\n",
              "      display: none;\n",
              "      fill: #1967D2;\n",
              "      height: 32px;\n",
              "      padding: 0 0 0 0;\n",
              "      width: 32px;\n",
              "    }\n",
              "\n",
              "    .colab-df-convert:hover {\n",
              "      background-color: #E2EBFA;\n",
              "      box-shadow: 0px 1px 2px rgba(60, 64, 67, 0.3), 0px 1px 3px 1px rgba(60, 64, 67, 0.15);\n",
              "      fill: #174EA6;\n",
              "    }\n",
              "\n",
              "    .colab-df-buttons div {\n",
              "      margin-bottom: 4px;\n",
              "    }\n",
              "\n",
              "    [theme=dark] .colab-df-convert {\n",
              "      background-color: #3B4455;\n",
              "      fill: #D2E3FC;\n",
              "    }\n",
              "\n",
              "    [theme=dark] .colab-df-convert:hover {\n",
              "      background-color: #434B5C;\n",
              "      box-shadow: 0px 1px 3px 1px rgba(0, 0, 0, 0.15);\n",
              "      filter: drop-shadow(0px 1px 2px rgba(0, 0, 0, 0.3));\n",
              "      fill: #FFFFFF;\n",
              "    }\n",
              "  </style>\n",
              "\n",
              "    <script>\n",
              "      const buttonEl =\n",
              "        document.querySelector('#df-92e44f32-20d1-4b7e-9f04-fe2e6a9976d2 button.colab-df-convert');\n",
              "      buttonEl.style.display =\n",
              "        google.colab.kernel.accessAllowed ? 'block' : 'none';\n",
              "\n",
              "      async function convertToInteractive(key) {\n",
              "        const element = document.querySelector('#df-92e44f32-20d1-4b7e-9f04-fe2e6a9976d2');\n",
              "        const dataTable =\n",
              "          await google.colab.kernel.invokeFunction('convertToInteractive',\n",
              "                                                    [key], {});\n",
              "        if (!dataTable) return;\n",
              "\n",
              "        const docLinkHtml = 'Like what you see? Visit the ' +\n",
              "          '<a target=\"_blank\" href=https://colab.research.google.com/notebooks/data_table.ipynb>data table notebook</a>'\n",
              "          + ' to learn more about interactive tables.';\n",
              "        element.innerHTML = '';\n",
              "        dataTable['output_type'] = 'display_data';\n",
              "        await google.colab.output.renderOutput(dataTable, element);\n",
              "        const docLink = document.createElement('div');\n",
              "        docLink.innerHTML = docLinkHtml;\n",
              "        element.appendChild(docLink);\n",
              "      }\n",
              "    </script>\n",
              "  </div>\n",
              "\n",
              "\n",
              "<div id=\"df-7a775c55-2bce-4a22-8024-089391bfdcd7\">\n",
              "  <button class=\"colab-df-quickchart\" onclick=\"quickchart('df-7a775c55-2bce-4a22-8024-089391bfdcd7')\"\n",
              "            title=\"Suggest charts\"\n",
              "            style=\"display:none;\">\n",
              "\n",
              "<svg xmlns=\"http://www.w3.org/2000/svg\" height=\"24px\"viewBox=\"0 0 24 24\"\n",
              "     width=\"24px\">\n",
              "    <g>\n",
              "        <path d=\"M19 3H5c-1.1 0-2 .9-2 2v14c0 1.1.9 2 2 2h14c1.1 0 2-.9 2-2V5c0-1.1-.9-2-2-2zM9 17H7v-7h2v7zm4 0h-2V7h2v10zm4 0h-2v-4h2v4z\"/>\n",
              "    </g>\n",
              "</svg>\n",
              "  </button>\n",
              "\n",
              "<style>\n",
              "  .colab-df-quickchart {\n",
              "      --bg-color: #E8F0FE;\n",
              "      --fill-color: #1967D2;\n",
              "      --hover-bg-color: #E2EBFA;\n",
              "      --hover-fill-color: #174EA6;\n",
              "      --disabled-fill-color: #AAA;\n",
              "      --disabled-bg-color: #DDD;\n",
              "  }\n",
              "\n",
              "  [theme=dark] .colab-df-quickchart {\n",
              "      --bg-color: #3B4455;\n",
              "      --fill-color: #D2E3FC;\n",
              "      --hover-bg-color: #434B5C;\n",
              "      --hover-fill-color: #FFFFFF;\n",
              "      --disabled-bg-color: #3B4455;\n",
              "      --disabled-fill-color: #666;\n",
              "  }\n",
              "\n",
              "  .colab-df-quickchart {\n",
              "    background-color: var(--bg-color);\n",
              "    border: none;\n",
              "    border-radius: 50%;\n",
              "    cursor: pointer;\n",
              "    display: none;\n",
              "    fill: var(--fill-color);\n",
              "    height: 32px;\n",
              "    padding: 0;\n",
              "    width: 32px;\n",
              "  }\n",
              "\n",
              "  .colab-df-quickchart:hover {\n",
              "    background-color: var(--hover-bg-color);\n",
              "    box-shadow: 0 1px 2px rgba(60, 64, 67, 0.3), 0 1px 3px 1px rgba(60, 64, 67, 0.15);\n",
              "    fill: var(--button-hover-fill-color);\n",
              "  }\n",
              "\n",
              "  .colab-df-quickchart-complete:disabled,\n",
              "  .colab-df-quickchart-complete:disabled:hover {\n",
              "    background-color: var(--disabled-bg-color);\n",
              "    fill: var(--disabled-fill-color);\n",
              "    box-shadow: none;\n",
              "  }\n",
              "\n",
              "  .colab-df-spinner {\n",
              "    border: 2px solid var(--fill-color);\n",
              "    border-color: transparent;\n",
              "    border-bottom-color: var(--fill-color);\n",
              "    animation:\n",
              "      spin 1s steps(1) infinite;\n",
              "  }\n",
              "\n",
              "  @keyframes spin {\n",
              "    0% {\n",
              "      border-color: transparent;\n",
              "      border-bottom-color: var(--fill-color);\n",
              "      border-left-color: var(--fill-color);\n",
              "    }\n",
              "    20% {\n",
              "      border-color: transparent;\n",
              "      border-left-color: var(--fill-color);\n",
              "      border-top-color: var(--fill-color);\n",
              "    }\n",
              "    30% {\n",
              "      border-color: transparent;\n",
              "      border-left-color: var(--fill-color);\n",
              "      border-top-color: var(--fill-color);\n",
              "      border-right-color: var(--fill-color);\n",
              "    }\n",
              "    40% {\n",
              "      border-color: transparent;\n",
              "      border-right-color: var(--fill-color);\n",
              "      border-top-color: var(--fill-color);\n",
              "    }\n",
              "    60% {\n",
              "      border-color: transparent;\n",
              "      border-right-color: var(--fill-color);\n",
              "    }\n",
              "    80% {\n",
              "      border-color: transparent;\n",
              "      border-right-color: var(--fill-color);\n",
              "      border-bottom-color: var(--fill-color);\n",
              "    }\n",
              "    90% {\n",
              "      border-color: transparent;\n",
              "      border-bottom-color: var(--fill-color);\n",
              "    }\n",
              "  }\n",
              "</style>\n",
              "\n",
              "  <script>\n",
              "    async function quickchart(key) {\n",
              "      const quickchartButtonEl =\n",
              "        document.querySelector('#' + key + ' button');\n",
              "      quickchartButtonEl.disabled = true;  // To prevent multiple clicks.\n",
              "      quickchartButtonEl.classList.add('colab-df-spinner');\n",
              "      try {\n",
              "        const charts = await google.colab.kernel.invokeFunction(\n",
              "            'suggestCharts', [key], {});\n",
              "      } catch (error) {\n",
              "        console.error('Error during call to suggestCharts:', error);\n",
              "      }\n",
              "      quickchartButtonEl.classList.remove('colab-df-spinner');\n",
              "      quickchartButtonEl.classList.add('colab-df-quickchart-complete');\n",
              "    }\n",
              "    (() => {\n",
              "      let quickchartButtonEl =\n",
              "        document.querySelector('#df-7a775c55-2bce-4a22-8024-089391bfdcd7 button');\n",
              "      quickchartButtonEl.style.display =\n",
              "        google.colab.kernel.accessAllowed ? 'block' : 'none';\n",
              "    })();\n",
              "  </script>\n",
              "</div>\n",
              "    </div>\n",
              "  </div>\n"
            ]
          },
          "metadata": {},
          "execution_count": 321
        }
      ]
    },
    {
      "cell_type": "code",
      "source": [
        "df_dup[df_dup.duplicated()].sample(6)"
      ],
      "metadata": {
        "colab": {
          "base_uri": "https://localhost:8080/",
          "height": 237
        },
        "id": "FiyPiMAp4R9N",
        "outputId": "496d9d29-c977-4cde-e1eb-e06b4a0fb470"
      },
      "id": "FiyPiMAp4R9N",
      "execution_count": null,
      "outputs": [
        {
          "output_type": "execute_result",
          "data": {
            "text/plain": [
              "                          NOMBRE_PRODUCTO         MARCA\n",
              "3863       Arroz integral grado 1 de 1 kg    Iansa Agro\n",
              "3238             Bicarbonato sódico 200 g    Carmencita\n",
              "3111              Aceite maravilla 900 ml  Cuisine & Co\n",
              "3431  Salmón lata en aceite 100 g drenado  Cuisine & Co\n",
              "3202           Aliño completo sobre 100 g       Gourmet\n",
              "3182  Aceite de Oliva extra virgen 500 ml   Terra Santa"
            ],
            "text/html": [
              "\n",
              "  <div id=\"df-c4744255-39ef-42fe-8230-8d57e7ff7e1f\" class=\"colab-df-container\">\n",
              "    <div>\n",
              "<style scoped>\n",
              "    .dataframe tbody tr th:only-of-type {\n",
              "        vertical-align: middle;\n",
              "    }\n",
              "\n",
              "    .dataframe tbody tr th {\n",
              "        vertical-align: top;\n",
              "    }\n",
              "\n",
              "    .dataframe thead th {\n",
              "        text-align: right;\n",
              "    }\n",
              "</style>\n",
              "<table border=\"1\" class=\"dataframe\">\n",
              "  <thead>\n",
              "    <tr style=\"text-align: right;\">\n",
              "      <th></th>\n",
              "      <th>NOMBRE_PRODUCTO</th>\n",
              "      <th>MARCA</th>\n",
              "    </tr>\n",
              "  </thead>\n",
              "  <tbody>\n",
              "    <tr>\n",
              "      <th>3863</th>\n",
              "      <td>Arroz integral grado 1 de 1 kg</td>\n",
              "      <td>Iansa Agro</td>\n",
              "    </tr>\n",
              "    <tr>\n",
              "      <th>3238</th>\n",
              "      <td>Bicarbonato sódico 200 g</td>\n",
              "      <td>Carmencita</td>\n",
              "    </tr>\n",
              "    <tr>\n",
              "      <th>3111</th>\n",
              "      <td>Aceite maravilla 900 ml</td>\n",
              "      <td>Cuisine &amp; Co</td>\n",
              "    </tr>\n",
              "    <tr>\n",
              "      <th>3431</th>\n",
              "      <td>Salmón lata en aceite 100 g drenado</td>\n",
              "      <td>Cuisine &amp; Co</td>\n",
              "    </tr>\n",
              "    <tr>\n",
              "      <th>3202</th>\n",
              "      <td>Aliño completo sobre 100 g</td>\n",
              "      <td>Gourmet</td>\n",
              "    </tr>\n",
              "    <tr>\n",
              "      <th>3182</th>\n",
              "      <td>Aceite de Oliva extra virgen 500 ml</td>\n",
              "      <td>Terra Santa</td>\n",
              "    </tr>\n",
              "  </tbody>\n",
              "</table>\n",
              "</div>\n",
              "    <div class=\"colab-df-buttons\">\n",
              "\n",
              "  <div class=\"colab-df-container\">\n",
              "    <button class=\"colab-df-convert\" onclick=\"convertToInteractive('df-c4744255-39ef-42fe-8230-8d57e7ff7e1f')\"\n",
              "            title=\"Convert this dataframe to an interactive table.\"\n",
              "            style=\"display:none;\">\n",
              "\n",
              "  <svg xmlns=\"http://www.w3.org/2000/svg\" height=\"24px\" viewBox=\"0 -960 960 960\">\n",
              "    <path d=\"M120-120v-720h720v720H120Zm60-500h600v-160H180v160Zm220 220h160v-160H400v160Zm0 220h160v-160H400v160ZM180-400h160v-160H180v160Zm440 0h160v-160H620v160ZM180-180h160v-160H180v160Zm440 0h160v-160H620v160Z\"/>\n",
              "  </svg>\n",
              "    </button>\n",
              "\n",
              "  <style>\n",
              "    .colab-df-container {\n",
              "      display:flex;\n",
              "      gap: 12px;\n",
              "    }\n",
              "\n",
              "    .colab-df-convert {\n",
              "      background-color: #E8F0FE;\n",
              "      border: none;\n",
              "      border-radius: 50%;\n",
              "      cursor: pointer;\n",
              "      display: none;\n",
              "      fill: #1967D2;\n",
              "      height: 32px;\n",
              "      padding: 0 0 0 0;\n",
              "      width: 32px;\n",
              "    }\n",
              "\n",
              "    .colab-df-convert:hover {\n",
              "      background-color: #E2EBFA;\n",
              "      box-shadow: 0px 1px 2px rgba(60, 64, 67, 0.3), 0px 1px 3px 1px rgba(60, 64, 67, 0.15);\n",
              "      fill: #174EA6;\n",
              "    }\n",
              "\n",
              "    .colab-df-buttons div {\n",
              "      margin-bottom: 4px;\n",
              "    }\n",
              "\n",
              "    [theme=dark] .colab-df-convert {\n",
              "      background-color: #3B4455;\n",
              "      fill: #D2E3FC;\n",
              "    }\n",
              "\n",
              "    [theme=dark] .colab-df-convert:hover {\n",
              "      background-color: #434B5C;\n",
              "      box-shadow: 0px 1px 3px 1px rgba(0, 0, 0, 0.15);\n",
              "      filter: drop-shadow(0px 1px 2px rgba(0, 0, 0, 0.3));\n",
              "      fill: #FFFFFF;\n",
              "    }\n",
              "  </style>\n",
              "\n",
              "    <script>\n",
              "      const buttonEl =\n",
              "        document.querySelector('#df-c4744255-39ef-42fe-8230-8d57e7ff7e1f button.colab-df-convert');\n",
              "      buttonEl.style.display =\n",
              "        google.colab.kernel.accessAllowed ? 'block' : 'none';\n",
              "\n",
              "      async function convertToInteractive(key) {\n",
              "        const element = document.querySelector('#df-c4744255-39ef-42fe-8230-8d57e7ff7e1f');\n",
              "        const dataTable =\n",
              "          await google.colab.kernel.invokeFunction('convertToInteractive',\n",
              "                                                    [key], {});\n",
              "        if (!dataTable) return;\n",
              "\n",
              "        const docLinkHtml = 'Like what you see? Visit the ' +\n",
              "          '<a target=\"_blank\" href=https://colab.research.google.com/notebooks/data_table.ipynb>data table notebook</a>'\n",
              "          + ' to learn more about interactive tables.';\n",
              "        element.innerHTML = '';\n",
              "        dataTable['output_type'] = 'display_data';\n",
              "        await google.colab.output.renderOutput(dataTable, element);\n",
              "        const docLink = document.createElement('div');\n",
              "        docLink.innerHTML = docLinkHtml;\n",
              "        element.appendChild(docLink);\n",
              "      }\n",
              "    </script>\n",
              "  </div>\n",
              "\n",
              "\n",
              "<div id=\"df-14cec88a-8419-4f02-ae86-f11c9c708bff\">\n",
              "  <button class=\"colab-df-quickchart\" onclick=\"quickchart('df-14cec88a-8419-4f02-ae86-f11c9c708bff')\"\n",
              "            title=\"Suggest charts\"\n",
              "            style=\"display:none;\">\n",
              "\n",
              "<svg xmlns=\"http://www.w3.org/2000/svg\" height=\"24px\"viewBox=\"0 0 24 24\"\n",
              "     width=\"24px\">\n",
              "    <g>\n",
              "        <path d=\"M19 3H5c-1.1 0-2 .9-2 2v14c0 1.1.9 2 2 2h14c1.1 0 2-.9 2-2V5c0-1.1-.9-2-2-2zM9 17H7v-7h2v7zm4 0h-2V7h2v10zm4 0h-2v-4h2v4z\"/>\n",
              "    </g>\n",
              "</svg>\n",
              "  </button>\n",
              "\n",
              "<style>\n",
              "  .colab-df-quickchart {\n",
              "      --bg-color: #E8F0FE;\n",
              "      --fill-color: #1967D2;\n",
              "      --hover-bg-color: #E2EBFA;\n",
              "      --hover-fill-color: #174EA6;\n",
              "      --disabled-fill-color: #AAA;\n",
              "      --disabled-bg-color: #DDD;\n",
              "  }\n",
              "\n",
              "  [theme=dark] .colab-df-quickchart {\n",
              "      --bg-color: #3B4455;\n",
              "      --fill-color: #D2E3FC;\n",
              "      --hover-bg-color: #434B5C;\n",
              "      --hover-fill-color: #FFFFFF;\n",
              "      --disabled-bg-color: #3B4455;\n",
              "      --disabled-fill-color: #666;\n",
              "  }\n",
              "\n",
              "  .colab-df-quickchart {\n",
              "    background-color: var(--bg-color);\n",
              "    border: none;\n",
              "    border-radius: 50%;\n",
              "    cursor: pointer;\n",
              "    display: none;\n",
              "    fill: var(--fill-color);\n",
              "    height: 32px;\n",
              "    padding: 0;\n",
              "    width: 32px;\n",
              "  }\n",
              "\n",
              "  .colab-df-quickchart:hover {\n",
              "    background-color: var(--hover-bg-color);\n",
              "    box-shadow: 0 1px 2px rgba(60, 64, 67, 0.3), 0 1px 3px 1px rgba(60, 64, 67, 0.15);\n",
              "    fill: var(--button-hover-fill-color);\n",
              "  }\n",
              "\n",
              "  .colab-df-quickchart-complete:disabled,\n",
              "  .colab-df-quickchart-complete:disabled:hover {\n",
              "    background-color: var(--disabled-bg-color);\n",
              "    fill: var(--disabled-fill-color);\n",
              "    box-shadow: none;\n",
              "  }\n",
              "\n",
              "  .colab-df-spinner {\n",
              "    border: 2px solid var(--fill-color);\n",
              "    border-color: transparent;\n",
              "    border-bottom-color: var(--fill-color);\n",
              "    animation:\n",
              "      spin 1s steps(1) infinite;\n",
              "  }\n",
              "\n",
              "  @keyframes spin {\n",
              "    0% {\n",
              "      border-color: transparent;\n",
              "      border-bottom-color: var(--fill-color);\n",
              "      border-left-color: var(--fill-color);\n",
              "    }\n",
              "    20% {\n",
              "      border-color: transparent;\n",
              "      border-left-color: var(--fill-color);\n",
              "      border-top-color: var(--fill-color);\n",
              "    }\n",
              "    30% {\n",
              "      border-color: transparent;\n",
              "      border-left-color: var(--fill-color);\n",
              "      border-top-color: var(--fill-color);\n",
              "      border-right-color: var(--fill-color);\n",
              "    }\n",
              "    40% {\n",
              "      border-color: transparent;\n",
              "      border-right-color: var(--fill-color);\n",
              "      border-top-color: var(--fill-color);\n",
              "    }\n",
              "    60% {\n",
              "      border-color: transparent;\n",
              "      border-right-color: var(--fill-color);\n",
              "    }\n",
              "    80% {\n",
              "      border-color: transparent;\n",
              "      border-right-color: var(--fill-color);\n",
              "      border-bottom-color: var(--fill-color);\n",
              "    }\n",
              "    90% {\n",
              "      border-color: transparent;\n",
              "      border-bottom-color: var(--fill-color);\n",
              "    }\n",
              "  }\n",
              "</style>\n",
              "\n",
              "  <script>\n",
              "    async function quickchart(key) {\n",
              "      const quickchartButtonEl =\n",
              "        document.querySelector('#' + key + ' button');\n",
              "      quickchartButtonEl.disabled = true;  // To prevent multiple clicks.\n",
              "      quickchartButtonEl.classList.add('colab-df-spinner');\n",
              "      try {\n",
              "        const charts = await google.colab.kernel.invokeFunction(\n",
              "            'suggestCharts', [key], {});\n",
              "      } catch (error) {\n",
              "        console.error('Error during call to suggestCharts:', error);\n",
              "      }\n",
              "      quickchartButtonEl.classList.remove('colab-df-spinner');\n",
              "      quickchartButtonEl.classList.add('colab-df-quickchart-complete');\n",
              "    }\n",
              "    (() => {\n",
              "      let quickchartButtonEl =\n",
              "        document.querySelector('#df-14cec88a-8419-4f02-ae86-f11c9c708bff button');\n",
              "      quickchartButtonEl.style.display =\n",
              "        google.colab.kernel.accessAllowed ? 'block' : 'none';\n",
              "    })();\n",
              "  </script>\n",
              "</div>\n",
              "    </div>\n",
              "  </div>\n"
            ]
          },
          "metadata": {},
          "execution_count": 314
        }
      ]
    },
    {
      "cell_type": "markdown",
      "source": [
        "EJECUTAR SOLO UNA VEZ PARA NO DUPLICAR EL RESULTADO."
      ],
      "metadata": {
        "id": "DJYXE-hhTXNV"
      },
      "id": "DJYXE-hhTXNV"
    },
    {
      "cell_type": "code",
      "source": [
        "df[\"PRECIO_SIN_OFERTA\"]=df[\"PRECIO_SIN_OFERTA\"]*0.0011\n",
        "df[\"PRECIO_OFERTA_MIN\"]=df[\"PRECIO_OFERTA_MIN\"]*0.0011\n",
        "df[\"PRECIO_OFERTA_MAX\"]=df[\"PRECIO_OFERTA_MAX\"]*0.0011"
      ],
      "metadata": {
        "id": "lGW4VA4HPR67"
      },
      "id": "lGW4VA4HPR67",
      "execution_count": 117,
      "outputs": []
    },
    {
      "cell_type": "code",
      "source": [
        "media_prc = df['PRECIO_SIN_OFERTA'].mean()\n",
        "df['PRECIO_SIN_OFERTA'].replace(to_replace=0.0,value=media_prc,inplace=True)\n",
        "media_max = df['PRECIO_OFERTA_MAX'].mean()\n",
        "df['PRECIO_OFERTA_MAX'].replace(to_replace=0.0,value=media_max,inplace=True)\n",
        "media_min = df['PRECIO_OFERTA_MIN'].mean()\n",
        "df['PRECIO_OFERTA_MIN'].replace(to_replace=0.0,value=media_min,inplace=True)"
      ],
      "metadata": {
        "id": "LrPmoovrRo2K"
      },
      "execution_count": 118,
      "outputs": [],
      "id": "LrPmoovrRo2K"
    },
    {
      "cell_type": "code",
      "source": [
        "num_pasillos = list(df[\"ZONA_SUPERMERCADO\"].unique())\n",
        "num_pasillos"
      ],
      "metadata": {
        "colab": {
          "base_uri": "https://localhost:8080/"
        },
        "id": "LQE1Zd6_S3zE",
        "outputId": "211a3c71-040d-47ef-9357-40283ab6410e"
      },
      "id": "LQE1Zd6_S3zE",
      "execution_count": 119,
      "outputs": [
        {
          "output_type": "execute_result",
          "data": {
            "text/plain": [
              "['supermercados', 'lacteos', 'frutas-y-verduras', 'carniceria', 'despensa']"
            ]
          },
          "metadata": {},
          "execution_count": 119
        }
      ]
    },
    {
      "cell_type": "code",
      "source": [
        "lista = []\n",
        "for i in df[\"ZONA_SUPERMERCADO\"]:\n",
        "  if i in num_pasillos:\n",
        "    lista.append(num_pasillos.index(i)+1)\n",
        "df.insert(7,\"NUM_PASILLOS\",lista)"
      ],
      "metadata": {
        "id": "lutP0gORn5uP"
      },
      "id": "lutP0gORn5uP",
      "execution_count": 120,
      "outputs": []
    },
    {
      "cell_type": "code",
      "source": [
        "len(lista) == len(df[\"ZONA_SUPERMERCADO\"])"
      ],
      "metadata": {
        "colab": {
          "base_uri": "https://localhost:8080/"
        },
        "id": "LbRRpQGjn5kz",
        "outputId": "bd242bce-7523-49d5-d7f1-a0fa3ead129a"
      },
      "id": "LbRRpQGjn5kz",
      "execution_count": 121,
      "outputs": [
        {
          "output_type": "execute_result",
          "data": {
            "text/plain": [
              "True"
            ]
          },
          "metadata": {},
          "execution_count": 121
        }
      ]
    },
    {
      "cell_type": "code",
      "source": [
        "num_pasillos"
      ],
      "metadata": {
        "colab": {
          "base_uri": "https://localhost:8080/"
        },
        "id": "FDrr2iFVfE3Z",
        "outputId": "dc8c457d-0693-4178-e054-d29c55159131"
      },
      "id": "FDrr2iFVfE3Z",
      "execution_count": 122,
      "outputs": [
        {
          "output_type": "execute_result",
          "data": {
            "text/plain": [
              "['supermercados', 'lacteos', 'frutas-y-verduras', 'carniceria', 'despensa']"
            ]
          },
          "metadata": {},
          "execution_count": 122
        }
      ]
    },
    {
      "cell_type": "code",
      "source": [
        "list(df[\"ZONA_SUPERMERCADO\"].unique())"
      ],
      "metadata": {
        "colab": {
          "base_uri": "https://localhost:8080/"
        },
        "id": "6855_2qjnXwD",
        "outputId": "4e73ed89-fef0-445f-fe37-62c37ae2810f"
      },
      "id": "6855_2qjnXwD",
      "execution_count": 123,
      "outputs": [
        {
          "output_type": "execute_result",
          "data": {
            "text/plain": [
              "['supermercados', 'lacteos', 'frutas-y-verduras', 'carniceria', 'despensa']"
            ]
          },
          "metadata": {},
          "execution_count": 123
        }
      ]
    },
    {
      "cell_type": "code",
      "source": [
        "df.sample(4)"
      ],
      "metadata": {
        "colab": {
          "base_uri": "https://localhost:8080/",
          "height": 316
        },
        "id": "MjWj0Bj4WuUu",
        "outputId": "0c9fcd92-2f94-481d-cb23-3d1ede3f31e5"
      },
      "id": "MjWj0Bj4WuUu",
      "execution_count": 124,
      "outputs": [
        {
          "output_type": "execute_result",
          "data": {
            "text/plain": [
              "                                   NOMBRE_PRODUCTO     MARCA  \\\n",
              "754      Té en bolsitas 50 un. premium negro 100 g   Supremo   \n",
              "2873                Mostaza de Dijón Bornier 370 g   Bornier   \n",
              "3976               Papas Fritas Kryzpo Queso 130 g    Kryzpo   \n",
              "4405  Filetes de Merluza congelados apanados 500 g  El Golfo   \n",
              "\n",
              "      PRECIO_SIN_OFERTA  PRECIO_OFERTA_MIN  PRECIO_OFERTA_MAX  OFERTA  \\\n",
              "754            2.022900           0.483434           0.499573       0   \n",
              "2873           5.454900           0.483434           0.499573       0   \n",
              "3976           2.162448           2.022900           0.499573       1   \n",
              "4405           5.049000           0.483434           0.499573       0   \n",
              "\n",
              "     ZONA_SUPERMERCADO  NUM_PASILLOS      TIPO_PRODUCTO  \\\n",
              "754      supermercados             1  desayuno-y-dulces   \n",
              "2873          despensa             5  aderezos-y-salsas   \n",
              "3976          despensa             5             coctel   \n",
              "4405     supermercados             1         pescaderia   \n",
              "\n",
              "                        DATATIME ATRIBUTOS  STOCK  CANTIDAD_STOCK  PAGE  \n",
              "754   2022-07-16 22:11:26.364649      1 un      1               7     1  \n",
              "2873  2022-07-16 20:20:00.576384      1 un      1              22     3  \n",
              "3976  2022-07-16 21:25:28.860226      1 un      1              13     2  \n",
              "4405  2022-07-16 21:25:28.860226      1 un      1              24     1  "
            ],
            "text/html": [
              "\n",
              "  <div id=\"df-cd93b82b-4d59-4e4e-aacc-0625be5c61a1\" class=\"colab-df-container\">\n",
              "    <div>\n",
              "<style scoped>\n",
              "    .dataframe tbody tr th:only-of-type {\n",
              "        vertical-align: middle;\n",
              "    }\n",
              "\n",
              "    .dataframe tbody tr th {\n",
              "        vertical-align: top;\n",
              "    }\n",
              "\n",
              "    .dataframe thead th {\n",
              "        text-align: right;\n",
              "    }\n",
              "</style>\n",
              "<table border=\"1\" class=\"dataframe\">\n",
              "  <thead>\n",
              "    <tr style=\"text-align: right;\">\n",
              "      <th></th>\n",
              "      <th>NOMBRE_PRODUCTO</th>\n",
              "      <th>MARCA</th>\n",
              "      <th>PRECIO_SIN_OFERTA</th>\n",
              "      <th>PRECIO_OFERTA_MIN</th>\n",
              "      <th>PRECIO_OFERTA_MAX</th>\n",
              "      <th>OFERTA</th>\n",
              "      <th>ZONA_SUPERMERCADO</th>\n",
              "      <th>NUM_PASILLOS</th>\n",
              "      <th>TIPO_PRODUCTO</th>\n",
              "      <th>DATATIME</th>\n",
              "      <th>ATRIBUTOS</th>\n",
              "      <th>STOCK</th>\n",
              "      <th>CANTIDAD_STOCK</th>\n",
              "      <th>PAGE</th>\n",
              "    </tr>\n",
              "  </thead>\n",
              "  <tbody>\n",
              "    <tr>\n",
              "      <th>754</th>\n",
              "      <td>Té en bolsitas 50 un. premium negro 100 g</td>\n",
              "      <td>Supremo</td>\n",
              "      <td>2.022900</td>\n",
              "      <td>0.483434</td>\n",
              "      <td>0.499573</td>\n",
              "      <td>0</td>\n",
              "      <td>supermercados</td>\n",
              "      <td>1</td>\n",
              "      <td>desayuno-y-dulces</td>\n",
              "      <td>2022-07-16 22:11:26.364649</td>\n",
              "      <td>1 un</td>\n",
              "      <td>1</td>\n",
              "      <td>7</td>\n",
              "      <td>1</td>\n",
              "    </tr>\n",
              "    <tr>\n",
              "      <th>2873</th>\n",
              "      <td>Mostaza de Dijón Bornier 370 g</td>\n",
              "      <td>Bornier</td>\n",
              "      <td>5.454900</td>\n",
              "      <td>0.483434</td>\n",
              "      <td>0.499573</td>\n",
              "      <td>0</td>\n",
              "      <td>despensa</td>\n",
              "      <td>5</td>\n",
              "      <td>aderezos-y-salsas</td>\n",
              "      <td>2022-07-16 20:20:00.576384</td>\n",
              "      <td>1 un</td>\n",
              "      <td>1</td>\n",
              "      <td>22</td>\n",
              "      <td>3</td>\n",
              "    </tr>\n",
              "    <tr>\n",
              "      <th>3976</th>\n",
              "      <td>Papas Fritas Kryzpo Queso 130 g</td>\n",
              "      <td>Kryzpo</td>\n",
              "      <td>2.162448</td>\n",
              "      <td>2.022900</td>\n",
              "      <td>0.499573</td>\n",
              "      <td>1</td>\n",
              "      <td>despensa</td>\n",
              "      <td>5</td>\n",
              "      <td>coctel</td>\n",
              "      <td>2022-07-16 21:25:28.860226</td>\n",
              "      <td>1 un</td>\n",
              "      <td>1</td>\n",
              "      <td>13</td>\n",
              "      <td>2</td>\n",
              "    </tr>\n",
              "    <tr>\n",
              "      <th>4405</th>\n",
              "      <td>Filetes de Merluza congelados apanados 500 g</td>\n",
              "      <td>El Golfo</td>\n",
              "      <td>5.049000</td>\n",
              "      <td>0.483434</td>\n",
              "      <td>0.499573</td>\n",
              "      <td>0</td>\n",
              "      <td>supermercados</td>\n",
              "      <td>1</td>\n",
              "      <td>pescaderia</td>\n",
              "      <td>2022-07-16 21:25:28.860226</td>\n",
              "      <td>1 un</td>\n",
              "      <td>1</td>\n",
              "      <td>24</td>\n",
              "      <td>1</td>\n",
              "    </tr>\n",
              "  </tbody>\n",
              "</table>\n",
              "</div>\n",
              "    <div class=\"colab-df-buttons\">\n",
              "\n",
              "  <div class=\"colab-df-container\">\n",
              "    <button class=\"colab-df-convert\" onclick=\"convertToInteractive('df-cd93b82b-4d59-4e4e-aacc-0625be5c61a1')\"\n",
              "            title=\"Convert this dataframe to an interactive table.\"\n",
              "            style=\"display:none;\">\n",
              "\n",
              "  <svg xmlns=\"http://www.w3.org/2000/svg\" height=\"24px\" viewBox=\"0 -960 960 960\">\n",
              "    <path d=\"M120-120v-720h720v720H120Zm60-500h600v-160H180v160Zm220 220h160v-160H400v160Zm0 220h160v-160H400v160ZM180-400h160v-160H180v160Zm440 0h160v-160H620v160ZM180-180h160v-160H180v160Zm440 0h160v-160H620v160Z\"/>\n",
              "  </svg>\n",
              "    </button>\n",
              "\n",
              "  <style>\n",
              "    .colab-df-container {\n",
              "      display:flex;\n",
              "      gap: 12px;\n",
              "    }\n",
              "\n",
              "    .colab-df-convert {\n",
              "      background-color: #E8F0FE;\n",
              "      border: none;\n",
              "      border-radius: 50%;\n",
              "      cursor: pointer;\n",
              "      display: none;\n",
              "      fill: #1967D2;\n",
              "      height: 32px;\n",
              "      padding: 0 0 0 0;\n",
              "      width: 32px;\n",
              "    }\n",
              "\n",
              "    .colab-df-convert:hover {\n",
              "      background-color: #E2EBFA;\n",
              "      box-shadow: 0px 1px 2px rgba(60, 64, 67, 0.3), 0px 1px 3px 1px rgba(60, 64, 67, 0.15);\n",
              "      fill: #174EA6;\n",
              "    }\n",
              "\n",
              "    .colab-df-buttons div {\n",
              "      margin-bottom: 4px;\n",
              "    }\n",
              "\n",
              "    [theme=dark] .colab-df-convert {\n",
              "      background-color: #3B4455;\n",
              "      fill: #D2E3FC;\n",
              "    }\n",
              "\n",
              "    [theme=dark] .colab-df-convert:hover {\n",
              "      background-color: #434B5C;\n",
              "      box-shadow: 0px 1px 3px 1px rgba(0, 0, 0, 0.15);\n",
              "      filter: drop-shadow(0px 1px 2px rgba(0, 0, 0, 0.3));\n",
              "      fill: #FFFFFF;\n",
              "    }\n",
              "  </style>\n",
              "\n",
              "    <script>\n",
              "      const buttonEl =\n",
              "        document.querySelector('#df-cd93b82b-4d59-4e4e-aacc-0625be5c61a1 button.colab-df-convert');\n",
              "      buttonEl.style.display =\n",
              "        google.colab.kernel.accessAllowed ? 'block' : 'none';\n",
              "\n",
              "      async function convertToInteractive(key) {\n",
              "        const element = document.querySelector('#df-cd93b82b-4d59-4e4e-aacc-0625be5c61a1');\n",
              "        const dataTable =\n",
              "          await google.colab.kernel.invokeFunction('convertToInteractive',\n",
              "                                                    [key], {});\n",
              "        if (!dataTable) return;\n",
              "\n",
              "        const docLinkHtml = 'Like what you see? Visit the ' +\n",
              "          '<a target=\"_blank\" href=https://colab.research.google.com/notebooks/data_table.ipynb>data table notebook</a>'\n",
              "          + ' to learn more about interactive tables.';\n",
              "        element.innerHTML = '';\n",
              "        dataTable['output_type'] = 'display_data';\n",
              "        await google.colab.output.renderOutput(dataTable, element);\n",
              "        const docLink = document.createElement('div');\n",
              "        docLink.innerHTML = docLinkHtml;\n",
              "        element.appendChild(docLink);\n",
              "      }\n",
              "    </script>\n",
              "  </div>\n",
              "\n",
              "\n",
              "<div id=\"df-4378d1ca-d732-4126-94b1-3cb491f3f2d9\">\n",
              "  <button class=\"colab-df-quickchart\" onclick=\"quickchart('df-4378d1ca-d732-4126-94b1-3cb491f3f2d9')\"\n",
              "            title=\"Suggest charts\"\n",
              "            style=\"display:none;\">\n",
              "\n",
              "<svg xmlns=\"http://www.w3.org/2000/svg\" height=\"24px\"viewBox=\"0 0 24 24\"\n",
              "     width=\"24px\">\n",
              "    <g>\n",
              "        <path d=\"M19 3H5c-1.1 0-2 .9-2 2v14c0 1.1.9 2 2 2h14c1.1 0 2-.9 2-2V5c0-1.1-.9-2-2-2zM9 17H7v-7h2v7zm4 0h-2V7h2v10zm4 0h-2v-4h2v4z\"/>\n",
              "    </g>\n",
              "</svg>\n",
              "  </button>\n",
              "\n",
              "<style>\n",
              "  .colab-df-quickchart {\n",
              "      --bg-color: #E8F0FE;\n",
              "      --fill-color: #1967D2;\n",
              "      --hover-bg-color: #E2EBFA;\n",
              "      --hover-fill-color: #174EA6;\n",
              "      --disabled-fill-color: #AAA;\n",
              "      --disabled-bg-color: #DDD;\n",
              "  }\n",
              "\n",
              "  [theme=dark] .colab-df-quickchart {\n",
              "      --bg-color: #3B4455;\n",
              "      --fill-color: #D2E3FC;\n",
              "      --hover-bg-color: #434B5C;\n",
              "      --hover-fill-color: #FFFFFF;\n",
              "      --disabled-bg-color: #3B4455;\n",
              "      --disabled-fill-color: #666;\n",
              "  }\n",
              "\n",
              "  .colab-df-quickchart {\n",
              "    background-color: var(--bg-color);\n",
              "    border: none;\n",
              "    border-radius: 50%;\n",
              "    cursor: pointer;\n",
              "    display: none;\n",
              "    fill: var(--fill-color);\n",
              "    height: 32px;\n",
              "    padding: 0;\n",
              "    width: 32px;\n",
              "  }\n",
              "\n",
              "  .colab-df-quickchart:hover {\n",
              "    background-color: var(--hover-bg-color);\n",
              "    box-shadow: 0 1px 2px rgba(60, 64, 67, 0.3), 0 1px 3px 1px rgba(60, 64, 67, 0.15);\n",
              "    fill: var(--button-hover-fill-color);\n",
              "  }\n",
              "\n",
              "  .colab-df-quickchart-complete:disabled,\n",
              "  .colab-df-quickchart-complete:disabled:hover {\n",
              "    background-color: var(--disabled-bg-color);\n",
              "    fill: var(--disabled-fill-color);\n",
              "    box-shadow: none;\n",
              "  }\n",
              "\n",
              "  .colab-df-spinner {\n",
              "    border: 2px solid var(--fill-color);\n",
              "    border-color: transparent;\n",
              "    border-bottom-color: var(--fill-color);\n",
              "    animation:\n",
              "      spin 1s steps(1) infinite;\n",
              "  }\n",
              "\n",
              "  @keyframes spin {\n",
              "    0% {\n",
              "      border-color: transparent;\n",
              "      border-bottom-color: var(--fill-color);\n",
              "      border-left-color: var(--fill-color);\n",
              "    }\n",
              "    20% {\n",
              "      border-color: transparent;\n",
              "      border-left-color: var(--fill-color);\n",
              "      border-top-color: var(--fill-color);\n",
              "    }\n",
              "    30% {\n",
              "      border-color: transparent;\n",
              "      border-left-color: var(--fill-color);\n",
              "      border-top-color: var(--fill-color);\n",
              "      border-right-color: var(--fill-color);\n",
              "    }\n",
              "    40% {\n",
              "      border-color: transparent;\n",
              "      border-right-color: var(--fill-color);\n",
              "      border-top-color: var(--fill-color);\n",
              "    }\n",
              "    60% {\n",
              "      border-color: transparent;\n",
              "      border-right-color: var(--fill-color);\n",
              "    }\n",
              "    80% {\n",
              "      border-color: transparent;\n",
              "      border-right-color: var(--fill-color);\n",
              "      border-bottom-color: var(--fill-color);\n",
              "    }\n",
              "    90% {\n",
              "      border-color: transparent;\n",
              "      border-bottom-color: var(--fill-color);\n",
              "    }\n",
              "  }\n",
              "</style>\n",
              "\n",
              "  <script>\n",
              "    async function quickchart(key) {\n",
              "      const quickchartButtonEl =\n",
              "        document.querySelector('#' + key + ' button');\n",
              "      quickchartButtonEl.disabled = true;  // To prevent multiple clicks.\n",
              "      quickchartButtonEl.classList.add('colab-df-spinner');\n",
              "      try {\n",
              "        const charts = await google.colab.kernel.invokeFunction(\n",
              "            'suggestCharts', [key], {});\n",
              "      } catch (error) {\n",
              "        console.error('Error during call to suggestCharts:', error);\n",
              "      }\n",
              "      quickchartButtonEl.classList.remove('colab-df-spinner');\n",
              "      quickchartButtonEl.classList.add('colab-df-quickchart-complete');\n",
              "    }\n",
              "    (() => {\n",
              "      let quickchartButtonEl =\n",
              "        document.querySelector('#df-4378d1ca-d732-4126-94b1-3cb491f3f2d9 button');\n",
              "      quickchartButtonEl.style.display =\n",
              "        google.colab.kernel.accessAllowed ? 'block' : 'none';\n",
              "    })();\n",
              "  </script>\n",
              "</div>\n",
              "    </div>\n",
              "  </div>\n"
            ]
          },
          "metadata": {},
          "execution_count": 124
        }
      ]
    }
  ],
  "metadata": {
    "kernelspec": {
      "display_name": "Python 3 (ipykernel)",
      "language": "python",
      "name": "python3"
    },
    "language_info": {
      "codemirror_mode": {
        "name": "ipython",
        "version": 3
      },
      "file_extension": ".py",
      "mimetype": "text/x-python",
      "name": "python",
      "nbconvert_exporter": "python",
      "pygments_lexer": "ipython3",
      "version": "3.9.13"
    },
    "colab": {
      "provenance": [],
      "include_colab_link": true
    }
  },
  "nbformat": 4,
  "nbformat_minor": 5
}