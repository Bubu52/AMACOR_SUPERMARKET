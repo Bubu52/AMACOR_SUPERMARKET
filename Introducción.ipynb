{
  "cells": [
    {
      "cell_type": "markdown",
      "metadata": {
        "id": "view-in-github",
        "colab_type": "text"
      },
      "source": [
        "<a href=\"https://colab.research.google.com/github/Bubu52/BEST-PROJECT-IN-THE-WORLD/blob/main/Introducci%C3%B3n.ipynb\" target=\"_parent\"><img src=\"https://colab.research.google.com/assets/colab-badge.svg\" alt=\"Open In Colab\"/></a>"
      ]
    },
    {
      "cell_type": "markdown",
      "id": "b7097cc7",
      "metadata": {
        "id": "b7097cc7"
      },
      "source": [
        "<img width=600 src=\"https://impelia.org/wp-content/uploads/2022/08/impelia_logo-cabecera_-02.png\">"
      ]
    },
    {
      "cell_type": "markdown",
      "id": "7c5cf168",
      "metadata": {
        "id": "7c5cf168"
      },
      "source": [
        "Hecho por: [Kenny Garcés](https://www.linkedin.com/in/kennygarces/) y [Remei Toda](https://www.linkedin.com/in/remei-toda-ribes-185879119/)"
      ]
    },
    {
      "cell_type": "markdown",
      "id": "c2350cd8-1a4a-4c2d-9187-40351ffc2d27",
      "metadata": {
        "id": "c2350cd8-1a4a-4c2d-9187-40351ffc2d27"
      },
      "source": [
        "# Análisis de datos supermercados <strong style= 'color: red'>A</strong><strong style= 'color: green'>M</strong><strong style= 'color: orange'>A</strong><strong style= 'color: blue'>C</strong><strong style= 'color: brown'>O</strong><strong style= 'color: purple'>R</strong>\n"
      ]
    },
    {
      "cell_type": "markdown",
      "id": "9858e10b-9a61-44f8-a3ef-8f2bdaf384f4",
      "metadata": {
        "id": "9858e10b-9a61-44f8-a3ef-8f2bdaf384f4"
      },
      "source": [
        "Amacor, un renombrado supermercado con una presencia sólida en la región donde el dueño es José Pérez. Se encuentra en una fase estratégica de mejora continua para fortalecer la eficiencia de sus operaciones. Ya que actualmente se encuentran con ciertos conflictos económicos en la empresa y quieren aumentar su facturación y así evitar posibles depidos. Como parte de este proceso, el equipo de marketing de Amacor ha llevado a cabo una iniciativa ambiciosa para recopilar y analizar datos detallados sobre su inventario de productos. El objetivo es optimizar la gestión del inventario, mejorar la toma de decisiones y garantizar una experiencia de compra excepcional para sus clientes.\n",
        "\n",
        "El dataset recopilado contiene información crucial, como nombres de productos, categorías, precios, ofertas, cantidades en stock y fechas de exportación del dato. Sin embargo, durante el proceso de revisión, el equipo de marketing ha identificado desafíos sustanciales que requieren atención inmediata. Estos desafíos incluyen la ausencia de valores en ciertas columnas, la existencia de productos duplicados y la posibilidad de inconsistencias en la calidad de los datos.\n",
        "\n",
        "Esta situación ha llevado al equipo de marketing a pedir ayuda a los data scientist de Impelia. Con el fin, de poder obtener información precisa y confiable, lo que es esencial para la toma de decisiones de manera eficiente y estratégica."
      ]
    },
    {
      "cell_type": "markdown",
      "id": "ad6a8671-f559-4894-b70c-f1cebf333a94",
      "metadata": {
        "id": "ad6a8671-f559-4894-b70c-f1cebf333a94"
      },
      "source": [
        "## Metología a seguir\n",
        "\n",
        "**Análisis Inicial**: Evaluar el impacto de los valores nulos y productos duplicados en el conjunto de datos.\n",
        "Identificar las columnas clave que serán fundamentales en el proceso de limpieza y análisis.\n",
        "\n",
        "**Limpieza de Datos**: Desarrollar estrategias para abordar los valores nulos, ya sea mediante la eliminación de registros o la imputación de valores basada en el contexto.\n",
        "Implementar un procedimiento para eliminar productos duplicados, conservando solo la primera ocurrencia.\n",
        "\n",
        "**Análisis de Columnas**: Realizar un análisis exhaustivo de cada columna para comprender la naturaleza de los datos y detectar posibles anomalías.\n",
        "Proponer soluciones para corregir cualquier error o inconsistencia identificada.\n",
        "\n",
        "**Resumen Estadístico**: Generar un resumen estadístico detallado para las columnas numéricas, aprovechando gráficos y visualizaciones para destacar patrones y tendencias.\n",
        "\n",
        "**Presentación de Resultados**: Elaborar un informe completo que documente las acciones tomadas en la limpieza de datos y el análisis de los mismos.\n",
        "El informe deberá responder como mínimo a las siguientes cuestiones:\n",
        "1. ¿Cúal es el número total de productos?\n",
        "\n",
        "2. ¿Cuantos productos tienen oferta aplicada?\n",
        "\n",
        "3. ¿Cuál es el producto más caro?\n",
        "\n",
        "4. ¿A cuantos productos no les queda Stock?\n",
        "\n",
        "5. ¿Cuál es el producto más barato?\n",
        "\n",
        "6. ¿Cuál es el producto con más Stock? ¿Se le está aplicando oferta a este producto?\n",
        "\n",
        "7. A los producos que se les aplica la oferta, ¿Cuánto dinero se está ahorrando el cliente?\n",
        "\n",
        "8. ¿Cuál es el producto más barato por pasillos?\n",
        "\n",
        "9. ¿Cuál es el producto más caro por pasillos?\n",
        "\n",
        "10. ¿Cuál es el producto con más Stock por pasillos?\n",
        "\n",
        "11. ¿Qué ocurre con el producto \"**<strong style= 'color: red'>Mostaza regular doypack 1000 g</strong>**\"? ¿Hay algún otro producto que le ocurra lo mismo?\n",
        "\n",
        "12. ¿Cuál es la marca con más productos?\n",
        "\n",
        "13. ¿Cuántos productos hay en cada pasillo?\n",
        "\n",
        "14. Cambiar los nombres de los productos a en formato mayúsculas y cambiando los espacios por \"_\".\n",
        "\n",
        "15. ¿Cuántas variedades de vinos venden? ¿Y cuál es el más caro?\n",
        "\n",
        "16. ¿Qué pasillo tiene más productos sin ofertas aplicadas?\n",
        "\n",
        "17. ¿Cuántos productos se venden a granel y cuántos por unidad?\n",
        "\n",
        "18. ¿Cuántos productos de los que hay en stock se les está aplicando oferta?\n",
        "\n",
        "19. ¿Qué está ocurriendo con el Producto \"**<strong style= 'color: red'>Aceite de Oliva extra virgen 250 ml</strong>**\" en temas de oferta y demanda?\n",
        "\n",
        "20. Ofrece recomendaciones específicas para mejorar la calidad de los datos y sugerir acciones futuras para la gestión del inventario."
      ]
    },
    {
      "cell_type": "code",
      "execution_count": null,
      "id": "2e947a0e-4f22-42be-a1ec-ccfd2a9007fa",
      "metadata": {
        "id": "2e947a0e-4f22-42be-a1ec-ccfd2a9007fa"
      },
      "outputs": [],
      "source": []
    },
    {
      "cell_type": "code",
      "execution_count": null,
      "id": "d9507ec3-6e83-4f99-89ab-972b61f2667a",
      "metadata": {
        "id": "d9507ec3-6e83-4f99-89ab-972b61f2667a"
      },
      "outputs": [],
      "source": []
    }
  ],
  "metadata": {
    "kernelspec": {
      "display_name": "Python 3 (ipykernel)",
      "language": "python",
      "name": "python3"
    },
    "language_info": {
      "codemirror_mode": {
        "name": "ipython",
        "version": 3
      },
      "file_extension": ".py",
      "mimetype": "text/x-python",
      "name": "python",
      "nbconvert_exporter": "python",
      "pygments_lexer": "ipython3",
      "version": "3.9.13"
    },
    "colab": {
      "provenance": [],
      "include_colab_link": true
    }
  },
  "nbformat": 4,
  "nbformat_minor": 5
}