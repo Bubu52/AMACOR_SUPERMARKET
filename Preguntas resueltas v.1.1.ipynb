{
  "cells": [
    {
      "cell_type": "markdown",
      "metadata": {
        "id": "view-in-github",
        "colab_type": "text"
      },
      "source": [
        "<a href=\"https://colab.research.google.com/github/Bubu52/AMACOR_SUPERMARKET/blob/main/Preguntas%20resueltas%20v.1.1.ipynb\" target=\"_parent\"><img src=\"https://colab.research.google.com/assets/colab-badge.svg\" alt=\"Open In Colab\"/></a>"
      ]
    },
    {
      "cell_type": "markdown",
      "id": "b7097cc7",
      "metadata": {
        "id": "b7097cc7"
      },
      "source": [
        "<img width=600 src=\"https://impelia.org/wp-content/uploads/2022/08/impelia_logo-cabecera_-02.png\">"
      ]
    },
    {
      "cell_type": "markdown",
      "id": "7c5cf168",
      "metadata": {
        "id": "7c5cf168"
      },
      "source": [
        "Hecho por: [Guillem Edo](https://www.linkedin.com/in/guillem-edo-bertran/) y [Victor Blanco](https://www.linkedin.com/in/victorblancomurillo/)"
      ]
    },
    {
      "cell_type": "markdown",
      "id": "c2350cd8-1a4a-4c2d-9187-40351ffc2d27",
      "metadata": {
        "id": "c2350cd8-1a4a-4c2d-9187-40351ffc2d27"
      },
      "source": [
        "# Análisis de datos supermercados <strong style= 'color: red'>A</strong><strong style= 'color: green'>M</strong><strong style= 'color: orange'>A</strong><strong style= 'color: blue'>C</strong><strong style= 'color: brown'>O</strong><strong style= 'color: purple'>R</strong>\n"
      ]
    },
    {
      "cell_type": "markdown",
      "id": "9858e10b-9a61-44f8-a3ef-8f2bdaf384f4",
      "metadata": {
        "id": "9858e10b-9a61-44f8-a3ef-8f2bdaf384f4"
      },
      "source": [
        "Amacor, un renombrado supermercado con una presencia sólida en la región donde el dueño es José Pérez. Se encuentra en una fase estratégica de mejora continua para fortalecer la eficiencia de sus operaciones. Ya que actualmente se encuentran con ciertos conflictos económicos en la empresa y quieren aumentar su facturación y así evitar posibles depidos. Como parte de este proceso, el equipo de marketing de Amacor ha llevado a cabo una iniciativa ambiciosa para recopilar y analizar datos detallados sobre su inventario de productos. El objetivo es optimizar la gestión del inventario, mejorar la toma de decisiones y garantizar una experiencia de compra excepcional para sus clientes.\n",
        "\n",
        "El dataset recopilado contiene información crucial, como nombres de productos, categorías, precios, ofertas, cantidades en stock y fechas de exportación del dato. Sin embargo, durante el proceso de revisión, el equipo de marketing ha identificado desafíos sustanciales que requieren atención inmediata. Estos desafíos incluyen la ausencia de valores en ciertas columnas, la existencia de productos duplicados y la posibilidad de inconsistencias en la calidad de los datos.\n",
        "\n",
        "Esta situación ha llevado al equipo de marketing a pedir ayuda a los data scientist de Impelia. Con el fin, de poder obtener información precisa y confiable, lo que es esencial para la toma de decisiones de manera eficiente y estratégica."
      ]
    },
    {
      "cell_type": "markdown",
      "id": "ad6a8671-f559-4894-b70c-f1cebf333a94",
      "metadata": {
        "id": "ad6a8671-f559-4894-b70c-f1cebf333a94"
      },
      "source": [
        "## Metología a seguir\n",
        "\n",
        "**Análisis Inicial**: Evaluar el impacto de los valores nulos y productos duplicados en el conjunto de datos.\n",
        "Identificar las columnas clave que serán fundamentales en el proceso de limpieza y análisis.\n",
        "\n",
        "**Limpieza de Datos**: Desarrollar estrategias para abordar los valores nulos, ya sea mediante la eliminación de registros o la imputación de valores basada en el contexto.\n",
        "Implementar un procedimiento para eliminar productos duplicados, conservando solo la primera ocurrencia.\n",
        "\n",
        "**Análisis de Columnas**: Realizar un análisis exhaustivo de cada columna para comprender la naturaleza de los datos y detectar posibles anomalías.\n",
        "Proponer soluciones para corregir cualquier error o inconsistencia identificada.\n",
        "\n",
        "**Resumen Estadístico**: Generar un resumen estadístico detallado para las columnas numéricas, aprovechando gráficos y visualizaciones para destacar patrones y tendencias.\n",
        "\n",
        "**Presentación de Resultados**: Elaborar un informe completo que documente las acciones tomadas en la limpieza de datos y el análisis de los mismos.\n",
        "El informe deberá responder como mínimo a las siguientes cuestiones:\n",
        "1. ¿Cúal es el número total de productos?\n",
        "\n",
        "2. ¿Cuantos productos tienen oferta aplicada?\n",
        "\n",
        "3. ¿Cuál es el producto más caro?\n",
        "\n",
        "4. ¿A cuantos productos no les queda Stock?\n",
        "\n",
        "5. ¿Cuál es el producto más barato?\n",
        "\n",
        "6. ¿Cuál es el producto con más Stock? ¿Se le está aplicando oferta a este producto?\n",
        "\n",
        "7. A los producos que se les aplica la oferta, ¿Cuánto dinero se está ahorrando el cliente?\n",
        "\n",
        "8. ¿Cuál es el producto más barato por pasillos?\n",
        "\n",
        "9. ¿Cuál es el producto más caro por pasillos?\n",
        "\n",
        "10. ¿Cuál es el producto con más Stock por pasillos?\n",
        "\n",
        "11. ¿Qué ocurre con el producto \"**<strong style= 'color: red'>Mostaza regular doypack 1000 g</strong>**\"? ¿Hay algún otro producto que le ocurra lo mismo?\n",
        "\n",
        "12. ¿Cuál es la marca con más productos?\n",
        "\n",
        "13. ¿Cuántos productos hay en cada pasillo?\n",
        "\n",
        "14. Cambiar los nombres de los productos a en formato mayúsculas y cambiando los espacios por \"_\".\n",
        "\n",
        "15. ¿Cuántas variedades de vinos venden? ¿Y cuál es el más caro?\n",
        "\n",
        "16. ¿Qué pasillo tiene más productos sin ofertas aplicadas?\n",
        "\n",
        "17. ¿Cuántos productos se venden a granel y cuántos por unidad?\n",
        "\n",
        "18. ¿Cuántos productos de los que hay en stock se les está aplicando oferta?\n",
        "\n",
        "19. ¿Qué está ocurriendo con el Producto \"**<strong style= 'color: red'>Aceite de Oliva extra virgen 250 ml</strong>**\" en temas de oferta y demanda?\n",
        "\n",
        "20. Ofrece recomendaciones específicas para mejorar la calidad de los datos y sugerir acciones futuras para la gestión del inventario."
      ]
    },
    {
      "cell_type": "code",
      "execution_count": 40,
      "id": "2e947a0e-4f22-42be-a1ec-ccfd2a9007fa",
      "metadata": {
        "id": "2e947a0e-4f22-42be-a1ec-ccfd2a9007fa",
        "colab": {
          "base_uri": "https://localhost:8080/"
        },
        "outputId": "aa47d81b-6f04-46e6-8a5a-cd1183a938d4"
      },
      "outputs": [
        {
          "output_type": "execute_result",
          "data": {
            "text/plain": [
              "0"
            ]
          },
          "metadata": {},
          "execution_count": 40
        }
      ],
      "source": [
        "import pandas as pd\n",
        "import seaborn as sns\n",
        "import matplotlib.pyplot as plt\n",
        "data = pd.read_csv(\"Amacor.csv\")\n",
        "df = data.copy()\n",
        "\n",
        "df.rename(columns = {\"title\":\n",
        "\"NOMBRE_PRODUCTO\"}, inplace = True)\n",
        "df.rename(columns = {\"brand\":\n",
        "\"MARCA\"}, inplace = True)\n",
        "df.rename(columns = {\"normal_price\":\n",
        "\"PRECIO_SIN_OFERTA\"}, inplace = True)\n",
        "df.rename(columns = {\"low_price\":\n",
        "\"PRECIO_OFERTA_MIN\"}, inplace = True)\n",
        "df.rename(columns = {\"high_price\":\n",
        "\"PRECIO_OFERTA_MAX\"}, inplace = True)\n",
        "df.rename(columns = {\"oferta\":\n",
        "\"OFERTA\"}, inplace = True)\n",
        "df.rename(columns = {\"categoria1\":\n",
        "\"ZONA_SUPERMERCADO\"}, inplace = True)\n",
        "df.rename(columns = {\"categoria2\":\n",
        "\"TIPO_PRODUCTO\"}, inplace = True)\n",
        "df.rename(columns = {\"Atributos\":\n",
        "\"ATRIBUTOS\"}, inplace = True)\n",
        "df.rename(columns = {\"sin_stock\":\n",
        "\"STOCK\"}, inplace = True)\n",
        "df.rename(columns = {\"Num_Stock\":\n",
        "\"CANTIDAD_STOCK\"}, inplace = True)\n",
        "df.rename(columns = {\"datetime\":\n",
        "\"DATATIME\"}, inplace = True)\n",
        "df.rename(columns = {\"page\":\n",
        "\"PAGE\"}, inplace = True)\n",
        "\n",
        "df.isnull().sum()\n",
        "df.duplicated().sum()"
      ]
    },
    {
      "cell_type": "code",
      "source": [
        "df2 = df[\"NOMBRE_PRODUCTO\"].copy()\n",
        "df2 = df2.value_counts().sum()"
      ],
      "metadata": {
        "id": "6n1kdCfvs_Oc"
      },
      "id": "6n1kdCfvs_Oc",
      "execution_count": 41,
      "outputs": []
    },
    {
      "cell_type": "code",
      "source": [
        "duplicados = df[['NOMBRE_PRODUCTO','MARCA','PRECIO_SIN_OFERTA']].duplicated().sum()\n",
        "drop_dupli = df.drop_duplicates(subset=['NOMBRE_PRODUCTO', 'MARCA','PRECIO_SIN_OFERTA'], keep='last',inplace=True)\n",
        "act = df['NOMBRE_PRODUCTO'].value_counts().sum()\n",
        "prc_duplicados = (1638*100)/df2\n",
        "\n",
        "print(f\"Antes de limpiar los datos duplicados habian {df2} productos \")\n",
        "print(f\"Despues de eliminar los duplicados hay: {act} productos\")\n",
        "print(f'El {prc_duplicados.round(2)}% eran productos duplicados')"
      ],
      "metadata": {
        "id": "kkfGQE8P7XDX",
        "colab": {
          "base_uri": "https://localhost:8080/"
        },
        "outputId": "1faa8e4c-ebf6-477e-d718-2bca26811798"
      },
      "id": "kkfGQE8P7XDX",
      "execution_count": 42,
      "outputs": [
        {
          "output_type": "stream",
          "name": "stdout",
          "text": [
            "Antes de limpiar los datos duplicados habian 4468 productos \n",
            "Despues de eliminar los duplicados hay: 2830 productos\n",
            "El 36.66% eran productos duplicados\n"
          ]
        }
      ]
    },
    {
      "cell_type": "code",
      "source": [
        "cross_table= pd.crosstab(df['NOMBRE_PRODUCTO'].value_counts().sum(),df['ZONA_SUPERMERCADO'])\n",
        "grf_prdctos_ZS=cross_table.plot(kind='bar',title='Productos por Zona del Supermercado',legend=True)\n",
        "grf_prdctos_ZS.legend(bbox_to_anchor=(1.05, 1), loc='upper left', borderaxespad=0., ncol=1)\n",
        "grf_prdctos_ZS.set_xlabel(None)\n",
        "for p in grf_prdctos_ZS.patches:\n",
        "    grf_prdctos_ZS.annotate(str(p.get_height()), (p.get_x() + p.get_width() / 2., p.get_height()), ha='center', va='center', xytext=(0, 10), textcoords='offset points')\n",
        "\n",
        "plt.show()"
      ],
      "metadata": {
        "id": "M4oGCASDJWxr"
      },
      "id": "M4oGCASDJWxr",
      "execution_count": 71,
      "outputs": []
    },
    {
      "cell_type": "markdown",
      "source": [
        "EJECUTAR SOLO UNA VEZ PARA NO DUPLICAR EL RESULTADO."
      ],
      "metadata": {
        "id": "DJYXE-hhTXNV"
      },
      "id": "DJYXE-hhTXNV"
    },
    {
      "cell_type": "code",
      "source": [
        "df[\"PRECIO_SIN_OFERTA\"]=df[\"PRECIO_SIN_OFERTA\"]*0.0011\n",
        "df[\"PRECIO_OFERTA_MIN\"]=df[\"PRECIO_OFERTA_MIN\"]*0.0011\n",
        "df[\"PRECIO_OFERTA_MAX\"]=df[\"PRECIO_OFERTA_MAX\"]*0.0011"
      ],
      "metadata": {
        "id": "lGW4VA4HPR67"
      },
      "id": "lGW4VA4HPR67",
      "execution_count": 43,
      "outputs": []
    },
    {
      "cell_type": "code",
      "source": [
        "media_prc = df['PRECIO_SIN_OFERTA'].mean()\n",
        "df['PRECIO_SIN_OFERTA'].replace(to_replace=0.0,value=media_prc,inplace=True)\n",
        "media_max = df['PRECIO_OFERTA_MAX'].mean()\n",
        "df['PRECIO_OFERTA_MAX'].replace(to_replace=0.0,value=media_max,inplace=True)\n",
        "media_min = df['PRECIO_OFERTA_MIN'].mean()\n",
        "df['PRECIO_OFERTA_MIN'].replace(to_replace=0.0,value=media_min,inplace=True)"
      ],
      "metadata": {
        "id": "LrPmoovrRo2K"
      },
      "execution_count": 44,
      "outputs": [],
      "id": "LrPmoovrRo2K"
    },
    {
      "cell_type": "code",
      "source": [
        "num_pasillos = list(df[\"ZONA_SUPERMERCADO\"].unique())\n",
        "num_pasillos"
      ],
      "metadata": {
        "colab": {
          "base_uri": "https://localhost:8080/"
        },
        "id": "LQE1Zd6_S3zE",
        "outputId": "7456dbdd-3766-43b9-faff-385487babcea"
      },
      "id": "LQE1Zd6_S3zE",
      "execution_count": 45,
      "outputs": [
        {
          "output_type": "execute_result",
          "data": {
            "text/plain": [
              "['supermercados', 'lacteos', 'frutas-y-verduras', 'carniceria', 'despensa']"
            ]
          },
          "metadata": {},
          "execution_count": 45
        }
      ]
    },
    {
      "cell_type": "code",
      "source": [
        "lista = []\n",
        "for i in df[\"ZONA_SUPERMERCADO\"]:\n",
        "  if i in num_pasillos:\n",
        "    lista.append(num_pasillos.index(i)+1)\n",
        "df.insert(7,\"NUM_PASILLOS\",lista)"
      ],
      "metadata": {
        "id": "lutP0gORn5uP"
      },
      "id": "lutP0gORn5uP",
      "execution_count": 46,
      "outputs": []
    },
    {
      "cell_type": "markdown",
      "source": [
        "1. ¿Cúal es el número total de productos?"
      ],
      "metadata": {
        "id": "dAvCmzVyp2i8"
      },
      "id": "dAvCmzVyp2i8"
    },
    {
      "cell_type": "code",
      "source": [
        "num_total = df['NOMBRE_PRODUCTO'].value_counts().sum()\n",
        "print(f'Esta base de datos tiene un total de {num_total} productos')"
      ],
      "metadata": {
        "colab": {
          "base_uri": "https://localhost:8080/"
        },
        "id": "8y3517Gzp4HL",
        "outputId": "3f1e82d9-29d8-4eab-c6c3-652ebf8582f4"
      },
      "id": "8y3517Gzp4HL",
      "execution_count": 103,
      "outputs": [
        {
          "output_type": "stream",
          "name": "stdout",
          "text": [
            "Esta base de datos tiene un total de 2830 productos\n"
          ]
        }
      ]
    },
    {
      "cell_type": "code",
      "source": [
        "import matplotlib.pyplot as plt\n",
        "\n",
        "# Datos\n",
        "valores = [df2,num_total, duplicados]\n",
        "\n",
        "# Crear un gráfico de barras\n",
        "bars = plt.bar(range(len(valores)), valores, color='lightblue')\n",
        "\n",
        "# Etiquetas en el eje x\n",
        "plt.xticks(range(len(valores)), ['TOTAL PRODUCTOS BASE DE DATOS ORIGINAL','TOTAL PRODUCTOS BASE DE DATOS LIMPIADA', 'DATOS DUPLICADOS'],rotation='vertical')\n",
        "\n",
        "# Etiqueta del eje y\n",
        "plt.ylabel('Valores')\n",
        "\n",
        "# Título del gráfico\n",
        "plt.title('Gráfico de Barras')\n",
        "\n",
        "# Agregar etiquetas con los valores numéricos encima de las barras\n",
        "for bar in bars:\n",
        "    yval = bar.get_height()\n",
        "    plt.text(bar.get_x() + bar.get_width() / 2, yval, round(yval, 2), ha='center', va='bottom')\n",
        "\n",
        "# Mostrar el gráfico\n",
        "plt.show()\n"
      ],
      "metadata": {
        "colab": {
          "base_uri": "https://localhost:8080/",
          "height": 762
        },
        "id": "JyutG3J9Wea4",
        "outputId": "8e51d59b-01bf-44bb-d42f-35306a04d635"
      },
      "id": "JyutG3J9Wea4",
      "execution_count": 106,
      "outputs": [
        {
          "output_type": "display_data",
          "data": {
            "text/plain": [
              "<Figure size 640x480 with 1 Axes>"
            ],
            "image/png": "[encoded data removed]"
          },
          "metadata": {}
        }
      ]
    },
    {
      "cell_type": "markdown",
      "source": [
        "2. ¿Cuantos productos tienen oferta aplicada?"
      ],
      "metadata": {
        "id": "UWswVTV1qDFp"
      },
      "id": "UWswVTV1qDFp"
    },
    {
      "cell_type": "code",
      "source": [
        "prd_con_oferta= df[df['OFERTA']==1]\n",
        "ofrta_apli= prd_con_oferta[\"OFERTA\"].value_counts().sum()\n",
        "prc_oferta_apli = (ofrta_apli*100)/ act\n",
        "print(f'Hay un total de {ofrta_apli} productos con oferta aplicada. Este valor representa el {prc_oferta_apli.round(2)}% del total ')\n",
        "\n"
      ],
      "metadata": {
        "colab": {
          "base_uri": "https://localhost:8080/"
        },
        "id": "MCtgsDB3qD3V",
        "outputId": "92b31948-e065-4d6a-a6cf-24e988ef83d6"
      },
      "id": "MCtgsDB3qD3V",
      "execution_count": 125,
      "outputs": [
        {
          "output_type": "stream",
          "name": "stdout",
          "text": [
            "Hay un total de 623 productos con oferta aplicada. Este valor representa el 22.01% del total \n"
          ]
        }
      ]
    },
    {
      "cell_type": "code",
      "source": [
        "cross_table_grf_prdctos_con_oferta_ZS=pd.crosstab(prd_con_oferta['NOMBRE_PRODUCTO'].value_counts().sum(),prd_con_oferta['ZONA_SUPERMERCADO'])\n",
        "colores = ['blue', 'orange', 'red', 'purple']\n",
        "grf_prdctos_con_oferta_ZS=cross_table_grf_prdctos_con_oferta_ZS.plot(kind='bar',color=colores,title='Productos con oferta aplicada por Zona del Supermercado',legend=True)\n",
        "grf_prdctos_con_oferta_ZS.legend(bbox_to_anchor=(1.05, 1), loc='upper left', borderaxespad=0., ncol=1)\n",
        "grf_prdctos_con_oferta_ZS.set_xlabel(None)\n",
        "for p in grf_prdctos_con_oferta_ZS.patches:\n",
        "    grf_prdctos_con_oferta_ZS.annotate(str(p.get_height()), (p.get_x() + p.get_width() / 2., p.get_height()), ha='center', va='center', xytext=(0, 10), textcoords='offset points')\n",
        "\n",
        "plt.show()"
      ],
      "metadata": {
        "id": "avHd3EjnZXQR",
        "outputId": "3c89a1ff-1f67-4585-b69d-830109a40909",
        "colab": {
          "base_uri": "https://localhost:8080/",
          "height": 465
        }
      },
      "id": "avHd3EjnZXQR",
      "execution_count": 132,
      "outputs": [
        {
          "output_type": "display_data",
          "data": {
            "text/plain": [
              "<Figure size 640x480 with 1 Axes>"
            ],
            "image/png": "[encoded data removed]"
          },
          "metadata": {}
        }
      ]
    },
    {
      "cell_type": "code",
      "source": [
        "prd_con_oferta.groupby('OFERTA')['NUM_PASILLOS'].value_counts()\n",
        "\n"
      ],
      "metadata": {
        "id": "ELtbG6oIC8Tp",
        "colab": {
          "base_uri": "https://localhost:8080/"
        },
        "outputId": "c08d342d-ff71-4a01-be05-0d3575c448ff"
      },
      "id": "ELtbG6oIC8Tp",
      "execution_count": null,
      "outputs": [
        {
          "output_type": "execute_result",
          "data": {
            "text/plain": [
              "OFERTA  NUM_PASILLOS\n",
              "1       1               336\n",
              "        5               192\n",
              "        2                73\n",
              "        4                22\n",
              "Name: NUM_PASILLOS, dtype: int64"
            ]
          },
          "metadata": {},
          "execution_count": 117
        }
      ]
    },
    {
      "cell_type": "code",
      "source": [
        "sns.countplot(x=df['OFERTA'] ,data = df)"
      ],
      "metadata": {
        "colab": {
          "base_uri": "https://localhost:8080/",
          "height": 467
        },
        "id": "Mj-UrZFvKraQ",
        "outputId": "249fc0fe-5b0a-442f-d6ba-78b5d2fcdc02"
      },
      "id": "Mj-UrZFvKraQ",
      "execution_count": null,
      "outputs": [
        {
          "output_type": "execute_result",
          "data": {
            "text/plain": [
              "<Axes: xlabel='OFERTA', ylabel='count'>"
            ]
          },
          "metadata": {},
          "execution_count": 151
        },
        {
          "output_type": "display_data",
          "data": {
            "text/plain": [
              "<Figure size 640x480 with 1 Axes>"
            ],
            "image/png": "[encoded data removed]"
          },
          "metadata": {}
        }
      ]
    },
    {
      "cell_type": "code",
      "source": [
        "etiquetas='1','5','2','4'"
      ],
      "metadata": {
        "id": "rHQnr3VPHN4Z"
      },
      "id": "rHQnr3VPHN4Z",
      "execution_count": null,
      "outputs": []
    },
    {
      "cell_type": "code",
      "source": [
        "plt.pie(prd_con_oferta[\"NUM_PASILLOS\"].value_counts(),labels=etiquetas,autopct=\"%0.2f %%\")\n",
        "plt.show()"
      ],
      "metadata": {
        "colab": {
          "base_uri": "https://localhost:8080/",
          "height": 406
        },
        "id": "OvKVPeIBG7iq",
        "outputId": "3503e329-93c7-4170-bf7a-c46ba4337314"
      },
      "id": "OvKVPeIBG7iq",
      "execution_count": null,
      "outputs": [
        {
          "output_type": "display_data",
          "data": {
            "text/plain": [
              "<Figure size 640x480 with 1 Axes>"
            ],
            "image/png": "[encoded data removed]"
          },
          "metadata": {}
        }
      ]
    },
    {
      "cell_type": "markdown",
      "source": [
        "3. ¿Cuál es el producto más caro?"
      ],
      "metadata": {
        "id": "vOMY5Fr4sF2V"
      },
      "id": "vOMY5Fr4sF2V"
    },
    {
      "cell_type": "code",
      "source": [
        "pd.DataFrame(df.groupby([\"NOMBRE_PRODUCTO\"])[[\"PRECIO_SIN_OFERTA\",'CANTIDAD_STOCK']].max().sort_values(by='PRECIO_SIN_OFERTA', ascending=False).head(1))"
      ],
      "metadata": {
        "colab": {
          "base_uri": "https://localhost:8080/",
          "height": 112
        },
        "id": "VyJV3MKYsKUF",
        "outputId": "acb61426-ffe2-4fbb-c58e-b2df071a7d0b"
      },
      "id": "VyJV3MKYsKUF",
      "execution_count": null,
      "outputs": [
        {
          "output_type": "execute_result",
          "data": {
            "text/plain": [
              "                    PRECIO_SIN_OFERTA  CANTIDAD_STOCK\n",
              "NOMBRE_PRODUCTO                                      \n",
              "CREMA_DE_LECHE_1_L            48.4308              50"
            ],
            "text/html": [
              "\n",
              "  <div id=\"df-4d6db378-1a72-4020-8bba-df022aed08a9\" class=\"colab-df-container\">\n",
              "    <div>\n",
              "<style scoped>\n",
              "    .dataframe tbody tr th:only-of-type {\n",
              "        vertical-align: middle;\n",
              "    }\n",
              "\n",
              "    .dataframe tbody tr th {\n",
              "        vertical-align: top;\n",
              "    }\n",
              "\n",
              "    .dataframe thead th {\n",
              "        text-align: right;\n",
              "    }\n",
              "</style>\n",
              "<table border=\"1\" class=\"dataframe\">\n",
              "  <thead>\n",
              "    <tr style=\"text-align: right;\">\n",
              "      <th></th>\n",
              "      <th>PRECIO_SIN_OFERTA</th>\n",
              "      <th>CANTIDAD_STOCK</th>\n",
              "    </tr>\n",
              "    <tr>\n",
              "      <th>NOMBRE_PRODUCTO</th>\n",
              "      <th></th>\n",
              "      <th></th>\n",
              "    </tr>\n",
              "  </thead>\n",
              "  <tbody>\n",
              "    <tr>\n",
              "      <th>CREMA_DE_LECHE_1_L</th>\n",
              "      <td>48.4308</td>\n",
              "      <td>50</td>\n",
              "    </tr>\n",
              "  </tbody>\n",
              "</table>\n",
              "</div>\n",
              "    <div class=\"colab-df-buttons\">\n",
              "\n",
              "  <div class=\"colab-df-container\">\n",
              "    <button class=\"colab-df-convert\" onclick=\"convertToInteractive('df-4d6db378-1a72-4020-8bba-df022aed08a9')\"\n",
              "            title=\"Convert this dataframe to an interactive table.\"\n",
              "            style=\"display:none;\">\n",
              "\n",
              "  <svg xmlns=\"http://www.w3.org/2000/svg\" height=\"24px\" viewBox=\"0 -960 960 960\">\n",
              "    <path d=\"M120-120v-720h720v720H120Zm60-500h600v-160H180v160Zm220 220h160v-160H400v160Zm0 220h160v-160H400v160ZM180-400h160v-160H180v160Zm440 0h160v-160H620v160ZM180-180h160v-160H180v160Zm440 0h160v-160H620v160Z\"/>\n",
              "  </svg>\n",
              "    </button>\n",
              "\n",
              "  <style>\n",
              "    .colab-df-container {\n",
              "      display:flex;\n",
              "      gap: 12px;\n",
              "    }\n",
              "\n",
              "    .colab-df-convert {\n",
              "      background-color: #E8F0FE;\n",
              "      border: none;\n",
              "      border-radius: 50%;\n",
              "      cursor: pointer;\n",
              "      display: none;\n",
              "      fill: #1967D2;\n",
              "      height: 32px;\n",
              "      padding: 0 0 0 0;\n",
              "      width: 32px;\n",
              "    }\n",
              "\n",
              "    .colab-df-convert:hover {\n",
              "      background-color: #E2EBFA;\n",
              "      box-shadow: 0px 1px 2px rgba(60, 64, 67, 0.3), 0px 1px 3px 1px rgba(60, 64, 67, 0.15);\n",
              "      fill: #174EA6;\n",
              "    }\n",
              "\n",
              "    .colab-df-buttons div {\n",
              "      margin-bottom: 4px;\n",
              "    }\n",
              "\n",
              "    [theme=dark] .colab-df-convert {\n",
              "      background-color: #3B4455;\n",
              "      fill: #D2E3FC;\n",
              "    }\n",
              "\n",
              "    [theme=dark] .colab-df-convert:hover {\n",
              "      background-color: #434B5C;\n",
              "      box-shadow: 0px 1px 3px 1px rgba(0, 0, 0, 0.15);\n",
              "      filter: drop-shadow(0px 1px 2px rgba(0, 0, 0, 0.3));\n",
              "      fill: #FFFFFF;\n",
              "    }\n",
              "  </style>\n",
              "\n",
              "    <script>\n",
              "      const buttonEl =\n",
              "        document.querySelector('#df-4d6db378-1a72-4020-8bba-df022aed08a9 button.colab-df-convert');\n",
              "      buttonEl.style.display =\n",
              "        google.colab.kernel.accessAllowed ? 'block' : 'none';\n",
              "\n",
              "      async function convertToInteractive(key) {\n",
              "        const element = document.querySelector('#df-4d6db378-1a72-4020-8bba-df022aed08a9');\n",
              "        const dataTable =\n",
              "          await google.colab.kernel.invokeFunction('convertToInteractive',\n",
              "                                                    [key], {});\n",
              "        if (!dataTable) return;\n",
              "\n",
              "        const docLinkHtml = 'Like what you see? Visit the ' +\n",
              "          '<a target=\"_blank\" href=https://colab.research.google.com/notebooks/data_table.ipynb>data table notebook</a>'\n",
              "          + ' to learn more about interactive tables.';\n",
              "        element.innerHTML = '';\n",
              "        dataTable['output_type'] = 'display_data';\n",
              "        await google.colab.output.renderOutput(dataTable, element);\n",
              "        const docLink = document.createElement('div');\n",
              "        docLink.innerHTML = docLinkHtml;\n",
              "        element.appendChild(docLink);\n",
              "      }\n",
              "    </script>\n",
              "  </div>\n",
              "\n",
              "    </div>\n",
              "  </div>\n"
            ]
          },
          "metadata": {},
          "execution_count": 182
        }
      ]
    },
    {
      "cell_type": "markdown",
      "source": [
        "4. ¿A cuantos productos no les queda Stock?"
      ],
      "metadata": {
        "id": "QrOFW9TXuXq6"
      },
      "id": "QrOFW9TXuXq6"
    },
    {
      "cell_type": "code",
      "source": [
        "prd_sin_stock=df[df['STOCK']==0]\n",
        "prductos_sin_stock= prd_sin_stock.value_counts().sum()\n",
        "prc_sin_stocl = (prductos_sin_stock*100)/ act\n",
        "print(f'Hay un total de {prductos_sin_stock} productos sin Stock. Este valor representa un {prc_sin_stocl.round(2)}% del total')\n"
      ],
      "metadata": {
        "colab": {
          "base_uri": "https://localhost:8080/"
        },
        "id": "jC3EVyWyucTQ",
        "outputId": "0e844a37-4984-4178-8832-f75436fdabc2"
      },
      "id": "jC3EVyWyucTQ",
      "execution_count": null,
      "outputs": [
        {
          "output_type": "stream",
          "name": "stdout",
          "text": [
            "Hay un total de 137 productos sin Stock. Este valor representa un 4.84% del total\n"
          ]
        }
      ]
    },
    {
      "cell_type": "code",
      "source": [
        "sns.countplot(x=df['STOCK'] ,data = df)"
      ],
      "metadata": {
        "colab": {
          "base_uri": "https://localhost:8080/",
          "height": 467
        },
        "id": "NCWDUmKFJohe",
        "outputId": "9624853a-b61c-4500-c4bc-be9c17ebba4b"
      },
      "id": "NCWDUmKFJohe",
      "execution_count": null,
      "outputs": [
        {
          "output_type": "execute_result",
          "data": {
            "text/plain": [
              "<Axes: xlabel='STOCK', ylabel='count'>"
            ]
          },
          "metadata": {},
          "execution_count": 153
        },
        {
          "output_type": "display_data",
          "data": {
            "text/plain": [
              "<Figure size 640x480 with 1 Axes>"
            ],
            "image/png": "[encoded data removed]"
          },
          "metadata": {}
        }
      ]
    },
    {
      "cell_type": "markdown",
      "source": [
        "5. ¿Cuál es el producto más barato?"
      ],
      "metadata": {
        "id": "EXIyV5shwYlu"
      },
      "id": "EXIyV5shwYlu"
    },
    {
      "cell_type": "code",
      "source": [
        "pd.DataFrame(df.groupby(\"NOMBRE_PRODUCTO\")[\"PRECIO_SIN_OFERTA\"].min().sort_values(ascending=True).head(1))"
      ],
      "metadata": {
        "colab": {
          "base_uri": "https://localhost:8080/",
          "height": 112
        },
        "id": "hD197x1xwb-i",
        "outputId": "6274c6e9-5667-4143-b53e-e83da96fd0bb"
      },
      "id": "hD197x1xwb-i",
      "execution_count": null,
      "outputs": [
        {
          "output_type": "execute_result",
          "data": {
            "text/plain": [
              "                                             PRECIO_SIN_OFERTA\n",
              "NOMBRE_PRODUCTO                                               \n",
              "Bicarbonato Gourmet Refinado, Sobre 30 grs.             0.1529"
            ],
            "text/html": [
              "\n",
              "  <div id=\"df-57c5cd03-88a2-4673-98b9-d5d2b4ffbc9c\" class=\"colab-df-container\">\n",
              "    <div>\n",
              "<style scoped>\n",
              "    .dataframe tbody tr th:only-of-type {\n",
              "        vertical-align: middle;\n",
              "    }\n",
              "\n",
              "    .dataframe tbody tr th {\n",
              "        vertical-align: top;\n",
              "    }\n",
              "\n",
              "    .dataframe thead th {\n",
              "        text-align: right;\n",
              "    }\n",
              "</style>\n",
              "<table border=\"1\" class=\"dataframe\">\n",
              "  <thead>\n",
              "    <tr style=\"text-align: right;\">\n",
              "      <th></th>\n",
              "      <th>PRECIO_SIN_OFERTA</th>\n",
              "    </tr>\n",
              "    <tr>\n",
              "      <th>NOMBRE_PRODUCTO</th>\n",
              "      <th></th>\n",
              "    </tr>\n",
              "  </thead>\n",
              "  <tbody>\n",
              "    <tr>\n",
              "      <th>Bicarbonato Gourmet Refinado, Sobre 30 grs.</th>\n",
              "      <td>0.1529</td>\n",
              "    </tr>\n",
              "  </tbody>\n",
              "</table>\n",
              "</div>\n",
              "    <div class=\"colab-df-buttons\">\n",
              "\n",
              "  <div class=\"colab-df-container\">\n",
              "    <button class=\"colab-df-convert\" onclick=\"convertToInteractive('df-57c5cd03-88a2-4673-98b9-d5d2b4ffbc9c')\"\n",
              "            title=\"Convert this dataframe to an interactive table.\"\n",
              "            style=\"display:none;\">\n",
              "\n",
              "  <svg xmlns=\"http://www.w3.org/2000/svg\" height=\"24px\" viewBox=\"0 -960 960 960\">\n",
              "    <path d=\"M120-120v-720h720v720H120Zm60-500h600v-160H180v160Zm220 220h160v-160H400v160Zm0 220h160v-160H400v160ZM180-400h160v-160H180v160Zm440 0h160v-160H620v160ZM180-180h160v-160H180v160Zm440 0h160v-160H620v160Z\"/>\n",
              "  </svg>\n",
              "    </button>\n",
              "\n",
              "  <style>\n",
              "    .colab-df-container {\n",
              "      display:flex;\n",
              "      gap: 12px;\n",
              "    }\n",
              "\n",
              "    .colab-df-convert {\n",
              "      background-color: #E8F0FE;\n",
              "      border: none;\n",
              "      border-radius: 50%;\n",
              "      cursor: pointer;\n",
              "      display: none;\n",
              "      fill: #1967D2;\n",
              "      height: 32px;\n",
              "      padding: 0 0 0 0;\n",
              "      width: 32px;\n",
              "    }\n",
              "\n",
              "    .colab-df-convert:hover {\n",
              "      background-color: #E2EBFA;\n",
              "      box-shadow: 0px 1px 2px rgba(60, 64, 67, 0.3), 0px 1px 3px 1px rgba(60, 64, 67, 0.15);\n",
              "      fill: #174EA6;\n",
              "    }\n",
              "\n",
              "    .colab-df-buttons div {\n",
              "      margin-bottom: 4px;\n",
              "    }\n",
              "\n",
              "    [theme=dark] .colab-df-convert {\n",
              "      background-color: #3B4455;\n",
              "      fill: #D2E3FC;\n",
              "    }\n",
              "\n",
              "    [theme=dark] .colab-df-convert:hover {\n",
              "      background-color: #434B5C;\n",
              "      box-shadow: 0px 1px 3px 1px rgba(0, 0, 0, 0.15);\n",
              "      filter: drop-shadow(0px 1px 2px rgba(0, 0, 0, 0.3));\n",
              "      fill: #FFFFFF;\n",
              "    }\n",
              "  </style>\n",
              "\n",
              "    <script>\n",
              "      const buttonEl =\n",
              "        document.querySelector('#df-57c5cd03-88a2-4673-98b9-d5d2b4ffbc9c button.colab-df-convert');\n",
              "      buttonEl.style.display =\n",
              "        google.colab.kernel.accessAllowed ? 'block' : 'none';\n",
              "\n",
              "      async function convertToInteractive(key) {\n",
              "        const element = document.querySelector('#df-57c5cd03-88a2-4673-98b9-d5d2b4ffbc9c');\n",
              "        const dataTable =\n",
              "          await google.colab.kernel.invokeFunction('convertToInteractive',\n",
              "                                                    [key], {});\n",
              "        if (!dataTable) return;\n",
              "\n",
              "        const docLinkHtml = 'Like what you see? Visit the ' +\n",
              "          '<a target=\"_blank\" href=https://colab.research.google.com/notebooks/data_table.ipynb>data table notebook</a>'\n",
              "          + ' to learn more about interactive tables.';\n",
              "        element.innerHTML = '';\n",
              "        dataTable['output_type'] = 'display_data';\n",
              "        await google.colab.output.renderOutput(dataTable, element);\n",
              "        const docLink = document.createElement('div');\n",
              "        docLink.innerHTML = docLinkHtml;\n",
              "        element.appendChild(docLink);\n",
              "      }\n",
              "    </script>\n",
              "  </div>\n",
              "\n",
              "    </div>\n",
              "  </div>\n"
            ]
          },
          "metadata": {},
          "execution_count": 19
        }
      ]
    },
    {
      "cell_type": "markdown",
      "source": [
        "6. ¿Cuál es el producto con más Stock? ¿Se le está aplicando oferta a este producto?"
      ],
      "metadata": {
        "id": "biqFx096wxGX"
      },
      "id": "biqFx096wxGX"
    },
    {
      "cell_type": "code",
      "source": [
        "mas_stock = pd.DataFrame(df.groupby(\"NOMBRE_PRODUCTO\")[[\"CANTIDAD_STOCK\",'OFERTA']].max().sort_values(by='CANTIDAD_STOCK',ascending=False).head(1))\n",
        "mas_stock"
      ],
      "metadata": {
        "colab": {
          "base_uri": "https://localhost:8080/",
          "height": 112
        },
        "id": "gVmCpuG3zw9D",
        "outputId": "29fe6ce5-ca58-453d-e56d-f1a69ea472f3"
      },
      "id": "gVmCpuG3zw9D",
      "execution_count": null,
      "outputs": [
        {
          "output_type": "execute_result",
          "data": {
            "text/plain": [
              "                                                 CANTIDAD_STOCK  OFERTA\n",
              "NOMBRE_PRODUCTO                                                        \n",
              "YOGHURT_BATIDO_MULTIPACK_TRADICIONAL_12_X_115_G              50       0"
            ],
            "text/html": [
              "\n",
              "  <div id=\"df-75202a57-1cb0-4065-b4f3-816708d9082a\" class=\"colab-df-container\">\n",
              "    <div>\n",
              "<style scoped>\n",
              "    .dataframe tbody tr th:only-of-type {\n",
              "        vertical-align: middle;\n",
              "    }\n",
              "\n",
              "    .dataframe tbody tr th {\n",
              "        vertical-align: top;\n",
              "    }\n",
              "\n",
              "    .dataframe thead th {\n",
              "        text-align: right;\n",
              "    }\n",
              "</style>\n",
              "<table border=\"1\" class=\"dataframe\">\n",
              "  <thead>\n",
              "    <tr style=\"text-align: right;\">\n",
              "      <th></th>\n",
              "      <th>CANTIDAD_STOCK</th>\n",
              "      <th>OFERTA</th>\n",
              "    </tr>\n",
              "    <tr>\n",
              "      <th>NOMBRE_PRODUCTO</th>\n",
              "      <th></th>\n",
              "      <th></th>\n",
              "    </tr>\n",
              "  </thead>\n",
              "  <tbody>\n",
              "    <tr>\n",
              "      <th>YOGHURT_BATIDO_MULTIPACK_TRADICIONAL_12_X_115_G</th>\n",
              "      <td>50</td>\n",
              "      <td>0</td>\n",
              "    </tr>\n",
              "  </tbody>\n",
              "</table>\n",
              "</div>\n",
              "    <div class=\"colab-df-buttons\">\n",
              "\n",
              "  <div class=\"colab-df-container\">\n",
              "    <button class=\"colab-df-convert\" onclick=\"convertToInteractive('df-75202a57-1cb0-4065-b4f3-816708d9082a')\"\n",
              "            title=\"Convert this dataframe to an interactive table.\"\n",
              "            style=\"display:none;\">\n",
              "\n",
              "  <svg xmlns=\"http://www.w3.org/2000/svg\" height=\"24px\" viewBox=\"0 -960 960 960\">\n",
              "    <path d=\"M120-120v-720h720v720H120Zm60-500h600v-160H180v160Zm220 220h160v-160H400v160Zm0 220h160v-160H400v160ZM180-400h160v-160H180v160Zm440 0h160v-160H620v160ZM180-180h160v-160H180v160Zm440 0h160v-160H620v160Z\"/>\n",
              "  </svg>\n",
              "    </button>\n",
              "\n",
              "  <style>\n",
              "    .colab-df-container {\n",
              "      display:flex;\n",
              "      gap: 12px;\n",
              "    }\n",
              "\n",
              "    .colab-df-convert {\n",
              "      background-color: #E8F0FE;\n",
              "      border: none;\n",
              "      border-radius: 50%;\n",
              "      cursor: pointer;\n",
              "      display: none;\n",
              "      fill: #1967D2;\n",
              "      height: 32px;\n",
              "      padding: 0 0 0 0;\n",
              "      width: 32px;\n",
              "    }\n",
              "\n",
              "    .colab-df-convert:hover {\n",
              "      background-color: #E2EBFA;\n",
              "      box-shadow: 0px 1px 2px rgba(60, 64, 67, 0.3), 0px 1px 3px 1px rgba(60, 64, 67, 0.15);\n",
              "      fill: #174EA6;\n",
              "    }\n",
              "\n",
              "    .colab-df-buttons div {\n",
              "      margin-bottom: 4px;\n",
              "    }\n",
              "\n",
              "    [theme=dark] .colab-df-convert {\n",
              "      background-color: #3B4455;\n",
              "      fill: #D2E3FC;\n",
              "    }\n",
              "\n",
              "    [theme=dark] .colab-df-convert:hover {\n",
              "      background-color: #434B5C;\n",
              "      box-shadow: 0px 1px 3px 1px rgba(0, 0, 0, 0.15);\n",
              "      filter: drop-shadow(0px 1px 2px rgba(0, 0, 0, 0.3));\n",
              "      fill: #FFFFFF;\n",
              "    }\n",
              "  </style>\n",
              "\n",
              "    <script>\n",
              "      const buttonEl =\n",
              "        document.querySelector('#df-75202a57-1cb0-4065-b4f3-816708d9082a button.colab-df-convert');\n",
              "      buttonEl.style.display =\n",
              "        google.colab.kernel.accessAllowed ? 'block' : 'none';\n",
              "\n",
              "      async function convertToInteractive(key) {\n",
              "        const element = document.querySelector('#df-75202a57-1cb0-4065-b4f3-816708d9082a');\n",
              "        const dataTable =\n",
              "          await google.colab.kernel.invokeFunction('convertToInteractive',\n",
              "                                                    [key], {});\n",
              "        if (!dataTable) return;\n",
              "\n",
              "        const docLinkHtml = 'Like what you see? Visit the ' +\n",
              "          '<a target=\"_blank\" href=https://colab.research.google.com/notebooks/data_table.ipynb>data table notebook</a>'\n",
              "          + ' to learn more about interactive tables.';\n",
              "        element.innerHTML = '';\n",
              "        dataTable['output_type'] = 'display_data';\n",
              "        await google.colab.output.renderOutput(dataTable, element);\n",
              "        const docLink = document.createElement('div');\n",
              "        docLink.innerHTML = docLinkHtml;\n",
              "        element.appendChild(docLink);\n",
              "      }\n",
              "    </script>\n",
              "  </div>\n",
              "\n",
              "    </div>\n",
              "  </div>\n"
            ]
          },
          "metadata": {},
          "execution_count": 196
        }
      ]
    },
    {
      "cell_type": "markdown",
      "source": [
        "7.A los producos que se les aplica la oferta, ¿Cuánto dinero se está ahorrando el cliente?"
      ],
      "metadata": {
        "id": "zQCAiymJzkQ7"
      },
      "id": "zQCAiymJzkQ7"
    },
    {
      "cell_type": "code",
      "source": [
        "cond = df[df['OFERTA']==1]\n",
        "total = cond['PRECIO_SIN_OFERTA'].sum().round(2)\n",
        "prc_ahorro_oferta = (total*100)/ df['PRECIO_SIN_OFERTA'].sum().round(2)\n",
        "print(f'En total, el cliente se estaria ahorrando un total de \"{total}\"€.Este valor representa un {prc_ahorro_oferta.round(2)}% del total')\n"
      ],
      "metadata": {
        "colab": {
          "base_uri": "https://localhost:8080/"
        },
        "id": "3Okr_1smzkLC",
        "outputId": "c921a028-52c8-4987-833f-2785e6cc6feb"
      },
      "id": "3Okr_1smzkLC",
      "execution_count": null,
      "outputs": [
        {
          "output_type": "stream",
          "name": "stdout",
          "text": [
            "En total, el cliente se estaria ahorrando un total de \"1367.42\"€.Este valor representa un 17.35% del total\n"
          ]
        }
      ]
    },
    {
      "cell_type": "markdown",
      "source": [
        "8.¿Cuál es el producto más barato por pasillos?"
      ],
      "metadata": {
        "id": "Ss-PLpuazkFG"
      },
      "id": "Ss-PLpuazkFG"
    },
    {
      "cell_type": "code",
      "source": [
        "df.groupby('NUM_PASILLOS')[['NOMBRE_PRODUCTO','PRECIO_SIN_OFERTA','CANTIDAD_STOCK']].min()"
      ],
      "metadata": {
        "id": "2_NIeoGpzj_q",
        "outputId": "75e08980-6804-48e4-ad78-ef2c57614206",
        "colab": {
          "base_uri": "https://localhost:8080/",
          "height": 237
        }
      },
      "id": "2_NIeoGpzj_q",
      "execution_count": null,
      "outputs": [
        {
          "output_type": "execute_result",
          "data": {
            "text/plain": [
              "                                                NOMBRE_PRODUCTO  \\\n",
              "NUM_PASILLOS                                                      \n",
              "1                         ACONDICIONADOR_ALOE_HIDRA_BOMB_350_ML   \n",
              "2             ALIMENTO_DE_AVENA_NESTLÉ_VEGGIE_PROBIÓTICOS_FR...   \n",
              "3                                                  ACELGA_500_G   \n",
              "4                                               ABASTERO_CAT._V   \n",
              "5                                          ACEITE_DE_CANOLA_1_L   \n",
              "\n",
              "              PRECIO_SIN_OFERTA  CANTIDAD_STOCK  \n",
              "NUM_PASILLOS                                     \n",
              "1                        0.2090               0  \n",
              "2                        0.2299               0  \n",
              "3                        0.4829               0  \n",
              "4                        2.1890               0  \n",
              "5                        0.1529               0  "
            ],
            "text/html": [
              "\n",
              "  <div id=\"df-a2e4f93c-ba8a-40e3-9283-64644662739a\" class=\"colab-df-container\">\n",
              "    <div>\n",
              "<style scoped>\n",
              "    .dataframe tbody tr th:only-of-type {\n",
              "        vertical-align: middle;\n",
              "    }\n",
              "\n",
              "    .dataframe tbody tr th {\n",
              "        vertical-align: top;\n",
              "    }\n",
              "\n",
              "    .dataframe thead th {\n",
              "        text-align: right;\n",
              "    }\n",
              "</style>\n",
              "<table border=\"1\" class=\"dataframe\">\n",
              "  <thead>\n",
              "    <tr style=\"text-align: right;\">\n",
              "      <th></th>\n",
              "      <th>NOMBRE_PRODUCTO</th>\n",
              "      <th>PRECIO_SIN_OFERTA</th>\n",
              "      <th>CANTIDAD_STOCK</th>\n",
              "    </tr>\n",
              "    <tr>\n",
              "      <th>NUM_PASILLOS</th>\n",
              "      <th></th>\n",
              "      <th></th>\n",
              "      <th></th>\n",
              "    </tr>\n",
              "  </thead>\n",
              "  <tbody>\n",
              "    <tr>\n",
              "      <th>1</th>\n",
              "      <td>ACONDICIONADOR_ALOE_HIDRA_BOMB_350_ML</td>\n",
              "      <td>0.2090</td>\n",
              "      <td>0</td>\n",
              "    </tr>\n",
              "    <tr>\n",
              "      <th>2</th>\n",
              "      <td>ALIMENTO_DE_AVENA_NESTLÉ_VEGGIE_PROBIÓTICOS_FR...</td>\n",
              "      <td>0.2299</td>\n",
              "      <td>0</td>\n",
              "    </tr>\n",
              "    <tr>\n",
              "      <th>3</th>\n",
              "      <td>ACELGA_500_G</td>\n",
              "      <td>0.4829</td>\n",
              "      <td>0</td>\n",
              "    </tr>\n",
              "    <tr>\n",
              "      <th>4</th>\n",
              "      <td>ABASTERO_CAT._V</td>\n",
              "      <td>2.1890</td>\n",
              "      <td>0</td>\n",
              "    </tr>\n",
              "    <tr>\n",
              "      <th>5</th>\n",
              "      <td>ACEITE_DE_CANOLA_1_L</td>\n",
              "      <td>0.1529</td>\n",
              "      <td>0</td>\n",
              "    </tr>\n",
              "  </tbody>\n",
              "</table>\n",
              "</div>\n",
              "    <div class=\"colab-df-buttons\">\n",
              "\n",
              "  <div class=\"colab-df-container\">\n",
              "    <button class=\"colab-df-convert\" onclick=\"convertToInteractive('df-a2e4f93c-ba8a-40e3-9283-64644662739a')\"\n",
              "            title=\"Convert this dataframe to an interactive table.\"\n",
              "            style=\"display:none;\">\n",
              "\n",
              "  <svg xmlns=\"http://www.w3.org/2000/svg\" height=\"24px\" viewBox=\"0 -960 960 960\">\n",
              "    <path d=\"M120-120v-720h720v720H120Zm60-500h600v-160H180v160Zm220 220h160v-160H400v160Zm0 220h160v-160H400v160ZM180-400h160v-160H180v160Zm440 0h160v-160H620v160ZM180-180h160v-160H180v160Zm440 0h160v-160H620v160Z\"/>\n",
              "  </svg>\n",
              "    </button>\n",
              "\n",
              "  <style>\n",
              "    .colab-df-container {\n",
              "      display:flex;\n",
              "      gap: 12px;\n",
              "    }\n",
              "\n",
              "    .colab-df-convert {\n",
              "      background-color: #E8F0FE;\n",
              "      border: none;\n",
              "      border-radius: 50%;\n",
              "      cursor: pointer;\n",
              "      display: none;\n",
              "      fill: #1967D2;\n",
              "      height: 32px;\n",
              "      padding: 0 0 0 0;\n",
              "      width: 32px;\n",
              "    }\n",
              "\n",
              "    .colab-df-convert:hover {\n",
              "      background-color: #E2EBFA;\n",
              "      box-shadow: 0px 1px 2px rgba(60, 64, 67, 0.3), 0px 1px 3px 1px rgba(60, 64, 67, 0.15);\n",
              "      fill: #174EA6;\n",
              "    }\n",
              "\n",
              "    .colab-df-buttons div {\n",
              "      margin-bottom: 4px;\n",
              "    }\n",
              "\n",
              "    [theme=dark] .colab-df-convert {\n",
              "      background-color: #3B4455;\n",
              "      fill: #D2E3FC;\n",
              "    }\n",
              "\n",
              "    [theme=dark] .colab-df-convert:hover {\n",
              "      background-color: #434B5C;\n",
              "      box-shadow: 0px 1px 3px 1px rgba(0, 0, 0, 0.15);\n",
              "      filter: drop-shadow(0px 1px 2px rgba(0, 0, 0, 0.3));\n",
              "      fill: #FFFFFF;\n",
              "    }\n",
              "  </style>\n",
              "\n",
              "    <script>\n",
              "      const buttonEl =\n",
              "        document.querySelector('#df-a2e4f93c-ba8a-40e3-9283-64644662739a button.colab-df-convert');\n",
              "      buttonEl.style.display =\n",
              "        google.colab.kernel.accessAllowed ? 'block' : 'none';\n",
              "\n",
              "      async function convertToInteractive(key) {\n",
              "        const element = document.querySelector('#df-a2e4f93c-ba8a-40e3-9283-64644662739a');\n",
              "        const dataTable =\n",
              "          await google.colab.kernel.invokeFunction('convertToInteractive',\n",
              "                                                    [key], {});\n",
              "        if (!dataTable) return;\n",
              "\n",
              "        const docLinkHtml = 'Like what you see? Visit the ' +\n",
              "          '<a target=\"_blank\" href=https://colab.research.google.com/notebooks/data_table.ipynb>data table notebook</a>'\n",
              "          + ' to learn more about interactive tables.';\n",
              "        element.innerHTML = '';\n",
              "        dataTable['output_type'] = 'display_data';\n",
              "        await google.colab.output.renderOutput(dataTable, element);\n",
              "        const docLink = document.createElement('div');\n",
              "        docLink.innerHTML = docLinkHtml;\n",
              "        element.appendChild(docLink);\n",
              "      }\n",
              "    </script>\n",
              "  </div>\n",
              "\n",
              "\n",
              "<div id=\"df-94218f84-6b5d-48f1-811b-d0acf269754a\">\n",
              "  <button class=\"colab-df-quickchart\" onclick=\"quickchart('df-94218f84-6b5d-48f1-811b-d0acf269754a')\"\n",
              "            title=\"Suggest charts\"\n",
              "            style=\"display:none;\">\n",
              "\n",
              "<svg xmlns=\"http://www.w3.org/2000/svg\" height=\"24px\"viewBox=\"0 0 24 24\"\n",
              "     width=\"24px\">\n",
              "    <g>\n",
              "        <path d=\"M19 3H5c-1.1 0-2 .9-2 2v14c0 1.1.9 2 2 2h14c1.1 0 2-.9 2-2V5c0-1.1-.9-2-2-2zM9 17H7v-7h2v7zm4 0h-2V7h2v10zm4 0h-2v-4h2v4z\"/>\n",
              "    </g>\n",
              "</svg>\n",
              "  </button>\n",
              "\n",
              "<style>\n",
              "  .colab-df-quickchart {\n",
              "      --bg-color: #E8F0FE;\n",
              "      --fill-color: #1967D2;\n",
              "      --hover-bg-color: #E2EBFA;\n",
              "      --hover-fill-color: #174EA6;\n",
              "      --disabled-fill-color: #AAA;\n",
              "      --disabled-bg-color: #DDD;\n",
              "  }\n",
              "\n",
              "  [theme=dark] .colab-df-quickchart {\n",
              "      --bg-color: #3B4455;\n",
              "      --fill-color: #D2E3FC;\n",
              "      --hover-bg-color: #434B5C;\n",
              "      --hover-fill-color: #FFFFFF;\n",
              "      --disabled-bg-color: #3B4455;\n",
              "      --disabled-fill-color: #666;\n",
              "  }\n",
              "\n",
              "  .colab-df-quickchart {\n",
              "    background-color: var(--bg-color);\n",
              "    border: none;\n",
              "    border-radius: 50%;\n",
              "    cursor: pointer;\n",
              "    display: none;\n",
              "    fill: var(--fill-color);\n",
              "    height: 32px;\n",
              "    padding: 0;\n",
              "    width: 32px;\n",
              "  }\n",
              "\n",
              "  .colab-df-quickchart:hover {\n",
              "    background-color: var(--hover-bg-color);\n",
              "    box-shadow: 0 1px 2px rgba(60, 64, 67, 0.3), 0 1px 3px 1px rgba(60, 64, 67, 0.15);\n",
              "    fill: var(--button-hover-fill-color);\n",
              "  }\n",
              "\n",
              "  .colab-df-quickchart-complete:disabled,\n",
              "  .colab-df-quickchart-complete:disabled:hover {\n",
              "    background-color: var(--disabled-bg-color);\n",
              "    fill: var(--disabled-fill-color);\n",
              "    box-shadow: none;\n",
              "  }\n",
              "\n",
              "  .colab-df-spinner {\n",
              "    border: 2px solid var(--fill-color);\n",
              "    border-color: transparent;\n",
              "    border-bottom-color: var(--fill-color);\n",
              "    animation:\n",
              "      spin 1s steps(1) infinite;\n",
              "  }\n",
              "\n",
              "  @keyframes spin {\n",
              "    0% {\n",
              "      border-color: transparent;\n",
              "      border-bottom-color: var(--fill-color);\n",
              "      border-left-color: var(--fill-color);\n",
              "    }\n",
              "    20% {\n",
              "      border-color: transparent;\n",
              "      border-left-color: var(--fill-color);\n",
              "      border-top-color: var(--fill-color);\n",
              "    }\n",
              "    30% {\n",
              "      border-color: transparent;\n",
              "      border-left-color: var(--fill-color);\n",
              "      border-top-color: var(--fill-color);\n",
              "      border-right-color: var(--fill-color);\n",
              "    }\n",
              "    40% {\n",
              "      border-color: transparent;\n",
              "      border-right-color: var(--fill-color);\n",
              "      border-top-color: var(--fill-color);\n",
              "    }\n",
              "    60% {\n",
              "      border-color: transparent;\n",
              "      border-right-color: var(--fill-color);\n",
              "    }\n",
              "    80% {\n",
              "      border-color: transparent;\n",
              "      border-right-color: var(--fill-color);\n",
              "      border-bottom-color: var(--fill-color);\n",
              "    }\n",
              "    90% {\n",
              "      border-color: transparent;\n",
              "      border-bottom-color: var(--fill-color);\n",
              "    }\n",
              "  }\n",
              "</style>\n",
              "\n",
              "  <script>\n",
              "    async function quickchart(key) {\n",
              "      const quickchartButtonEl =\n",
              "        document.querySelector('#' + key + ' button');\n",
              "      quickchartButtonEl.disabled = true;  // To prevent multiple clicks.\n",
              "      quickchartButtonEl.classList.add('colab-df-spinner');\n",
              "      try {\n",
              "        const charts = await google.colab.kernel.invokeFunction(\n",
              "            'suggestCharts', [key], {});\n",
              "      } catch (error) {\n",
              "        console.error('Error during call to suggestCharts:', error);\n",
              "      }\n",
              "      quickchartButtonEl.classList.remove('colab-df-spinner');\n",
              "      quickchartButtonEl.classList.add('colab-df-quickchart-complete');\n",
              "    }\n",
              "    (() => {\n",
              "      let quickchartButtonEl =\n",
              "        document.querySelector('#df-94218f84-6b5d-48f1-811b-d0acf269754a button');\n",
              "      quickchartButtonEl.style.display =\n",
              "        google.colab.kernel.accessAllowed ? 'block' : 'none';\n",
              "    })();\n",
              "  </script>\n",
              "</div>\n",
              "    </div>\n",
              "  </div>\n"
            ]
          },
          "metadata": {},
          "execution_count": 198
        }
      ]
    },
    {
      "cell_type": "markdown",
      "source": [
        "9.¿Cuál es el producto más caro por pasillos?"
      ],
      "metadata": {
        "id": "g6JBWUURzj57"
      },
      "id": "g6JBWUURzj57"
    },
    {
      "cell_type": "code",
      "source": [
        "df.groupby('NUM_PASILLOS')[['NOMBRE_PRODUCTO','PRECIO_SIN_OFERTA','CANTIDAD_STOCK']].max().sort_values(by='NUM_PASILLOS')"
      ],
      "metadata": {
        "id": "3DPBqzbczjzJ",
        "outputId": "92919121-9d5c-42b2-af6d-ac8c2936b03e",
        "colab": {
          "base_uri": "https://localhost:8080/",
          "height": 237
        }
      },
      "id": "3DPBqzbczjzJ",
      "execution_count": null,
      "outputs": [
        {
          "output_type": "execute_result",
          "data": {
            "text/plain": [
              "                               NOMBRE_PRODUCTO  PRECIO_SIN_OFERTA  \\\n",
              "NUM_PASILLOS                                                        \n",
              "1                        ÑOQUIS_TRICOLOR_500_G            35.7390   \n",
              "2             YOGURT_TRIPLE_ZERO_NATURAL_900_G            21.7668   \n",
              "3                         ZAPALLO_ITALIANO_UN.            12.0890   \n",
              "4                              TRUTRO_LARGO_KG            38.6958   \n",
              "5                VINAGRE_DE_VINO_ROSADO_500_ML            48.4308   \n",
              "\n",
              "              CANTIDAD_STOCK  \n",
              "NUM_PASILLOS                  \n",
              "1                         50  \n",
              "2                         50  \n",
              "3                         50  \n",
              "4                         49  \n",
              "5                         50  "
            ],
            "text/html": [
              "\n",
              "  <div id=\"df-adb46a63-e6d3-4f31-b5f5-622e0f41f012\" class=\"colab-df-container\">\n",
              "    <div>\n",
              "<style scoped>\n",
              "    .dataframe tbody tr th:only-of-type {\n",
              "        vertical-align: middle;\n",
              "    }\n",
              "\n",
              "    .dataframe tbody tr th {\n",
              "        vertical-align: top;\n",
              "    }\n",
              "\n",
              "    .dataframe thead th {\n",
              "        text-align: right;\n",
              "    }\n",
              "</style>\n",
              "<table border=\"1\" class=\"dataframe\">\n",
              "  <thead>\n",
              "    <tr style=\"text-align: right;\">\n",
              "      <th></th>\n",
              "      <th>NOMBRE_PRODUCTO</th>\n",
              "      <th>PRECIO_SIN_OFERTA</th>\n",
              "      <th>CANTIDAD_STOCK</th>\n",
              "    </tr>\n",
              "    <tr>\n",
              "      <th>NUM_PASILLOS</th>\n",
              "      <th></th>\n",
              "      <th></th>\n",
              "      <th></th>\n",
              "    </tr>\n",
              "  </thead>\n",
              "  <tbody>\n",
              "    <tr>\n",
              "      <th>1</th>\n",
              "      <td>ÑOQUIS_TRICOLOR_500_G</td>\n",
              "      <td>35.7390</td>\n",
              "      <td>50</td>\n",
              "    </tr>\n",
              "    <tr>\n",
              "      <th>2</th>\n",
              "      <td>YOGURT_TRIPLE_ZERO_NATURAL_900_G</td>\n",
              "      <td>21.7668</td>\n",
              "      <td>50</td>\n",
              "    </tr>\n",
              "    <tr>\n",
              "      <th>3</th>\n",
              "      <td>ZAPALLO_ITALIANO_UN.</td>\n",
              "      <td>12.0890</td>\n",
              "      <td>50</td>\n",
              "    </tr>\n",
              "    <tr>\n",
              "      <th>4</th>\n",
              "      <td>TRUTRO_LARGO_KG</td>\n",
              "      <td>38.6958</td>\n",
              "      <td>49</td>\n",
              "    </tr>\n",
              "    <tr>\n",
              "      <th>5</th>\n",
              "      <td>VINAGRE_DE_VINO_ROSADO_500_ML</td>\n",
              "      <td>48.4308</td>\n",
              "      <td>50</td>\n",
              "    </tr>\n",
              "  </tbody>\n",
              "</table>\n",
              "</div>\n",
              "    <div class=\"colab-df-buttons\">\n",
              "\n",
              "  <div class=\"colab-df-container\">\n",
              "    <button class=\"colab-df-convert\" onclick=\"convertToInteractive('df-adb46a63-e6d3-4f31-b5f5-622e0f41f012')\"\n",
              "            title=\"Convert this dataframe to an interactive table.\"\n",
              "            style=\"display:none;\">\n",
              "\n",
              "  <svg xmlns=\"http://www.w3.org/2000/svg\" height=\"24px\" viewBox=\"0 -960 960 960\">\n",
              "    <path d=\"M120-120v-720h720v720H120Zm60-500h600v-160H180v160Zm220 220h160v-160H400v160Zm0 220h160v-160H400v160ZM180-400h160v-160H180v160Zm440 0h160v-160H620v160ZM180-180h160v-160H180v160Zm440 0h160v-160H620v160Z\"/>\n",
              "  </svg>\n",
              "    </button>\n",
              "\n",
              "  <style>\n",
              "    .colab-df-container {\n",
              "      display:flex;\n",
              "      gap: 12px;\n",
              "    }\n",
              "\n",
              "    .colab-df-convert {\n",
              "      background-color: #E8F0FE;\n",
              "      border: none;\n",
              "      border-radius: 50%;\n",
              "      cursor: pointer;\n",
              "      display: none;\n",
              "      fill: #1967D2;\n",
              "      height: 32px;\n",
              "      padding: 0 0 0 0;\n",
              "      width: 32px;\n",
              "    }\n",
              "\n",
              "    .colab-df-convert:hover {\n",
              "      background-color: #E2EBFA;\n",
              "      box-shadow: 0px 1px 2px rgba(60, 64, 67, 0.3), 0px 1px 3px 1px rgba(60, 64, 67, 0.15);\n",
              "      fill: #174EA6;\n",
              "    }\n",
              "\n",
              "    .colab-df-buttons div {\n",
              "      margin-bottom: 4px;\n",
              "    }\n",
              "\n",
              "    [theme=dark] .colab-df-convert {\n",
              "      background-color: #3B4455;\n",
              "      fill: #D2E3FC;\n",
              "    }\n",
              "\n",
              "    [theme=dark] .colab-df-convert:hover {\n",
              "      background-color: #434B5C;\n",
              "      box-shadow: 0px 1px 3px 1px rgba(0, 0, 0, 0.15);\n",
              "      filter: drop-shadow(0px 1px 2px rgba(0, 0, 0, 0.3));\n",
              "      fill: #FFFFFF;\n",
              "    }\n",
              "  </style>\n",
              "\n",
              "    <script>\n",
              "      const buttonEl =\n",
              "        document.querySelector('#df-adb46a63-e6d3-4f31-b5f5-622e0f41f012 button.colab-df-convert');\n",
              "      buttonEl.style.display =\n",
              "        google.colab.kernel.accessAllowed ? 'block' : 'none';\n",
              "\n",
              "      async function convertToInteractive(key) {\n",
              "        const element = document.querySelector('#df-adb46a63-e6d3-4f31-b5f5-622e0f41f012');\n",
              "        const dataTable =\n",
              "          await google.colab.kernel.invokeFunction('convertToInteractive',\n",
              "                                                    [key], {});\n",
              "        if (!dataTable) return;\n",
              "\n",
              "        const docLinkHtml = 'Like what you see? Visit the ' +\n",
              "          '<a target=\"_blank\" href=https://colab.research.google.com/notebooks/data_table.ipynb>data table notebook</a>'\n",
              "          + ' to learn more about interactive tables.';\n",
              "        element.innerHTML = '';\n",
              "        dataTable['output_type'] = 'display_data';\n",
              "        await google.colab.output.renderOutput(dataTable, element);\n",
              "        const docLink = document.createElement('div');\n",
              "        docLink.innerHTML = docLinkHtml;\n",
              "        element.appendChild(docLink);\n",
              "      }\n",
              "    </script>\n",
              "  </div>\n",
              "\n",
              "\n",
              "<div id=\"df-af28be8d-3826-477b-adff-2f9ddaae5fbc\">\n",
              "  <button class=\"colab-df-quickchart\" onclick=\"quickchart('df-af28be8d-3826-477b-adff-2f9ddaae5fbc')\"\n",
              "            title=\"Suggest charts\"\n",
              "            style=\"display:none;\">\n",
              "\n",
              "<svg xmlns=\"http://www.w3.org/2000/svg\" height=\"24px\"viewBox=\"0 0 24 24\"\n",
              "     width=\"24px\">\n",
              "    <g>\n",
              "        <path d=\"M19 3H5c-1.1 0-2 .9-2 2v14c0 1.1.9 2 2 2h14c1.1 0 2-.9 2-2V5c0-1.1-.9-2-2-2zM9 17H7v-7h2v7zm4 0h-2V7h2v10zm4 0h-2v-4h2v4z\"/>\n",
              "    </g>\n",
              "</svg>\n",
              "  </button>\n",
              "\n",
              "<style>\n",
              "  .colab-df-quickchart {\n",
              "      --bg-color: #E8F0FE;\n",
              "      --fill-color: #1967D2;\n",
              "      --hover-bg-color: #E2EBFA;\n",
              "      --hover-fill-color: #174EA6;\n",
              "      --disabled-fill-color: #AAA;\n",
              "      --disabled-bg-color: #DDD;\n",
              "  }\n",
              "\n",
              "  [theme=dark] .colab-df-quickchart {\n",
              "      --bg-color: #3B4455;\n",
              "      --fill-color: #D2E3FC;\n",
              "      --hover-bg-color: #434B5C;\n",
              "      --hover-fill-color: #FFFFFF;\n",
              "      --disabled-bg-color: #3B4455;\n",
              "      --disabled-fill-color: #666;\n",
              "  }\n",
              "\n",
              "  .colab-df-quickchart {\n",
              "    background-color: var(--bg-color);\n",
              "    border: none;\n",
              "    border-radius: 50%;\n",
              "    cursor: pointer;\n",
              "    display: none;\n",
              "    fill: var(--fill-color);\n",
              "    height: 32px;\n",
              "    padding: 0;\n",
              "    width: 32px;\n",
              "  }\n",
              "\n",
              "  .colab-df-quickchart:hover {\n",
              "    background-color: var(--hover-bg-color);\n",
              "    box-shadow: 0 1px 2px rgba(60, 64, 67, 0.3), 0 1px 3px 1px rgba(60, 64, 67, 0.15);\n",
              "    fill: var(--button-hover-fill-color);\n",
              "  }\n",
              "\n",
              "  .colab-df-quickchart-complete:disabled,\n",
              "  .colab-df-quickchart-complete:disabled:hover {\n",
              "    background-color: var(--disabled-bg-color);\n",
              "    fill: var(--disabled-fill-color);\n",
              "    box-shadow: none;\n",
              "  }\n",
              "\n",
              "  .colab-df-spinner {\n",
              "    border: 2px solid var(--fill-color);\n",
              "    border-color: transparent;\n",
              "    border-bottom-color: var(--fill-color);\n",
              "    animation:\n",
              "      spin 1s steps(1) infinite;\n",
              "  }\n",
              "\n",
              "  @keyframes spin {\n",
              "    0% {\n",
              "      border-color: transparent;\n",
              "      border-bottom-color: var(--fill-color);\n",
              "      border-left-color: var(--fill-color);\n",
              "    }\n",
              "    20% {\n",
              "      border-color: transparent;\n",
              "      border-left-color: var(--fill-color);\n",
              "      border-top-color: var(--fill-color);\n",
              "    }\n",
              "    30% {\n",
              "      border-color: transparent;\n",
              "      border-left-color: var(--fill-color);\n",
              "      border-top-color: var(--fill-color);\n",
              "      border-right-color: var(--fill-color);\n",
              "    }\n",
              "    40% {\n",
              "      border-color: transparent;\n",
              "      border-right-color: var(--fill-color);\n",
              "      border-top-color: var(--fill-color);\n",
              "    }\n",
              "    60% {\n",
              "      border-color: transparent;\n",
              "      border-right-color: var(--fill-color);\n",
              "    }\n",
              "    80% {\n",
              "      border-color: transparent;\n",
              "      border-right-color: var(--fill-color);\n",
              "      border-bottom-color: var(--fill-color);\n",
              "    }\n",
              "    90% {\n",
              "      border-color: transparent;\n",
              "      border-bottom-color: var(--fill-color);\n",
              "    }\n",
              "  }\n",
              "</style>\n",
              "\n",
              "  <script>\n",
              "    async function quickchart(key) {\n",
              "      const quickchartButtonEl =\n",
              "        document.querySelector('#' + key + ' button');\n",
              "      quickchartButtonEl.disabled = true;  // To prevent multiple clicks.\n",
              "      quickchartButtonEl.classList.add('colab-df-spinner');\n",
              "      try {\n",
              "        const charts = await google.colab.kernel.invokeFunction(\n",
              "            'suggestCharts', [key], {});\n",
              "      } catch (error) {\n",
              "        console.error('Error during call to suggestCharts:', error);\n",
              "      }\n",
              "      quickchartButtonEl.classList.remove('colab-df-spinner');\n",
              "      quickchartButtonEl.classList.add('colab-df-quickchart-complete');\n",
              "    }\n",
              "    (() => {\n",
              "      let quickchartButtonEl =\n",
              "        document.querySelector('#df-af28be8d-3826-477b-adff-2f9ddaae5fbc button');\n",
              "      quickchartButtonEl.style.display =\n",
              "        google.colab.kernel.accessAllowed ? 'block' : 'none';\n",
              "    })();\n",
              "  </script>\n",
              "</div>\n",
              "    </div>\n",
              "  </div>\n"
            ]
          },
          "metadata": {},
          "execution_count": 197
        }
      ]
    },
    {
      "cell_type": "markdown",
      "source": [
        "10.¿Cuál es el producto con más Stock por pasillos?"
      ],
      "metadata": {
        "id": "eKdH-nWjzjtK"
      },
      "id": "eKdH-nWjzjtK"
    },
    {
      "cell_type": "code",
      "source": [
        "df.groupby('NUM_PASILLOS')[['NOMBRE_PRODUCTO','CANTIDAD_STOCK','PRECIO_SIN_OFERTA']].max()"
      ],
      "metadata": {
        "id": "PaymC_bpzjk9",
        "outputId": "7a8fcb95-65a8-4d48-d0f5-480983ea80d9",
        "colab": {
          "base_uri": "https://localhost:8080/",
          "height": 237
        }
      },
      "id": "PaymC_bpzjk9",
      "execution_count": null,
      "outputs": [
        {
          "output_type": "execute_result",
          "data": {
            "text/plain": [
              "                               NOMBRE_PRODUCTO  CANTIDAD_STOCK  \\\n",
              "NUM_PASILLOS                                                     \n",
              "1                        ÑOQUIS_TRICOLOR_500_G              50   \n",
              "2             YOGURT_TRIPLE_ZERO_NATURAL_900_G              50   \n",
              "3                         ZAPALLO_ITALIANO_UN.              50   \n",
              "4                              TRUTRO_LARGO_KG              49   \n",
              "5                VINAGRE_DE_VINO_ROSADO_500_ML              50   \n",
              "\n",
              "              PRECIO_SIN_OFERTA  \n",
              "NUM_PASILLOS                     \n",
              "1                       35.7390  \n",
              "2                       21.7668  \n",
              "3                       12.0890  \n",
              "4                       38.6958  \n",
              "5                       48.4308  "
            ],
            "text/html": [
              "\n",
              "  <div id=\"df-36b8ee51-574f-4a2e-a21b-295b0d61ccd2\" class=\"colab-df-container\">\n",
              "    <div>\n",
              "<style scoped>\n",
              "    .dataframe tbody tr th:only-of-type {\n",
              "        vertical-align: middle;\n",
              "    }\n",
              "\n",
              "    .dataframe tbody tr th {\n",
              "        vertical-align: top;\n",
              "    }\n",
              "\n",
              "    .dataframe thead th {\n",
              "        text-align: right;\n",
              "    }\n",
              "</style>\n",
              "<table border=\"1\" class=\"dataframe\">\n",
              "  <thead>\n",
              "    <tr style=\"text-align: right;\">\n",
              "      <th></th>\n",
              "      <th>NOMBRE_PRODUCTO</th>\n",
              "      <th>CANTIDAD_STOCK</th>\n",
              "      <th>PRECIO_SIN_OFERTA</th>\n",
              "    </tr>\n",
              "    <tr>\n",
              "      <th>NUM_PASILLOS</th>\n",
              "      <th></th>\n",
              "      <th></th>\n",
              "      <th></th>\n",
              "    </tr>\n",
              "  </thead>\n",
              "  <tbody>\n",
              "    <tr>\n",
              "      <th>1</th>\n",
              "      <td>ÑOQUIS_TRICOLOR_500_G</td>\n",
              "      <td>50</td>\n",
              "      <td>35.7390</td>\n",
              "    </tr>\n",
              "    <tr>\n",
              "      <th>2</th>\n",
              "      <td>YOGURT_TRIPLE_ZERO_NATURAL_900_G</td>\n",
              "      <td>50</td>\n",
              "      <td>21.7668</td>\n",
              "    </tr>\n",
              "    <tr>\n",
              "      <th>3</th>\n",
              "      <td>ZAPALLO_ITALIANO_UN.</td>\n",
              "      <td>50</td>\n",
              "      <td>12.0890</td>\n",
              "    </tr>\n",
              "    <tr>\n",
              "      <th>4</th>\n",
              "      <td>TRUTRO_LARGO_KG</td>\n",
              "      <td>49</td>\n",
              "      <td>38.6958</td>\n",
              "    </tr>\n",
              "    <tr>\n",
              "      <th>5</th>\n",
              "      <td>VINAGRE_DE_VINO_ROSADO_500_ML</td>\n",
              "      <td>50</td>\n",
              "      <td>48.4308</td>\n",
              "    </tr>\n",
              "  </tbody>\n",
              "</table>\n",
              "</div>\n",
              "    <div class=\"colab-df-buttons\">\n",
              "\n",
              "  <div class=\"colab-df-container\">\n",
              "    <button class=\"colab-df-convert\" onclick=\"convertToInteractive('df-36b8ee51-574f-4a2e-a21b-295b0d61ccd2')\"\n",
              "            title=\"Convert this dataframe to an interactive table.\"\n",
              "            style=\"display:none;\">\n",
              "\n",
              "  <svg xmlns=\"http://www.w3.org/2000/svg\" height=\"24px\" viewBox=\"0 -960 960 960\">\n",
              "    <path d=\"M120-120v-720h720v720H120Zm60-500h600v-160H180v160Zm220 220h160v-160H400v160Zm0 220h160v-160H400v160ZM180-400h160v-160H180v160Zm440 0h160v-160H620v160ZM180-180h160v-160H180v160Zm440 0h160v-160H620v160Z\"/>\n",
              "  </svg>\n",
              "    </button>\n",
              "\n",
              "  <style>\n",
              "    .colab-df-container {\n",
              "      display:flex;\n",
              "      gap: 12px;\n",
              "    }\n",
              "\n",
              "    .colab-df-convert {\n",
              "      background-color: #E8F0FE;\n",
              "      border: none;\n",
              "      border-radius: 50%;\n",
              "      cursor: pointer;\n",
              "      display: none;\n",
              "      fill: #1967D2;\n",
              "      height: 32px;\n",
              "      padding: 0 0 0 0;\n",
              "      width: 32px;\n",
              "    }\n",
              "\n",
              "    .colab-df-convert:hover {\n",
              "      background-color: #E2EBFA;\n",
              "      box-shadow: 0px 1px 2px rgba(60, 64, 67, 0.3), 0px 1px 3px 1px rgba(60, 64, 67, 0.15);\n",
              "      fill: #174EA6;\n",
              "    }\n",
              "\n",
              "    .colab-df-buttons div {\n",
              "      margin-bottom: 4px;\n",
              "    }\n",
              "\n",
              "    [theme=dark] .colab-df-convert {\n",
              "      background-color: #3B4455;\n",
              "      fill: #D2E3FC;\n",
              "    }\n",
              "\n",
              "    [theme=dark] .colab-df-convert:hover {\n",
              "      background-color: #434B5C;\n",
              "      box-shadow: 0px 1px 3px 1px rgba(0, 0, 0, 0.15);\n",
              "      filter: drop-shadow(0px 1px 2px rgba(0, 0, 0, 0.3));\n",
              "      fill: #FFFFFF;\n",
              "    }\n",
              "  </style>\n",
              "\n",
              "    <script>\n",
              "      const buttonEl =\n",
              "        document.querySelector('#df-36b8ee51-574f-4a2e-a21b-295b0d61ccd2 button.colab-df-convert');\n",
              "      buttonEl.style.display =\n",
              "        google.colab.kernel.accessAllowed ? 'block' : 'none';\n",
              "\n",
              "      async function convertToInteractive(key) {\n",
              "        const element = document.querySelector('#df-36b8ee51-574f-4a2e-a21b-295b0d61ccd2');\n",
              "        const dataTable =\n",
              "          await google.colab.kernel.invokeFunction('convertToInteractive',\n",
              "                                                    [key], {});\n",
              "        if (!dataTable) return;\n",
              "\n",
              "        const docLinkHtml = 'Like what you see? Visit the ' +\n",
              "          '<a target=\"_blank\" href=https://colab.research.google.com/notebooks/data_table.ipynb>data table notebook</a>'\n",
              "          + ' to learn more about interactive tables.';\n",
              "        element.innerHTML = '';\n",
              "        dataTable['output_type'] = 'display_data';\n",
              "        await google.colab.output.renderOutput(dataTable, element);\n",
              "        const docLink = document.createElement('div');\n",
              "        docLink.innerHTML = docLinkHtml;\n",
              "        element.appendChild(docLink);\n",
              "      }\n",
              "    </script>\n",
              "  </div>\n",
              "\n",
              "\n",
              "<div id=\"df-abe330c9-0ae7-4c3f-bc75-ee29f94a2735\">\n",
              "  <button class=\"colab-df-quickchart\" onclick=\"quickchart('df-abe330c9-0ae7-4c3f-bc75-ee29f94a2735')\"\n",
              "            title=\"Suggest charts\"\n",
              "            style=\"display:none;\">\n",
              "\n",
              "<svg xmlns=\"http://www.w3.org/2000/svg\" height=\"24px\"viewBox=\"0 0 24 24\"\n",
              "     width=\"24px\">\n",
              "    <g>\n",
              "        <path d=\"M19 3H5c-1.1 0-2 .9-2 2v14c0 1.1.9 2 2 2h14c1.1 0 2-.9 2-2V5c0-1.1-.9-2-2-2zM9 17H7v-7h2v7zm4 0h-2V7h2v10zm4 0h-2v-4h2v4z\"/>\n",
              "    </g>\n",
              "</svg>\n",
              "  </button>\n",
              "\n",
              "<style>\n",
              "  .colab-df-quickchart {\n",
              "      --bg-color: #E8F0FE;\n",
              "      --fill-color: #1967D2;\n",
              "      --hover-bg-color: #E2EBFA;\n",
              "      --hover-fill-color: #174EA6;\n",
              "      --disabled-fill-color: #AAA;\n",
              "      --disabled-bg-color: #DDD;\n",
              "  }\n",
              "\n",
              "  [theme=dark] .colab-df-quickchart {\n",
              "      --bg-color: #3B4455;\n",
              "      --fill-color: #D2E3FC;\n",
              "      --hover-bg-color: #434B5C;\n",
              "      --hover-fill-color: #FFFFFF;\n",
              "      --disabled-bg-color: #3B4455;\n",
              "      --disabled-fill-color: #666;\n",
              "  }\n",
              "\n",
              "  .colab-df-quickchart {\n",
              "    background-color: var(--bg-color);\n",
              "    border: none;\n",
              "    border-radius: 50%;\n",
              "    cursor: pointer;\n",
              "    display: none;\n",
              "    fill: var(--fill-color);\n",
              "    height: 32px;\n",
              "    padding: 0;\n",
              "    width: 32px;\n",
              "  }\n",
              "\n",
              "  .colab-df-quickchart:hover {\n",
              "    background-color: var(--hover-bg-color);\n",
              "    box-shadow: 0 1px 2px rgba(60, 64, 67, 0.3), 0 1px 3px 1px rgba(60, 64, 67, 0.15);\n",
              "    fill: var(--button-hover-fill-color);\n",
              "  }\n",
              "\n",
              "  .colab-df-quickchart-complete:disabled,\n",
              "  .colab-df-quickchart-complete:disabled:hover {\n",
              "    background-color: var(--disabled-bg-color);\n",
              "    fill: var(--disabled-fill-color);\n",
              "    box-shadow: none;\n",
              "  }\n",
              "\n",
              "  .colab-df-spinner {\n",
              "    border: 2px solid var(--fill-color);\n",
              "    border-color: transparent;\n",
              "    border-bottom-color: var(--fill-color);\n",
              "    animation:\n",
              "      spin 1s steps(1) infinite;\n",
              "  }\n",
              "\n",
              "  @keyframes spin {\n",
              "    0% {\n",
              "      border-color: transparent;\n",
              "      border-bottom-color: var(--fill-color);\n",
              "      border-left-color: var(--fill-color);\n",
              "    }\n",
              "    20% {\n",
              "      border-color: transparent;\n",
              "      border-left-color: var(--fill-color);\n",
              "      border-top-color: var(--fill-color);\n",
              "    }\n",
              "    30% {\n",
              "      border-color: transparent;\n",
              "      border-left-color: var(--fill-color);\n",
              "      border-top-color: var(--fill-color);\n",
              "      border-right-color: var(--fill-color);\n",
              "    }\n",
              "    40% {\n",
              "      border-color: transparent;\n",
              "      border-right-color: var(--fill-color);\n",
              "      border-top-color: var(--fill-color);\n",
              "    }\n",
              "    60% {\n",
              "      border-color: transparent;\n",
              "      border-right-color: var(--fill-color);\n",
              "    }\n",
              "    80% {\n",
              "      border-color: transparent;\n",
              "      border-right-color: var(--fill-color);\n",
              "      border-bottom-color: var(--fill-color);\n",
              "    }\n",
              "    90% {\n",
              "      border-color: transparent;\n",
              "      border-bottom-color: var(--fill-color);\n",
              "    }\n",
              "  }\n",
              "</style>\n",
              "\n",
              "  <script>\n",
              "    async function quickchart(key) {\n",
              "      const quickchartButtonEl =\n",
              "        document.querySelector('#' + key + ' button');\n",
              "      quickchartButtonEl.disabled = true;  // To prevent multiple clicks.\n",
              "      quickchartButtonEl.classList.add('colab-df-spinner');\n",
              "      try {\n",
              "        const charts = await google.colab.kernel.invokeFunction(\n",
              "            'suggestCharts', [key], {});\n",
              "      } catch (error) {\n",
              "        console.error('Error during call to suggestCharts:', error);\n",
              "      }\n",
              "      quickchartButtonEl.classList.remove('colab-df-spinner');\n",
              "      quickchartButtonEl.classList.add('colab-df-quickchart-complete');\n",
              "    }\n",
              "    (() => {\n",
              "      let quickchartButtonEl =\n",
              "        document.querySelector('#df-abe330c9-0ae7-4c3f-bc75-ee29f94a2735 button');\n",
              "      quickchartButtonEl.style.display =\n",
              "        google.colab.kernel.accessAllowed ? 'block' : 'none';\n",
              "    })();\n",
              "  </script>\n",
              "</div>\n",
              "    </div>\n",
              "  </div>\n"
            ]
          },
          "metadata": {},
          "execution_count": 199
        }
      ]
    },
    {
      "cell_type": "markdown",
      "source": [
        "11.¿Qué ocurre con el producto \"Mostaza regular doypack 1000 g\"? ¿Hay algún otro producto que le ocurra lo mismo?"
      ],
      "metadata": {
        "id": "pdT7XnFNzjeT"
      },
      "id": "pdT7XnFNzjeT"
    },
    {
      "cell_type": "code",
      "source": [
        "df[df['NOMBRE_PRODUCTO']== \"Mostaza regular doypack 1000 g\"]"
      ],
      "metadata": {
        "id": "C11_PfMPzjW1",
        "outputId": "5c8b8e67-3136-4605-f13b-dedfe43418e3",
        "colab": {
          "base_uri": "https://localhost:8080/",
          "height": 118
        }
      },
      "id": "C11_PfMPzjW1",
      "execution_count": null,
      "outputs": [
        {
          "output_type": "execute_result",
          "data": {
            "text/plain": [
              "                     NOMBRE_PRODUCTO MARCA  PRECIO_SIN_OFERTA  \\\n",
              "3505  Mostaza regular doypack 1000 g    JB           2.194894   \n",
              "\n",
              "      PRECIO_OFERTA_MIN  PRECIO_OFERTA_MAX  OFERTA ZONA_SUPERMERCADO  \\\n",
              "3505           0.641355            0.66124       0          despensa   \n",
              "\n",
              "      NUM_PASILLOS      TIPO_PRODUCTO                    DATATIME ATRIBUTOS  \\\n",
              "3505             5  aderezos-y-salsas  2022-07-16 20:54:13.402156      1 un   \n",
              "\n",
              "      STOCK  CANTIDAD_STOCK  PAGE  \n",
              "3505      0               0     1  "
            ],
            "text/html": [
              "\n",
              "  <div id=\"df-14e0435d-7ae1-410f-afe7-50839edf8bd6\" class=\"colab-df-container\">\n",
              "    <div>\n",
              "<style scoped>\n",
              "    .dataframe tbody tr th:only-of-type {\n",
              "        vertical-align: middle;\n",
              "    }\n",
              "\n",
              "    .dataframe tbody tr th {\n",
              "        vertical-align: top;\n",
              "    }\n",
              "\n",
              "    .dataframe thead th {\n",
              "        text-align: right;\n",
              "    }\n",
              "</style>\n",
              "<table border=\"1\" class=\"dataframe\">\n",
              "  <thead>\n",
              "    <tr style=\"text-align: right;\">\n",
              "      <th></th>\n",
              "      <th>NOMBRE_PRODUCTO</th>\n",
              "      <th>MARCA</th>\n",
              "      <th>PRECIO_SIN_OFERTA</th>\n",
              "      <th>PRECIO_OFERTA_MIN</th>\n",
              "      <th>PRECIO_OFERTA_MAX</th>\n",
              "      <th>OFERTA</th>\n",
              "      <th>ZONA_SUPERMERCADO</th>\n",
              "      <th>NUM_PASILLOS</th>\n",
              "      <th>TIPO_PRODUCTO</th>\n",
              "      <th>DATATIME</th>\n",
              "      <th>ATRIBUTOS</th>\n",
              "      <th>STOCK</th>\n",
              "      <th>CANTIDAD_STOCK</th>\n",
              "      <th>PAGE</th>\n",
              "    </tr>\n",
              "  </thead>\n",
              "  <tbody>\n",
              "    <tr>\n",
              "      <th>3505</th>\n",
              "      <td>Mostaza regular doypack 1000 g</td>\n",
              "      <td>JB</td>\n",
              "      <td>2.194894</td>\n",
              "      <td>0.641355</td>\n",
              "      <td>0.66124</td>\n",
              "      <td>0</td>\n",
              "      <td>despensa</td>\n",
              "      <td>5</td>\n",
              "      <td>aderezos-y-salsas</td>\n",
              "      <td>2022-07-16 20:54:13.402156</td>\n",
              "      <td>1 un</td>\n",
              "      <td>0</td>\n",
              "      <td>0</td>\n",
              "      <td>1</td>\n",
              "    </tr>\n",
              "  </tbody>\n",
              "</table>\n",
              "</div>\n",
              "    <div class=\"colab-df-buttons\">\n",
              "\n",
              "  <div class=\"colab-df-container\">\n",
              "    <button class=\"colab-df-convert\" onclick=\"convertToInteractive('df-14e0435d-7ae1-410f-afe7-50839edf8bd6')\"\n",
              "            title=\"Convert this dataframe to an interactive table.\"\n",
              "            style=\"display:none;\">\n",
              "\n",
              "  <svg xmlns=\"http://www.w3.org/2000/svg\" height=\"24px\" viewBox=\"0 -960 960 960\">\n",
              "    <path d=\"M120-120v-720h720v720H120Zm60-500h600v-160H180v160Zm220 220h160v-160H400v160Zm0 220h160v-160H400v160ZM180-400h160v-160H180v160Zm440 0h160v-160H620v160ZM180-180h160v-160H180v160Zm440 0h160v-160H620v160Z\"/>\n",
              "  </svg>\n",
              "    </button>\n",
              "\n",
              "  <style>\n",
              "    .colab-df-container {\n",
              "      display:flex;\n",
              "      gap: 12px;\n",
              "    }\n",
              "\n",
              "    .colab-df-convert {\n",
              "      background-color: #E8F0FE;\n",
              "      border: none;\n",
              "      border-radius: 50%;\n",
              "      cursor: pointer;\n",
              "      display: none;\n",
              "      fill: #1967D2;\n",
              "      height: 32px;\n",
              "      padding: 0 0 0 0;\n",
              "      width: 32px;\n",
              "    }\n",
              "\n",
              "    .colab-df-convert:hover {\n",
              "      background-color: #E2EBFA;\n",
              "      box-shadow: 0px 1px 2px rgba(60, 64, 67, 0.3), 0px 1px 3px 1px rgba(60, 64, 67, 0.15);\n",
              "      fill: #174EA6;\n",
              "    }\n",
              "\n",
              "    .colab-df-buttons div {\n",
              "      margin-bottom: 4px;\n",
              "    }\n",
              "\n",
              "    [theme=dark] .colab-df-convert {\n",
              "      background-color: #3B4455;\n",
              "      fill: #D2E3FC;\n",
              "    }\n",
              "\n",
              "    [theme=dark] .colab-df-convert:hover {\n",
              "      background-color: #434B5C;\n",
              "      box-shadow: 0px 1px 3px 1px rgba(0, 0, 0, 0.15);\n",
              "      filter: drop-shadow(0px 1px 2px rgba(0, 0, 0, 0.3));\n",
              "      fill: #FFFFFF;\n",
              "    }\n",
              "  </style>\n",
              "\n",
              "    <script>\n",
              "      const buttonEl =\n",
              "        document.querySelector('#df-14e0435d-7ae1-410f-afe7-50839edf8bd6 button.colab-df-convert');\n",
              "      buttonEl.style.display =\n",
              "        google.colab.kernel.accessAllowed ? 'block' : 'none';\n",
              "\n",
              "      async function convertToInteractive(key) {\n",
              "        const element = document.querySelector('#df-14e0435d-7ae1-410f-afe7-50839edf8bd6');\n",
              "        const dataTable =\n",
              "          await google.colab.kernel.invokeFunction('convertToInteractive',\n",
              "                                                    [key], {});\n",
              "        if (!dataTable) return;\n",
              "\n",
              "        const docLinkHtml = 'Like what you see? Visit the ' +\n",
              "          '<a target=\"_blank\" href=https://colab.research.google.com/notebooks/data_table.ipynb>data table notebook</a>'\n",
              "          + ' to learn more about interactive tables.';\n",
              "        element.innerHTML = '';\n",
              "        dataTable['output_type'] = 'display_data';\n",
              "        await google.colab.output.renderOutput(dataTable, element);\n",
              "        const docLink = document.createElement('div');\n",
              "        docLink.innerHTML = docLinkHtml;\n",
              "        element.appendChild(docLink);\n",
              "      }\n",
              "    </script>\n",
              "  </div>\n",
              "\n",
              "    </div>\n",
              "  </div>\n"
            ]
          },
          "metadata": {},
          "execution_count": 25
        }
      ]
    },
    {
      "cell_type": "markdown",
      "source": [
        "12.¿Cuál es la marca con más productos?"
      ],
      "metadata": {
        "id": "UxCtCvwEzjP2"
      },
      "id": "UxCtCvwEzjP2"
    },
    {
      "cell_type": "code",
      "source": [
        "df.groupby('MARCA')[['NOMBRE_PRODUCTO','CANTIDAD_STOCK']].max().sort_values(by='CANTIDAD_STOCK',ascending=False).head(1)"
      ],
      "metadata": {
        "id": "NQumWDY9zjI8",
        "colab": {
          "base_uri": "https://localhost:8080/",
          "height": 112
        },
        "outputId": "dcb8cfec-ff6a-4893-98a1-d6ee7eba948d"
      },
      "id": "NQumWDY9zjI8",
      "execution_count": null,
      "outputs": [
        {
          "output_type": "execute_result",
          "data": {
            "text/plain": [
              "             NOMBRE_PRODUCTO  CANTIDAD_STOCK\n",
              "MARCA                                       \n",
              "Calo   Margarina light 500 g              50"
            ],
            "text/html": [
              "\n",
              "  <div id=\"df-b22d9e21-0fa5-4d12-b041-2b43d7f691be\" class=\"colab-df-container\">\n",
              "    <div>\n",
              "<style scoped>\n",
              "    .dataframe tbody tr th:only-of-type {\n",
              "        vertical-align: middle;\n",
              "    }\n",
              "\n",
              "    .dataframe tbody tr th {\n",
              "        vertical-align: top;\n",
              "    }\n",
              "\n",
              "    .dataframe thead th {\n",
              "        text-align: right;\n",
              "    }\n",
              "</style>\n",
              "<table border=\"1\" class=\"dataframe\">\n",
              "  <thead>\n",
              "    <tr style=\"text-align: right;\">\n",
              "      <th></th>\n",
              "      <th>NOMBRE_PRODUCTO</th>\n",
              "      <th>CANTIDAD_STOCK</th>\n",
              "    </tr>\n",
              "    <tr>\n",
              "      <th>MARCA</th>\n",
              "      <th></th>\n",
              "      <th></th>\n",
              "    </tr>\n",
              "  </thead>\n",
              "  <tbody>\n",
              "    <tr>\n",
              "      <th>Calo</th>\n",
              "      <td>Margarina light 500 g</td>\n",
              "      <td>50</td>\n",
              "    </tr>\n",
              "  </tbody>\n",
              "</table>\n",
              "</div>\n",
              "    <div class=\"colab-df-buttons\">\n",
              "\n",
              "  <div class=\"colab-df-container\">\n",
              "    <button class=\"colab-df-convert\" onclick=\"convertToInteractive('df-b22d9e21-0fa5-4d12-b041-2b43d7f691be')\"\n",
              "            title=\"Convert this dataframe to an interactive table.\"\n",
              "            style=\"display:none;\">\n",
              "\n",
              "  <svg xmlns=\"http://www.w3.org/2000/svg\" height=\"24px\" viewBox=\"0 -960 960 960\">\n",
              "    <path d=\"M120-120v-720h720v720H120Zm60-500h600v-160H180v160Zm220 220h160v-160H400v160Zm0 220h160v-160H400v160ZM180-400h160v-160H180v160Zm440 0h160v-160H620v160ZM180-180h160v-160H180v160Zm440 0h160v-160H620v160Z\"/>\n",
              "  </svg>\n",
              "    </button>\n",
              "\n",
              "  <style>\n",
              "    .colab-df-container {\n",
              "      display:flex;\n",
              "      gap: 12px;\n",
              "    }\n",
              "\n",
              "    .colab-df-convert {\n",
              "      background-color: #E8F0FE;\n",
              "      border: none;\n",
              "      border-radius: 50%;\n",
              "      cursor: pointer;\n",
              "      display: none;\n",
              "      fill: #1967D2;\n",
              "      height: 32px;\n",
              "      padding: 0 0 0 0;\n",
              "      width: 32px;\n",
              "    }\n",
              "\n",
              "    .colab-df-convert:hover {\n",
              "      background-color: #E2EBFA;\n",
              "      box-shadow: 0px 1px 2px rgba(60, 64, 67, 0.3), 0px 1px 3px 1px rgba(60, 64, 67, 0.15);\n",
              "      fill: #174EA6;\n",
              "    }\n",
              "\n",
              "    .colab-df-buttons div {\n",
              "      margin-bottom: 4px;\n",
              "    }\n",
              "\n",
              "    [theme=dark] .colab-df-convert {\n",
              "      background-color: #3B4455;\n",
              "      fill: #D2E3FC;\n",
              "    }\n",
              "\n",
              "    [theme=dark] .colab-df-convert:hover {\n",
              "      background-color: #434B5C;\n",
              "      box-shadow: 0px 1px 3px 1px rgba(0, 0, 0, 0.15);\n",
              "      filter: drop-shadow(0px 1px 2px rgba(0, 0, 0, 0.3));\n",
              "      fill: #FFFFFF;\n",
              "    }\n",
              "  </style>\n",
              "\n",
              "    <script>\n",
              "      const buttonEl =\n",
              "        document.querySelector('#df-b22d9e21-0fa5-4d12-b041-2b43d7f691be button.colab-df-convert');\n",
              "      buttonEl.style.display =\n",
              "        google.colab.kernel.accessAllowed ? 'block' : 'none';\n",
              "\n",
              "      async function convertToInteractive(key) {\n",
              "        const element = document.querySelector('#df-b22d9e21-0fa5-4d12-b041-2b43d7f691be');\n",
              "        const dataTable =\n",
              "          await google.colab.kernel.invokeFunction('convertToInteractive',\n",
              "                                                    [key], {});\n",
              "        if (!dataTable) return;\n",
              "\n",
              "        const docLinkHtml = 'Like what you see? Visit the ' +\n",
              "          '<a target=\"_blank\" href=https://colab.research.google.com/notebooks/data_table.ipynb>data table notebook</a>'\n",
              "          + ' to learn more about interactive tables.';\n",
              "        element.innerHTML = '';\n",
              "        dataTable['output_type'] = 'display_data';\n",
              "        await google.colab.output.renderOutput(dataTable, element);\n",
              "        const docLink = document.createElement('div');\n",
              "        docLink.innerHTML = docLinkHtml;\n",
              "        element.appendChild(docLink);\n",
              "      }\n",
              "    </script>\n",
              "  </div>\n",
              "\n",
              "    </div>\n",
              "  </div>\n"
            ]
          },
          "metadata": {},
          "execution_count": 26
        }
      ]
    },
    {
      "cell_type": "markdown",
      "source": [
        "13.¿Cuántos productos hay en cada pasillo?"
      ],
      "metadata": {
        "id": "DYqIaIc2zjCK"
      },
      "id": "DYqIaIc2zjCK"
    },
    {
      "cell_type": "code",
      "source": [
        "cross_table_grf_prdctos_ZS= pd.crosstab(df['NOMBRE_PRODUCTO'].value_counts().sum(),df['ZONA_SUPERMERCADO'])\n",
        "colores = ['blue', 'orange','green', 'red', 'purple']\n",
        "grf_prdctos_ZS=cross_table_grf_prdctos_ZS.plot(kind='bar',color=colores,title='Productos por Zona del Supermercado',legend=True)\n",
        "grf_prdctos_ZS.legend(bbox_to_anchor=(1.05, 1), loc='upper left', borderaxespad=0., ncol=1)\n",
        "grf_prdctos_ZS.set_xlabel(None)\n",
        "for p in grf_prdctos_ZS.patches:\n",
        "    grf_prdctos_ZS.annotate(str(p.get_height()), (p.get_x() + p.get_width() / 2., p.get_height()), ha='center', va='center', xytext=(0, 10), textcoords='offset points')\n",
        "\n",
        "plt.show()"
      ],
      "metadata": {
        "id": "wzJTC9LIXmb6",
        "outputId": "d11c39d9-13a5-4eb4-ab56-8d17da36e257",
        "colab": {
          "base_uri": "https://localhost:8080/",
          "height": 473
        }
      },
      "id": "wzJTC9LIXmb6",
      "execution_count": 135,
      "outputs": [
        {
          "output_type": "display_data",
          "data": {
            "text/plain": [
              "<Figure size 640x480 with 1 Axes>"
            ],
            "image/png": "[encoded data removed]"
          },
          "metadata": {}
        }
      ]
    },
    {
      "cell_type": "code",
      "source": [
        "cross_table"
      ],
      "metadata": {
        "id": "sfP9XJP8zi7H",
        "colab": {
          "base_uri": "https://localhost:8080/",
          "height": 112
        },
        "outputId": "112947db-0c12-4030-913c-e300ca70c8e6"
      },
      "id": "sfP9XJP8zi7H",
      "execution_count": 116,
      "outputs": [
        {
          "output_type": "execute_result",
          "data": {
            "text/plain": [
              "ZONA_SUPERMERCADO  carniceria  despensa  frutas-y-verduras  lacteos  \\\n",
              "row_0                                                                 \n",
              "2830                       82      1146                106      450   \n",
              "\n",
              "ZONA_SUPERMERCADO  supermercados  \n",
              "row_0                             \n",
              "2830                        1046  "
            ],
            "text/html": [
              "\n",
              "  <div id=\"df-53638700-307f-4406-b6a8-04fb760a26dd\" class=\"colab-df-container\">\n",
              "    <div>\n",
              "<style scoped>\n",
              "    .dataframe tbody tr th:only-of-type {\n",
              "        vertical-align: middle;\n",
              "    }\n",
              "\n",
              "    .dataframe tbody tr th {\n",
              "        vertical-align: top;\n",
              "    }\n",
              "\n",
              "    .dataframe thead th {\n",
              "        text-align: right;\n",
              "    }\n",
              "</style>\n",
              "<table border=\"1\" class=\"dataframe\">\n",
              "  <thead>\n",
              "    <tr style=\"text-align: right;\">\n",
              "      <th>ZONA_SUPERMERCADO</th>\n",
              "      <th>carniceria</th>\n",
              "      <th>despensa</th>\n",
              "      <th>frutas-y-verduras</th>\n",
              "      <th>lacteos</th>\n",
              "      <th>supermercados</th>\n",
              "    </tr>\n",
              "    <tr>\n",
              "      <th>row_0</th>\n",
              "      <th></th>\n",
              "      <th></th>\n",
              "      <th></th>\n",
              "      <th></th>\n",
              "      <th></th>\n",
              "    </tr>\n",
              "  </thead>\n",
              "  <tbody>\n",
              "    <tr>\n",
              "      <th>2830</th>\n",
              "      <td>82</td>\n",
              "      <td>1146</td>\n",
              "      <td>106</td>\n",
              "      <td>450</td>\n",
              "      <td>1046</td>\n",
              "    </tr>\n",
              "  </tbody>\n",
              "</table>\n",
              "</div>\n",
              "    <div class=\"colab-df-buttons\">\n",
              "\n",
              "  <div class=\"colab-df-container\">\n",
              "    <button class=\"colab-df-convert\" onclick=\"convertToInteractive('df-53638700-307f-4406-b6a8-04fb760a26dd')\"\n",
              "            title=\"Convert this dataframe to an interactive table.\"\n",
              "            style=\"display:none;\">\n",
              "\n",
              "  <svg xmlns=\"http://www.w3.org/2000/svg\" height=\"24px\" viewBox=\"0 -960 960 960\">\n",
              "    <path d=\"M120-120v-720h720v720H120Zm60-500h600v-160H180v160Zm220 220h160v-160H400v160Zm0 220h160v-160H400v160ZM180-400h160v-160H180v160Zm440 0h160v-160H620v160ZM180-180h160v-160H180v160Zm440 0h160v-160H620v160Z\"/>\n",
              "  </svg>\n",
              "    </button>\n",
              "\n",
              "  <style>\n",
              "    .colab-df-container {\n",
              "      display:flex;\n",
              "      gap: 12px;\n",
              "    }\n",
              "\n",
              "    .colab-df-convert {\n",
              "      background-color: #E8F0FE;\n",
              "      border: none;\n",
              "      border-radius: 50%;\n",
              "      cursor: pointer;\n",
              "      display: none;\n",
              "      fill: #1967D2;\n",
              "      height: 32px;\n",
              "      padding: 0 0 0 0;\n",
              "      width: 32px;\n",
              "    }\n",
              "\n",
              "    .colab-df-convert:hover {\n",
              "      background-color: #E2EBFA;\n",
              "      box-shadow: 0px 1px 2px rgba(60, 64, 67, 0.3), 0px 1px 3px 1px rgba(60, 64, 67, 0.15);\n",
              "      fill: #174EA6;\n",
              "    }\n",
              "\n",
              "    .colab-df-buttons div {\n",
              "      margin-bottom: 4px;\n",
              "    }\n",
              "\n",
              "    [theme=dark] .colab-df-convert {\n",
              "      background-color: #3B4455;\n",
              "      fill: #D2E3FC;\n",
              "    }\n",
              "\n",
              "    [theme=dark] .colab-df-convert:hover {\n",
              "      background-color: #434B5C;\n",
              "      box-shadow: 0px 1px 3px 1px rgba(0, 0, 0, 0.15);\n",
              "      filter: drop-shadow(0px 1px 2px rgba(0, 0, 0, 0.3));\n",
              "      fill: #FFFFFF;\n",
              "    }\n",
              "  </style>\n",
              "\n",
              "    <script>\n",
              "      const buttonEl =\n",
              "        document.querySelector('#df-53638700-307f-4406-b6a8-04fb760a26dd button.colab-df-convert');\n",
              "      buttonEl.style.display =\n",
              "        google.colab.kernel.accessAllowed ? 'block' : 'none';\n",
              "\n",
              "      async function convertToInteractive(key) {\n",
              "        const element = document.querySelector('#df-53638700-307f-4406-b6a8-04fb760a26dd');\n",
              "        const dataTable =\n",
              "          await google.colab.kernel.invokeFunction('convertToInteractive',\n",
              "                                                    [key], {});\n",
              "        if (!dataTable) return;\n",
              "\n",
              "        const docLinkHtml = 'Like what you see? Visit the ' +\n",
              "          '<a target=\"_blank\" href=https://colab.research.google.com/notebooks/data_table.ipynb>data table notebook</a>'\n",
              "          + ' to learn more about interactive tables.';\n",
              "        element.innerHTML = '';\n",
              "        dataTable['output_type'] = 'display_data';\n",
              "        await google.colab.output.renderOutput(dataTable, element);\n",
              "        const docLink = document.createElement('div');\n",
              "        docLink.innerHTML = docLinkHtml;\n",
              "        element.appendChild(docLink);\n",
              "      }\n",
              "    </script>\n",
              "  </div>\n",
              "\n",
              "    </div>\n",
              "  </div>\n"
            ]
          },
          "metadata": {},
          "execution_count": 116
        }
      ]
    },
    {
      "cell_type": "markdown",
      "source": [
        "14.Cambiar los nombres de los productos a en formato mayúsculas y cambiando los espacios por \"_\"."
      ],
      "metadata": {
        "id": "Oq8E12WYzixS"
      },
      "id": "Oq8E12WYzixS"
    },
    {
      "cell_type": "code",
      "source": [
        " df['NOMBRE_PRODUCTO']= df['NOMBRE_PRODUCTO'].str.upper()"
      ],
      "metadata": {
        "id": "MyZyFjUnzijr"
      },
      "id": "MyZyFjUnzijr",
      "execution_count": 144,
      "outputs": []
    },
    {
      "cell_type": "code",
      "source": [
        "def transformar_nombres(nombre_producto):\n",
        "  return nombre_producto.upper().replace(\" \", \"_\")\n",
        "\n",
        "df['NOMBRE_PRODUCTO'] = df['NOMBRE_PRODUCTO'].apply(transformar_nombres)\n"
      ],
      "metadata": {
        "id": "osThRCt789ko"
      },
      "id": "osThRCt789ko",
      "execution_count": null,
      "outputs": []
    },
    {
      "cell_type": "markdown",
      "source": [
        "15.¿Cuántas variedades de vinos venden? ¿Y cuál es el más caro?"
      ],
      "metadata": {
        "id": "lecLC-1QB7Bj"
      },
      "id": "lecLC-1QB7Bj"
    },
    {
      "cell_type": "code",
      "source": [
        "cond = df[df['TIPO_PRODUCTO']=='vinos-cervezas-y-licores']\n",
        "cond.loc[:,'NOMBRE_PRODUCTO']"
      ],
      "metadata": {
        "colab": {
          "base_uri": "https://localhost:8080/"
        },
        "id": "4AZ3GUfN83w6",
        "outputId": "68db3307-8201-40a2-e8ee-474d7958022f"
      },
      "id": "4AZ3GUfN83w6",
      "execution_count": null,
      "outputs": [
        {
          "output_type": "execute_result",
          "data": {
            "text/plain": [
              "240                PACK_24_UN._CERVEZA_LAGER_5.2°_330_CC\n",
              "241                    VINO_DIABLO_RED_ENSAMBLAJE_750_CC\n",
              "242              PACK_6_UN._CERVEZA_RUBIA_BOTELLA_330_CC\n",
              "243                 PACK_6_UN._CERVEZA_LAGER_LATA_354_CC\n",
              "244            PACK_18_UN._CERVEZA_LAGER_4.6°_330_CC_C/U\n",
              "                             ...                        \n",
              "475                             ESPUMANTE_LOVE_7°_750_CC\n",
              "476                  VINO_CARMÉNÈRE_PANUL_RESERVA_750_CC\n",
              "477                  ESPUMANTE_BRUT_12.5°_BOTELLA_750_CC\n",
              "478    VINO_CHARDONNAY_TRES_MEDALLAS_VIÑA_SANTA_RITA_...\n",
              "479            VINO_CARMÉNÈRE_SAUVIGNON_BLANC_13°_750_CC\n",
              "Name: NOMBRE_PRODUCTO, Length: 239, dtype: object"
            ]
          },
          "metadata": {},
          "execution_count": 30
        }
      ]
    },
    {
      "cell_type": "code",
      "source": [
        "total_vinos = df[df[\"NOMBRE_PRODUCTO\"].str.contains(\"VINO\", case = False, regex = False)].value_counts().sum()\n",
        "x = df[df[\"NOMBRE_PRODUCTO\"].str.contains(\"VINO\", case = False, regex = False)]\n",
        "xn = x.groupby(\"NOMBRE_PRODUCTO\")[\"PRECIO_SIN_OFERTA\"].max()\n",
        "vino_caro = xn.sort_values(ascending=False).head(1)\n",
        "print(vino_caro)\n",
        "print(f'Hay {total_vinos} variedades de vino')"
      ],
      "metadata": {
        "colab": {
          "base_uri": "https://localhost:8080/"
        },
        "id": "WkJTX1e3kAZi",
        "outputId": "048c5133-86e2-4dfb-f6d5-c735d63cb5b0"
      },
      "id": "WkJTX1e3kAZi",
      "execution_count": null,
      "outputs": [
        {
          "output_type": "stream",
          "name": "stdout",
          "text": [
            "NOMBRE_PRODUCTO\n",
            "VINO_SYRAH/CABERNET_SAUVIGNON_TORO_DE_PIEDRA_750_CC    10.989\n",
            "Name: PRECIO_SIN_OFERTA, dtype: float64\n",
            "Hay 147 variedades de vino\n"
          ]
        }
      ]
    },
    {
      "cell_type": "markdown",
      "source": [
        "16.¿Qué pasillo tiene más productos sin ofertas aplicadas?"
      ],
      "metadata": {
        "id": "4rpT3lpHzh91"
      },
      "id": "4rpT3lpHzh91"
    },
    {
      "cell_type": "code",
      "source": [
        "prd_sin_oferta = df[df['OFERTA']==0]\n",
        "agr_pasillos = prd_sin_oferta.groupby('NUM_PASILLOS')['CANTIDAD_STOCK'].sum()\n",
        "agr_pasillos"
      ],
      "metadata": {
        "colab": {
          "base_uri": "https://localhost:8080/"
        },
        "id": "v0bWpmAdFX88",
        "outputId": "885f450e-ab6c-4071-d3c0-eef3b2280b83"
      },
      "id": "v0bWpmAdFX88",
      "execution_count": 136,
      "outputs": [
        {
          "output_type": "execute_result",
          "data": {
            "text/plain": [
              "NUM_PASILLOS\n",
              "1    16804\n",
              "2     9420\n",
              "3     2690\n",
              "4     1559\n",
              "5    23589\n",
              "Name: CANTIDAD_STOCK, dtype: int64"
            ]
          },
          "metadata": {},
          "execution_count": 136
        }
      ]
    },
    {
      "cell_type": "code",
      "source": [
        "prd_sin_oferta= df[df['OFERTA']==0]\n",
        "ofrta_sin_apli= prd_sin_oferta[\"OFERTA\"].value_counts().sum()\n",
        "ofrta_sin_apli_prc = (ofrta_sin_apli*100)/ act\n",
        "print(f'Hay un total de {ofrta_sin_apli} productos sin oferta aplicada. Este valor representa el {ofrta_sin_apli_prc.round(2)}% del total ')\n",
        "\n"
      ],
      "metadata": {
        "id": "dGDru8R6fWlH",
        "outputId": "125d43a7-3543-4bd8-8a15-e180a6b00863",
        "colab": {
          "base_uri": "https://localhost:8080/"
        }
      },
      "id": "dGDru8R6fWlH",
      "execution_count": 145,
      "outputs": [
        {
          "output_type": "stream",
          "name": "stdout",
          "text": [
            "Hay un total de 2207 productos sin oferta aplicada. Este valor representa el 77.99% del total \n"
          ]
        }
      ]
    },
    {
      "cell_type": "code",
      "source": [
        "cross_table_grf_prdctos_sin_oferta_ZS= pd.crosstab(prd_sin_oferta['NOMBRE_PRODUCTO'].value_counts().sum(),prd_sin_oferta['ZONA_SUPERMERCADO'])\n",
        "colores = ['blue', 'orange','green', 'red', 'purple']\n",
        "cross_table_grf_prdctos_sin_oferta_ZS=cross_table_grf_prdctos_sin_oferta_ZS.plot(kind='bar',color=colores,title='Productos sin oferta aplicada por Zona del Supermercado',legend=True)\n",
        "cross_table_grf_prdctos_sin_oferta_ZS.legend(bbox_to_anchor=(1.05, 1), loc='upper left', borderaxespad=0., ncol=1)\n",
        "cross_table_grf_prdctos_sin_oferta_ZS.set_xlabel(None)\n",
        "for p in cross_table_grf_prdctos_sin_oferta_ZS.patches:\n",
        "    cross_table_grf_prdctos_sin_oferta_ZS.annotate(str(p.get_height()), (p.get_x() + p.get_width() / 2., p.get_height()), ha='center', va='center', xytext=(0, 10), textcoords='offset points')\n",
        "\n",
        "plt.show()"
      ],
      "metadata": {
        "id": "5AvI1MirehtL",
        "outputId": "c40eef44-b0b6-46c4-899c-e2f0a6fd5e1c",
        "colab": {
          "base_uri": "https://localhost:8080/",
          "height": 473
        }
      },
      "id": "5AvI1MirehtL",
      "execution_count": 146,
      "outputs": [
        {
          "output_type": "display_data",
          "data": {
            "text/plain": [
              "<Figure size 640x480 with 1 Axes>"
            ],
            "image/png": "[encoded data removed]"
          },
          "metadata": {}
        }
      ]
    },
    {
      "cell_type": "code",
      "source": [
        "cond1 = df[df['NUM_PASILLOS']==1]\n",
        "media_pasillo_1=cond1.groupby('NOMBRE_PRODUCTO')['PRECIO_SIN_OFERTA'].sum().mean()\n",
        "cond2 = df[df['NUM_PASILLOS']==2]\n",
        "media_pasillo_2=cond2.groupby('NOMBRE_PRODUCTO')['PRECIO_SIN_OFERTA'].sum().mean()\n",
        "cond3 = df[df['NUM_PASILLOS']==3]\n",
        "media_pasillo_3=cond3.groupby('NOMBRE_PRODUCTO')['PRECIO_SIN_OFERTA'].sum().mean()\n",
        "cond4 = df[df['NUM_PASILLOS']==4]\n",
        "media_pasillo_4=cond4.groupby('NOMBRE_PRODUCTO')['PRECIO_SIN_OFERTA'].sum().mean()\n",
        "cond5= df[df['NUM_PASILLOS']==5]\n",
        "media_pasillo_5=cond5.groupby('NOMBRE_PRODUCTO')['PRECIO_SIN_OFERTA'].sum().mean()"
      ],
      "metadata": {
        "id": "nAxG_0HH421q"
      },
      "id": "nAxG_0HH421q",
      "execution_count": null,
      "outputs": []
    },
    {
      "cell_type": "code",
      "source": [
        "ppp= (df.groupby('NUM_PASILLOS')['NOMBRE_PRODUCTO'].value_counts() / len(df['NOMBRE_PRODUCTO']) * 100)\n",
        "df[\"NUM_PASILLOS\"]==1"
      ],
      "metadata": {
        "colab": {
          "base_uri": "https://localhost:8080/"
        },
        "id": "EtcDRyC15jyk",
        "outputId": "c6754955-95f7-4f51-8357-ce0fc2608a7a"
      },
      "id": "EtcDRyC15jyk",
      "execution_count": null,
      "outputs": [
        {
          "output_type": "execute_result",
          "data": {
            "text/plain": [
              "0       True\n",
              "1       True\n",
              "2       True\n",
              "3       True\n",
              "4       True\n",
              "        ... \n",
              "4463    True\n",
              "4464    True\n",
              "4465    True\n",
              "4466    True\n",
              "4467    True\n",
              "Name: NUM_PASILLOS, Length: 2830, dtype: bool"
            ]
          },
          "metadata": {},
          "execution_count": 119
        }
      ]
    },
    {
      "cell_type": "markdown",
      "source": [
        "17.¿Cuántos productos se venden a granel y cuántos por unidad?"
      ],
      "metadata": {
        "id": "ct537wD1E_3i"
      },
      "id": "ct537wD1E_3i"
    },
    {
      "cell_type": "code",
      "source": [
        "g = df[df[\"ATRIBUTOS\"].str.contains(\" g\", case = False, regex = False)].value_counts().sum()\n",
        "u = df[df[\"ATRIBUTOS\"].str.contains(\" un\", case = False, regex = False)].value_counts().sum()\n",
        "print(f\"Hay {g} productos que se venden a granel.\")\n",
        "print(f\"Hay {u} productos que se venden por unidad.\")"
      ],
      "metadata": {
        "colab": {
          "base_uri": "https://localhost:8080/"
        },
        "id": "QTX9XmWeFYdg",
        "outputId": "4a4c3325-baad-490a-d598-5ddaf4a3b879"
      },
      "id": "QTX9XmWeFYdg",
      "execution_count": null,
      "outputs": [
        {
          "output_type": "stream",
          "name": "stdout",
          "text": [
            "Hay 23 productos que se venden a granel.\n",
            "Hay 2764 productos que se venden por unidad.\n"
          ]
        }
      ]
    },
    {
      "cell_type": "markdown",
      "source": [
        "18.¿Cuántos productos de los que hay en stock se les está aplicando oferta?"
      ],
      "metadata": {
        "id": "aqFxN8RFE_xz"
      },
      "id": "aqFxN8RFE_xz"
    },
    {
      "cell_type": "code",
      "source": [
        "cond = df[df['OFERTA']==1]\n",
        "prductos_stock_con_ofertas=cond.groupby('OFERTA')['STOCK'].value_counts().sum()\n",
        "print(f'Hay un total de {prductos_stock_con_ofertas} productos en stock que tienen una oferta aplicada')"
      ],
      "metadata": {
        "colab": {
          "base_uri": "https://localhost:8080/"
        },
        "id": "wTAvJs-LFZQY",
        "outputId": "ba72f8ca-d977-41de-d17f-36d70ddb6510"
      },
      "id": "wTAvJs-LFZQY",
      "execution_count": null,
      "outputs": [
        {
          "output_type": "stream",
          "name": "stdout",
          "text": [
            "Hay un total de 623 productos en stock que tienen una oferta aplicada\n"
          ]
        }
      ]
    },
    {
      "cell_type": "markdown",
      "source": [
        "19.¿Qué está ocurriendo con el Producto \"Aceite de Oliva extra virgen 250 ml\" en temas de oferta y demanda?"
      ],
      "metadata": {
        "id": "_JYzSiZEE_u_"
      },
      "id": "_JYzSiZEE_u_"
    },
    {
      "cell_type": "code",
      "source": [
        "df[df['NOMBRE_PRODUCTO']==\"ACEITE DE OLIVA EXTRA VIRGEN 250 ML\"]"
      ],
      "metadata": {
        "id": "-TUGgdA9FZun",
        "colab": {
          "base_uri": "https://localhost:8080/",
          "height": 73
        },
        "outputId": "8e6cdfaa-10b7-4299-bce6-3a8188e79160"
      },
      "id": "-TUGgdA9FZun",
      "execution_count": null,
      "outputs": [
        {
          "output_type": "execute_result",
          "data": {
            "text/plain": [
              "Empty DataFrame\n",
              "Columns: [NOMBRE_PRODUCTO, MARCA, PRECIO_SIN_OFERTA, PRECIO_OFERTA_MIN, PRECIO_OFERTA_MAX, OFERTA, ZONA_SUPERMERCADO, NUM_PASILLOS, TIPO_PRODUCTO, DATATIME, ATRIBUTOS, STOCK, CANTIDAD_STOCK, PAGE]\n",
              "Index: []"
            ],
            "text/html": [
              "\n",
              "  <div id=\"df-acf0547e-801a-48b4-8ed4-ba53c7d4ed29\" class=\"colab-df-container\">\n",
              "    <div>\n",
              "<style scoped>\n",
              "    .dataframe tbody tr th:only-of-type {\n",
              "        vertical-align: middle;\n",
              "    }\n",
              "\n",
              "    .dataframe tbody tr th {\n",
              "        vertical-align: top;\n",
              "    }\n",
              "\n",
              "    .dataframe thead th {\n",
              "        text-align: right;\n",
              "    }\n",
              "</style>\n",
              "<table border=\"1\" class=\"dataframe\">\n",
              "  <thead>\n",
              "    <tr style=\"text-align: right;\">\n",
              "      <th></th>\n",
              "      <th>NOMBRE_PRODUCTO</th>\n",
              "      <th>MARCA</th>\n",
              "      <th>PRECIO_SIN_OFERTA</th>\n",
              "      <th>PRECIO_OFERTA_MIN</th>\n",
              "      <th>PRECIO_OFERTA_MAX</th>\n",
              "      <th>OFERTA</th>\n",
              "      <th>ZONA_SUPERMERCADO</th>\n",
              "      <th>NUM_PASILLOS</th>\n",
              "      <th>TIPO_PRODUCTO</th>\n",
              "      <th>DATATIME</th>\n",
              "      <th>ATRIBUTOS</th>\n",
              "      <th>STOCK</th>\n",
              "      <th>CANTIDAD_STOCK</th>\n",
              "      <th>PAGE</th>\n",
              "    </tr>\n",
              "  </thead>\n",
              "  <tbody>\n",
              "  </tbody>\n",
              "</table>\n",
              "</div>\n",
              "    <div class=\"colab-df-buttons\">\n",
              "\n",
              "  <div class=\"colab-df-container\">\n",
              "    <button class=\"colab-df-convert\" onclick=\"convertToInteractive('df-acf0547e-801a-48b4-8ed4-ba53c7d4ed29')\"\n",
              "            title=\"Convert this dataframe to an interactive table.\"\n",
              "            style=\"display:none;\">\n",
              "\n",
              "  <svg xmlns=\"http://www.w3.org/2000/svg\" height=\"24px\" viewBox=\"0 -960 960 960\">\n",
              "    <path d=\"M120-120v-720h720v720H120Zm60-500h600v-160H180v160Zm220 220h160v-160H400v160Zm0 220h160v-160H400v160ZM180-400h160v-160H180v160Zm440 0h160v-160H620v160ZM180-180h160v-160H180v160Zm440 0h160v-160H620v160Z\"/>\n",
              "  </svg>\n",
              "    </button>\n",
              "\n",
              "  <style>\n",
              "    .colab-df-container {\n",
              "      display:flex;\n",
              "      gap: 12px;\n",
              "    }\n",
              "\n",
              "    .colab-df-convert {\n",
              "      background-color: #E8F0FE;\n",
              "      border: none;\n",
              "      border-radius: 50%;\n",
              "      cursor: pointer;\n",
              "      display: none;\n",
              "      fill: #1967D2;\n",
              "      height: 32px;\n",
              "      padding: 0 0 0 0;\n",
              "      width: 32px;\n",
              "    }\n",
              "\n",
              "    .colab-df-convert:hover {\n",
              "      background-color: #E2EBFA;\n",
              "      box-shadow: 0px 1px 2px rgba(60, 64, 67, 0.3), 0px 1px 3px 1px rgba(60, 64, 67, 0.15);\n",
              "      fill: #174EA6;\n",
              "    }\n",
              "\n",
              "    .colab-df-buttons div {\n",
              "      margin-bottom: 4px;\n",
              "    }\n",
              "\n",
              "    [theme=dark] .colab-df-convert {\n",
              "      background-color: #3B4455;\n",
              "      fill: #D2E3FC;\n",
              "    }\n",
              "\n",
              "    [theme=dark] .colab-df-convert:hover {\n",
              "      background-color: #434B5C;\n",
              "      box-shadow: 0px 1px 3px 1px rgba(0, 0, 0, 0.15);\n",
              "      filter: drop-shadow(0px 1px 2px rgba(0, 0, 0, 0.3));\n",
              "      fill: #FFFFFF;\n",
              "    }\n",
              "  </style>\n",
              "\n",
              "    <script>\n",
              "      const buttonEl =\n",
              "        document.querySelector('#df-acf0547e-801a-48b4-8ed4-ba53c7d4ed29 button.colab-df-convert');\n",
              "      buttonEl.style.display =\n",
              "        google.colab.kernel.accessAllowed ? 'block' : 'none';\n",
              "\n",
              "      async function convertToInteractive(key) {\n",
              "        const element = document.querySelector('#df-acf0547e-801a-48b4-8ed4-ba53c7d4ed29');\n",
              "        const dataTable =\n",
              "          await google.colab.kernel.invokeFunction('convertToInteractive',\n",
              "                                                    [key], {});\n",
              "        if (!dataTable) return;\n",
              "\n",
              "        const docLinkHtml = 'Like what you see? Visit the ' +\n",
              "          '<a target=\"_blank\" href=https://colab.research.google.com/notebooks/data_table.ipynb>data table notebook</a>'\n",
              "          + ' to learn more about interactive tables.';\n",
              "        element.innerHTML = '';\n",
              "        dataTable['output_type'] = 'display_data';\n",
              "        await google.colab.output.renderOutput(dataTable, element);\n",
              "        const docLink = document.createElement('div');\n",
              "        docLink.innerHTML = docLinkHtml;\n",
              "        element.appendChild(docLink);\n",
              "      }\n",
              "    </script>\n",
              "  </div>\n",
              "\n",
              "    </div>\n",
              "  </div>\n"
            ]
          },
          "metadata": {},
          "execution_count": 36
        }
      ]
    },
    {
      "cell_type": "markdown",
      "source": [
        "20.Ofrece recomendaciones específicas para mejorar la calidad de los datos y sugerir acciones futuras para la gestión del inventario."
      ],
      "metadata": {
        "id": "CEpNWEgwE_gz"
      },
      "id": "CEpNWEgwE_gz"
    },
    {
      "cell_type": "code",
      "source": [
        "df"
      ],
      "metadata": {
        "id": "U-BpxZq1E2gX"
      },
      "id": "U-BpxZq1E2gX",
      "execution_count": null,
      "outputs": []
    }
  ],
  "metadata": {
    "kernelspec": {
      "display_name": "Python 3 (ipykernel)",
      "language": "python",
      "name": "python3"
    },
    "language_info": {
      "codemirror_mode": {
        "name": "ipython",
        "version": 3
      },
      "file_extension": ".py",
      "mimetype": "text/x-python",
      "name": "python",
      "nbconvert_exporter": "python",
      "pygments_lexer": "ipython3",
      "version": "3.9.13"
    },
    "colab": {
      "provenance": [],
      "include_colab_link": true
    }
  },
  "nbformat": 4,
  "nbformat_minor": 5
}