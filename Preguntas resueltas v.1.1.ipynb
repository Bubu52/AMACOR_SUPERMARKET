{
  "cells": [
    {
      "cell_type": "markdown",
      "metadata": {
        "id": "view-in-github",
        "colab_type": "text"
      },
      "source": [
        "<a href=\"https://colab.research.google.com/github/Bubu52/AMACOR_SUPERMARKET/blob/main/Preguntas%20resueltas%20v.1.1.ipynb\" target=\"_parent\"><img src=\"https://colab.research.google.com/assets/colab-badge.svg\" alt=\"Open In Colab\"/></a>"
      ]
    },
    {
      "cell_type": "markdown",
      "id": "b7097cc7",
      "metadata": {
        "id": "b7097cc7"
      },
      "source": [
        "<img width=600 src=\"https://impelia.org/wp-content/uploads/2022/08/impelia_logo-cabecera_-02.png\">"
      ]
    },
    {
      "cell_type": "markdown",
      "id": "7c5cf168",
      "metadata": {
        "id": "7c5cf168"
      },
      "source": [
        "Hecho por: [Guillem Edo](https://www.linkedin.com/in/guillem-edo-bertran/) y [Victor Blanco](https://www.linkedin.com/in/victorblancomurillo/)"
      ]
    },
    {
      "cell_type": "markdown",
      "id": "c2350cd8-1a4a-4c2d-9187-40351ffc2d27",
      "metadata": {
        "id": "c2350cd8-1a4a-4c2d-9187-40351ffc2d27"
      },
      "source": [
        "# Análisis de datos supermercados <strong style= 'color: red'>A</strong><strong style= 'color: green'>M</strong><strong style= 'color: orange'>A</strong><strong style= 'color: blue'>C</strong><strong style= 'color: brown'>O</strong><strong style= 'color: purple'>R</strong>\n"
      ]
    },
    {
      "cell_type": "markdown",
      "id": "9858e10b-9a61-44f8-a3ef-8f2bdaf384f4",
      "metadata": {
        "id": "9858e10b-9a61-44f8-a3ef-8f2bdaf384f4"
      },
      "source": [
        "Amacor, un renombrado supermercado con una presencia sólida en la región donde el dueño es José Pérez. Se encuentra en una fase estratégica de mejora continua para fortalecer la eficiencia de sus operaciones. Ya que actualmente se encuentran con ciertos conflictos económicos en la empresa y quieren aumentar su facturación y así evitar posibles depidos. Como parte de este proceso, el equipo de marketing de Amacor ha llevado a cabo una iniciativa ambiciosa para recopilar y analizar datos detallados sobre su inventario de productos. El objetivo es optimizar la gestión del inventario, mejorar la toma de decisiones y garantizar una experiencia de compra excepcional para sus clientes.\n",
        "\n",
        "El dataset recopilado contiene información crucial, como nombres de productos, categorías, precios, ofertas, cantidades en stock y fechas de exportación del dato. Sin embargo, durante el proceso de revisión, el equipo de marketing ha identificado desafíos sustanciales que requieren atención inmediata. Estos desafíos incluyen la ausencia de valores en ciertas columnas, la existencia de productos duplicados y la posibilidad de inconsistencias en la calidad de los datos.\n",
        "\n",
        "Esta situación ha llevado al equipo de marketing a pedir ayuda a los data scientist de Impelia. Con el fin, de poder obtener información precisa y confiable, lo que es esencial para la toma de decisiones de manera eficiente y estratégica."
      ]
    },
    {
      "cell_type": "markdown",
      "id": "ad6a8671-f559-4894-b70c-f1cebf333a94",
      "metadata": {
        "id": "ad6a8671-f559-4894-b70c-f1cebf333a94"
      },
      "source": [
        "## Metología a seguir\n",
        "\n",
        "**Análisis Inicial**: Evaluar el impacto de los valores nulos y productos duplicados en el conjunto de datos.\n",
        "Identificar las columnas clave que serán fundamentales en el proceso de limpieza y análisis.\n",
        "\n",
        "**Limpieza de Datos**: Desarrollar estrategias para abordar los valores nulos, ya sea mediante la eliminación de registros o la imputación de valores basada en el contexto.\n",
        "Implementar un procedimiento para eliminar productos duplicados, conservando solo la primera ocurrencia.\n",
        "\n",
        "**Análisis de Columnas**: Realizar un análisis exhaustivo de cada columna para comprender la naturaleza de los datos y detectar posibles anomalías.\n",
        "Proponer soluciones para corregir cualquier error o inconsistencia identificada.\n",
        "\n",
        "**Resumen Estadístico**: Generar un resumen estadístico detallado para las columnas numéricas, aprovechando gráficos y visualizaciones para destacar patrones y tendencias.\n",
        "\n",
        "**Presentación de Resultados**: Elaborar un informe completo que documente las acciones tomadas en la limpieza de datos y el análisis de los mismos.\n",
        "El informe deberá responder como mínimo a las siguientes cuestiones:\n",
        "1. ¿Cúal es el número total de productos?\n",
        "\n",
        "2. ¿Cuantos productos tienen oferta aplicada?\n",
        "\n",
        "3. ¿Cuál es el producto más caro?\n",
        "\n",
        "4. ¿A cuantos productos no les queda Stock?\n",
        "\n",
        "5. ¿Cuál es el producto más barato?\n",
        "\n",
        "6. ¿Cuál es el producto con más Stock? ¿Se le está aplicando oferta a este producto?\n",
        "\n",
        "7. A los producos que se les aplica la oferta, ¿Cuánto dinero se está ahorrando el cliente?\n",
        "\n",
        "8. ¿Cuál es el producto más barato por pasillos?\n",
        "\n",
        "9. ¿Cuál es el producto más caro por pasillos?\n",
        "\n",
        "10. ¿Cuál es el producto con más Stock por pasillos?\n",
        "\n",
        "11. ¿Qué ocurre con el producto \"**<strong style= 'color: red'>Mostaza regular doypack 1000 g</strong>**\"? ¿Hay algún otro producto que le ocurra lo mismo?\n",
        "\n",
        "12. ¿Cuál es la marca con más productos?\n",
        "\n",
        "13. ¿Cuántos productos hay en cada pasillo?\n",
        "\n",
        "14. Cambiar los nombres de los productos a en formato mayúsculas y cambiando los espacios por \"_\".\n",
        "\n",
        "15. ¿Cuántas variedades de vinos venden? ¿Y cuál es el más caro?\n",
        "\n",
        "16. ¿Qué pasillo tiene más productos sin ofertas aplicadas?\n",
        "\n",
        "17. ¿Cuántos productos se venden a granel y cuántos por unidad?\n",
        "\n",
        "18. ¿Cuántos productos de los que hay en stock se les está aplicando oferta?\n",
        "\n",
        "19. ¿Qué está ocurriendo con el Producto \"**<strong style= 'color: red'>Aceite de Oliva extra virgen 250 ml</strong>**\" en temas de oferta y demanda?\n",
        "\n",
        "20. Ofrece recomendaciones específicas para mejorar la calidad de los datos y sugerir acciones futuras para la gestión del inventario."
      ]
    },
    {
      "cell_type": "code",
      "execution_count": 1,
      "id": "2e947a0e-4f22-42be-a1ec-ccfd2a9007fa",
      "metadata": {
        "id": "2e947a0e-4f22-42be-a1ec-ccfd2a9007fa"
      },
      "outputs": [],
      "source": [
        "import pandas as pd\n",
        "import seaborn as sns\n",
        "import matplotlib.pyplot as plt\n",
        "data = pd.read_csv(\"Amacor.csv\")\n",
        "df = data.copy()\n",
        "\n",
        "df.rename(columns = {\"title\":\n",
        "\"NOMBRE_PRODUCTO\"}, inplace = True)\n",
        "df.rename(columns = {\"brand\":\n",
        "\"MARCA\"}, inplace = True)\n",
        "df.rename(columns = {\"normal_price\":\n",
        "\"PRECIO_SIN_OFERTA\"}, inplace = True)\n",
        "df.rename(columns = {\"low_price\":\n",
        "\"PRECIO_OFERTA_MIN\"}, inplace = True)\n",
        "df.rename(columns = {\"high_price\":\n",
        "\"PRECIO_OFERTA_MAX\"}, inplace = True)\n",
        "df.rename(columns = {\"oferta\":\n",
        "\"OFERTA\"}, inplace = True)\n",
        "df.rename(columns = {\"categoria1\":\n",
        "\"ZONA_SUPERMERCADO\"}, inplace = True)\n",
        "df.rename(columns = {\"categoria2\":\n",
        "\"TIPO_PRODUCTO\"}, inplace = True)\n",
        "df.rename(columns = {\"Atributos\":\n",
        "\"ATRIBUTOS\"}, inplace = True)\n",
        "df.rename(columns = {\"sin_stock\":\n",
        "\"STOCK\"}, inplace = True)\n",
        "df.rename(columns = {\"Num_Stock\":\n",
        "\"CANTIDAD_STOCK\"}, inplace = True)\n",
        "df.rename(columns = {\"datetime\":\n",
        "\"DATATIME\"}, inplace = True)\n",
        "df.rename(columns = {\"page\":\n",
        "\"PAGE\"}, inplace = True)\n",
        "\n",
        "#df.isnull().sum()\n",
        "#df.duplicated().sum()"
      ]
    },
    {
      "cell_type": "code",
      "source": [
        "df2 = df[\"NOMBRE_PRODUCTO\"].copy()\n",
        "df2 = df2.value_counts().sum()"
      ],
      "metadata": {
        "id": "6n1kdCfvs_Oc"
      },
      "id": "6n1kdCfvs_Oc",
      "execution_count": 2,
      "outputs": []
    },
    {
      "cell_type": "code",
      "source": [
        "duplicados = df[['NOMBRE_PRODUCTO','MARCA','PRECIO_SIN_OFERTA']].duplicated().sum()\n",
        "drop_dupli = df.drop_duplicates(subset=['NOMBRE_PRODUCTO', 'MARCA','PRECIO_SIN_OFERTA'], keep='last',inplace=True)\n",
        "act = df['NOMBRE_PRODUCTO'].value_counts().sum()\n",
        "prc_duplicados = (1638*100)/df2\n",
        "\n",
        "print(f\"Antes de limpiar los datos duplicados habian {df2} productos \")\n",
        "print(f\"Despues de eliminar los duplicados hay: {act} productos\")\n",
        "print(f'El {prc_duplicados.round(2)}% eran productos duplicados')"
      ],
      "metadata": {
        "id": "kkfGQE8P7XDX",
        "colab": {
          "base_uri": "https://localhost:8080/"
        },
        "outputId": "440804cd-6684-44eb-be99-2c391b4a476f"
      },
      "id": "kkfGQE8P7XDX",
      "execution_count": 3,
      "outputs": [
        {
          "output_type": "stream",
          "name": "stdout",
          "text": [
            "Antes de limpiar los datos duplicados habian 4468 productos \n",
            "Despues de eliminar los duplicados hay: 2830 productos\n",
            "El 36.66% eran productos duplicados\n"
          ]
        }
      ]
    },
    {
      "cell_type": "code",
      "source": [
        "cross_table= pd.crosstab(df['NOMBRE_PRODUCTO'].value_counts().sum(),df['ZONA_SUPERMERCADO'])\n",
        "grf_prdctos_ZS=cross_table.plot(kind='bar',title='Productos por Zona del Supermercado',legend=True)\n",
        "grf_prdctos_ZS.legend(bbox_to_anchor=(1.05, 1), loc='upper left', borderaxespad=0., ncol=1)\n",
        "grf_prdctos_ZS.set_xlabel(None)\n",
        "for p in grf_prdctos_ZS.patches:\n",
        "    grf_prdctos_ZS.annotate(str(p.get_height()), (p.get_x() + p.get_width() / 2., p.get_height()), ha='center', va='center', xytext=(0, 10), textcoords='offset points')\n",
        "\n",
        "plt.show()"
      ],
      "metadata": {
        "id": "M4oGCASDJWxr",
        "outputId": "3f35a493-0082-440d-d42a-9896abf479bd",
        "colab": {
          "base_uri": "https://localhost:8080/",
          "height": 473
        }
      },
      "id": "M4oGCASDJWxr",
      "execution_count": 4,
      "outputs": [
        {
          "output_type": "display_data",
          "data": {
            "text/plain": [
              "<Figure size 640x480 with 1 Axes>"
            ],
            "image/png": "[encoded data removed]"
          },
          "metadata": {}
        }
      ]
    },
    {
      "cell_type": "markdown",
      "source": [
        "EJECUTAR SOLO UNA VEZ PARA NO DUPLICAR EL RESULTADO."
      ],
      "metadata": {
        "id": "DJYXE-hhTXNV"
      },
      "id": "DJYXE-hhTXNV"
    },
    {
      "cell_type": "code",
      "source": [
        "df[\"PRECIO_SIN_OFERTA\"]=df[\"PRECIO_SIN_OFERTA\"]*0.0011\n",
        "df[\"PRECIO_OFERTA_MIN\"]=df[\"PRECIO_OFERTA_MIN\"]*0.0011\n",
        "df[\"PRECIO_OFERTA_MAX\"]=df[\"PRECIO_OFERTA_MAX\"]*0.0011"
      ],
      "metadata": {
        "id": "lGW4VA4HPR67"
      },
      "id": "lGW4VA4HPR67",
      "execution_count": 5,
      "outputs": []
    },
    {
      "cell_type": "code",
      "source": [
        "media_prc = df['PRECIO_SIN_OFERTA'].mean()\n",
        "df['PRECIO_SIN_OFERTA'].replace(to_replace=0.0,value=media_prc,inplace=True)\n",
        "media_max = df['PRECIO_OFERTA_MAX'].mean()\n",
        "df['PRECIO_OFERTA_MAX'].replace(to_replace=0.0,value=media_max,inplace=True)\n",
        "media_min = df['PRECIO_OFERTA_MIN'].mean()\n",
        "df['PRECIO_OFERTA_MIN'].replace(to_replace=0.0,value=media_min,inplace=True)"
      ],
      "metadata": {
        "id": "LrPmoovrRo2K"
      },
      "execution_count": 6,
      "outputs": [],
      "id": "LrPmoovrRo2K"
    },
    {
      "cell_type": "code",
      "source": [
        "num_pasillos = list(df[\"ZONA_SUPERMERCADO\"].unique())\n",
        "num_pasillos"
      ],
      "metadata": {
        "colab": {
          "base_uri": "https://localhost:8080/"
        },
        "id": "LQE1Zd6_S3zE",
        "outputId": "6e8bf6ba-eb3c-4d1d-b1ba-302b0bf884b4"
      },
      "id": "LQE1Zd6_S3zE",
      "execution_count": 7,
      "outputs": [
        {
          "output_type": "execute_result",
          "data": {
            "text/plain": [
              "['supermercados', 'lacteos', 'frutas-y-verduras', 'carniceria', 'despensa']"
            ]
          },
          "metadata": {},
          "execution_count": 7
        }
      ]
    },
    {
      "cell_type": "code",
      "source": [
        "lista = []\n",
        "for i in df[\"ZONA_SUPERMERCADO\"]:\n",
        "  if i in num_pasillos:\n",
        "    lista.append(num_pasillos.index(i)+1)\n",
        "df.insert(7,\"NUM_PASILLOS\",lista)"
      ],
      "metadata": {
        "id": "lutP0gORn5uP"
      },
      "id": "lutP0gORn5uP",
      "execution_count": 8,
      "outputs": []
    },
    {
      "cell_type": "markdown",
      "source": [
        "1. ¿Cúal es el número total de productos?"
      ],
      "metadata": {
        "id": "dAvCmzVyp2i8"
      },
      "id": "dAvCmzVyp2i8"
    },
    {
      "cell_type": "code",
      "source": [
        "num_total = df['NOMBRE_PRODUCTO'].value_counts().sum()\n",
        "print(f'Esta base de datos tiene un total de {num_total} productos')"
      ],
      "metadata": {
        "colab": {
          "base_uri": "https://localhost:8080/"
        },
        "id": "8y3517Gzp4HL",
        "outputId": "d9ed3aad-c4e1-4d74-e0cb-28ec48719d00"
      },
      "id": "8y3517Gzp4HL",
      "execution_count": 9,
      "outputs": [
        {
          "output_type": "stream",
          "name": "stdout",
          "text": [
            "Esta base de datos tiene un total de 2830 productos\n"
          ]
        }
      ]
    },
    {
      "cell_type": "code",
      "source": [
        "import matplotlib.pyplot as plt\n",
        "\n",
        "# Datos\n",
        "valores = [df2,num_total, duplicados]\n",
        "\n",
        "# Crear un gráfico de barras\n",
        "bars = plt.bar(range(len(valores)), valores, color='lightblue')\n",
        "\n",
        "# Etiquetas en el eje x\n",
        "plt.xticks(range(len(valores)), ['TOTAL PRODUCTOS BASE DE DATOS ORIGINAL','TOTAL PRODUCTOS BASE DE DATOS LIMPIADA', 'DATOS DUPLICADOS'],rotation='vertical')\n",
        "\n",
        "# Etiqueta del eje y\n",
        "plt.ylabel('Valores')\n",
        "\n",
        "# Título del gráfico\n",
        "plt.title('Gráfico de Barras')\n",
        "\n",
        "# Agregar etiquetas con los valores numéricos encima de las barras\n",
        "for bar in bars:\n",
        "    yval = bar.get_height()\n",
        "    plt.text(bar.get_x() + bar.get_width() / 2, yval, round(yval, 2), ha='center', va='bottom')\n",
        "\n",
        "# Mostrar el gráfico\n",
        "plt.show()\n"
      ],
      "metadata": {
        "colab": {
          "base_uri": "https://localhost:8080/",
          "height": 762
        },
        "id": "JyutG3J9Wea4",
        "outputId": "a718f005-5205-410f-a438-466ea9f91de7"
      },
      "id": "JyutG3J9Wea4",
      "execution_count": 10,
      "outputs": [
        {
          "output_type": "display_data",
          "data": {
            "text/plain": [
              "<Figure size 640x480 with 1 Axes>"
            ],
            "image/png": "[encoded data removed]"
          },
          "metadata": {}
        }
      ]
    },
    {
      "cell_type": "markdown",
      "source": [
        "2. ¿Cuantos productos tienen oferta aplicada?"
      ],
      "metadata": {
        "id": "UWswVTV1qDFp"
      },
      "id": "UWswVTV1qDFp"
    },
    {
      "cell_type": "code",
      "source": [
        "prd_con_oferta= df[df['OFERTA']==1]\n",
        "ofrta_apli= prd_con_oferta[\"OFERTA\"].value_counts().sum()\n",
        "prc_oferta_apli = (ofrta_apli*100)/ act\n",
        "print(f'Hay un total de {ofrta_apli} productos con oferta aplicada. Este valor representa el {prc_oferta_apli.round(2)}% del total ')\n",
        "\n"
      ],
      "metadata": {
        "colab": {
          "base_uri": "https://localhost:8080/"
        },
        "id": "MCtgsDB3qD3V",
        "outputId": "ee220d79-2f8d-4cfa-eba7-5a8df0a165ed"
      },
      "id": "MCtgsDB3qD3V",
      "execution_count": 11,
      "outputs": [
        {
          "output_type": "stream",
          "name": "stdout",
          "text": [
            "Hay un total de 623 productos con oferta aplicada. Este valor representa el 22.01% del total \n"
          ]
        }
      ]
    },
    {
      "cell_type": "code",
      "source": [
        "cross_table_grf_prdctos_con_oferta_ZS=pd.crosstab(prd_con_oferta['NOMBRE_PRODUCTO'].value_counts().sum(),prd_con_oferta['ZONA_SUPERMERCADO'])\n",
        "colores = ['blue', 'orange', 'red', 'purple']\n",
        "grf_prdctos_con_oferta_ZS=cross_table_grf_prdctos_con_oferta_ZS.plot(kind='bar',color=colores,title='Productos con oferta aplicada por Zona del Supermercado',legend=True)\n",
        "grf_prdctos_con_oferta_ZS.legend(bbox_to_anchor=(1.05, 1), loc='upper left', borderaxespad=0., ncol=1)\n",
        "grf_prdctos_con_oferta_ZS.set_xlabel(None)\n",
        "for p in grf_prdctos_con_oferta_ZS.patches:\n",
        "    grf_prdctos_con_oferta_ZS.annotate(str(p.get_height()), (p.get_x() + p.get_width() / 2., p.get_height()), ha='center', va='center', xytext=(0, 10), textcoords='offset points')\n",
        "\n",
        "plt.show()"
      ],
      "metadata": {
        "id": "avHd3EjnZXQR",
        "outputId": "f5d40a9e-3ddd-4ade-b70e-67af1a727d35",
        "colab": {
          "base_uri": "https://localhost:8080/",
          "height": 465
        }
      },
      "id": "avHd3EjnZXQR",
      "execution_count": 12,
      "outputs": [
        {
          "output_type": "display_data",
          "data": {
            "text/plain": [
              "<Figure size 640x480 with 1 Axes>"
            ],
            "image/png": "[encoded data removed]"
          },
          "metadata": {}
        }
      ]
    },
    {
      "cell_type": "code",
      "source": [
        "prd_con_oferta.groupby('OFERTA')['NUM_PASILLOS'].value_counts()\n",
        "\n"
      ],
      "metadata": {
        "id": "ELtbG6oIC8Tp",
        "colab": {
          "base_uri": "https://localhost:8080/"
        },
        "outputId": "666268d2-7e0e-431c-d1a8-511911efdd8c"
      },
      "id": "ELtbG6oIC8Tp",
      "execution_count": 13,
      "outputs": [
        {
          "output_type": "execute_result",
          "data": {
            "text/plain": [
              "OFERTA  NUM_PASILLOS\n",
              "1       1               336\n",
              "        5               192\n",
              "        2                73\n",
              "        4                22\n",
              "Name: NUM_PASILLOS, dtype: int64"
            ]
          },
          "metadata": {},
          "execution_count": 13
        }
      ]
    },
    {
      "cell_type": "code",
      "source": [
        "sns.countplot(x=df['OFERTA'] ,data = df)"
      ],
      "metadata": {
        "colab": {
          "base_uri": "https://localhost:8080/",
          "height": 466
        },
        "id": "Mj-UrZFvKraQ",
        "outputId": "9aaa198d-9d81-4f2c-c280-c5694f3253b3"
      },
      "id": "Mj-UrZFvKraQ",
      "execution_count": 14,
      "outputs": [
        {
          "output_type": "execute_result",
          "data": {
            "text/plain": [
              "<Axes: xlabel='OFERTA', ylabel='count'>"
            ]
          },
          "metadata": {},
          "execution_count": 14
        },
        {
          "output_type": "display_data",
          "data": {
            "text/plain": [
              "<Figure size 640x480 with 1 Axes>"
            ],
            "image/png": "[encoded data removed]"
          },
          "metadata": {}
        }
      ]
    },
    {
      "cell_type": "code",
      "source": [
        "etiquetas='1','5','2','4'"
      ],
      "metadata": {
        "id": "rHQnr3VPHN4Z"
      },
      "id": "rHQnr3VPHN4Z",
      "execution_count": 15,
      "outputs": []
    },
    {
      "cell_type": "code",
      "source": [
        "plt.pie(prd_con_oferta[\"NUM_PASILLOS\"].value_counts(),labels=etiquetas,autopct=\"%0.2f %%\")\n",
        "plt.show()"
      ],
      "metadata": {
        "colab": {
          "base_uri": "https://localhost:8080/",
          "height": 406
        },
        "id": "OvKVPeIBG7iq",
        "outputId": "17944815-457d-4e52-c765-151235bb4bc2"
      },
      "id": "OvKVPeIBG7iq",
      "execution_count": 16,
      "outputs": [
        {
          "output_type": "display_data",
          "data": {
            "text/plain": [
              "<Figure size 640x480 with 1 Axes>"
            ],
            "image/png": "[encoded data removed]"
          },
          "metadata": {}
        }
      ]
    },
    {
      "cell_type": "markdown",
      "source": [
        "3. ¿Cuál es el producto más caro?"
      ],
      "metadata": {
        "id": "vOMY5Fr4sF2V"
      },
      "id": "vOMY5Fr4sF2V"
    },
    {
      "cell_type": "code",
      "source": [
        "pd.DataFrame(df.groupby([\"NOMBRE_PRODUCTO\"])[[\"PRECIO_SIN_OFERTA\",'CANTIDAD_STOCK']].max().sort_values(by='PRECIO_SIN_OFERTA', ascending=False).head(1))"
      ],
      "metadata": {
        "colab": {
          "base_uri": "https://localhost:8080/",
          "height": 112
        },
        "id": "VyJV3MKYsKUF",
        "outputId": "102e1a67-da36-458d-a615-89bc3f1b33bb"
      },
      "id": "VyJV3MKYsKUF",
      "execution_count": 17,
      "outputs": [
        {
          "output_type": "execute_result",
          "data": {
            "text/plain": [
              "                    PRECIO_SIN_OFERTA  CANTIDAD_STOCK\n",
              "NOMBRE_PRODUCTO                                      \n",
              "Crema de leche 1 L            48.4308              50"
            ],
            "text/html": [
              "\n",
              "  <div id=\"df-ca4fd3cb-b60e-4219-bb39-09fb283b0dcf\" class=\"colab-df-container\">\n",
              "    <div>\n",
              "<style scoped>\n",
              "    .dataframe tbody tr th:only-of-type {\n",
              "        vertical-align: middle;\n",
              "    }\n",
              "\n",
              "    .dataframe tbody tr th {\n",
              "        vertical-align: top;\n",
              "    }\n",
              "\n",
              "    .dataframe thead th {\n",
              "        text-align: right;\n",
              "    }\n",
              "</style>\n",
              "<table border=\"1\" class=\"dataframe\">\n",
              "  <thead>\n",
              "    <tr style=\"text-align: right;\">\n",
              "      <th></th>\n",
              "      <th>PRECIO_SIN_OFERTA</th>\n",
              "      <th>CANTIDAD_STOCK</th>\n",
              "    </tr>\n",
              "    <tr>\n",
              "      <th>NOMBRE_PRODUCTO</th>\n",
              "      <th></th>\n",
              "      <th></th>\n",
              "    </tr>\n",
              "  </thead>\n",
              "  <tbody>\n",
              "    <tr>\n",
              "      <th>Crema de leche 1 L</th>\n",
              "      <td>48.4308</td>\n",
              "      <td>50</td>\n",
              "    </tr>\n",
              "  </tbody>\n",
              "</table>\n",
              "</div>\n",
              "    <div class=\"colab-df-buttons\">\n",
              "\n",
              "  <div class=\"colab-df-container\">\n",
              "    <button class=\"colab-df-convert\" onclick=\"convertToInteractive('df-ca4fd3cb-b60e-4219-bb39-09fb283b0dcf')\"\n",
              "            title=\"Convert this dataframe to an interactive table.\"\n",
              "            style=\"display:none;\">\n",
              "\n",
              "  <svg xmlns=\"http://www.w3.org/2000/svg\" height=\"24px\" viewBox=\"0 -960 960 960\">\n",
              "    <path d=\"M120-120v-720h720v720H120Zm60-500h600v-160H180v160Zm220 220h160v-160H400v160Zm0 220h160v-160H400v160ZM180-400h160v-160H180v160Zm440 0h160v-160H620v160ZM180-180h160v-160H180v160Zm440 0h160v-160H620v160Z\"/>\n",
              "  </svg>\n",
              "    </button>\n",
              "\n",
              "  <style>\n",
              "    .colab-df-container {\n",
              "      display:flex;\n",
              "      gap: 12px;\n",
              "    }\n",
              "\n",
              "    .colab-df-convert {\n",
              "      background-color: #E8F0FE;\n",
              "      border: none;\n",
              "      border-radius: 50%;\n",
              "      cursor: pointer;\n",
              "      display: none;\n",
              "      fill: #1967D2;\n",
              "      height: 32px;\n",
              "      padding: 0 0 0 0;\n",
              "      width: 32px;\n",
              "    }\n",
              "\n",
              "    .colab-df-convert:hover {\n",
              "      background-color: #E2EBFA;\n",
              "      box-shadow: 0px 1px 2px rgba(60, 64, 67, 0.3), 0px 1px 3px 1px rgba(60, 64, 67, 0.15);\n",
              "      fill: #174EA6;\n",
              "    }\n",
              "\n",
              "    .colab-df-buttons div {\n",
              "      margin-bottom: 4px;\n",
              "    }\n",
              "\n",
              "    [theme=dark] .colab-df-convert {\n",
              "      background-color: #3B4455;\n",
              "      fill: #D2E3FC;\n",
              "    }\n",
              "\n",
              "    [theme=dark] .colab-df-convert:hover {\n",
              "      background-color: #434B5C;\n",
              "      box-shadow: 0px 1px 3px 1px rgba(0, 0, 0, 0.15);\n",
              "      filter: drop-shadow(0px 1px 2px rgba(0, 0, 0, 0.3));\n",
              "      fill: #FFFFFF;\n",
              "    }\n",
              "  </style>\n",
              "\n",
              "    <script>\n",
              "      const buttonEl =\n",
              "        document.querySelector('#df-ca4fd3cb-b60e-4219-bb39-09fb283b0dcf button.colab-df-convert');\n",
              "      buttonEl.style.display =\n",
              "        google.colab.kernel.accessAllowed ? 'block' : 'none';\n",
              "\n",
              "      async function convertToInteractive(key) {\n",
              "        const element = document.querySelector('#df-ca4fd3cb-b60e-4219-bb39-09fb283b0dcf');\n",
              "        const dataTable =\n",
              "          await google.colab.kernel.invokeFunction('convertToInteractive',\n",
              "                                                    [key], {});\n",
              "        if (!dataTable) return;\n",
              "\n",
              "        const docLinkHtml = 'Like what you see? Visit the ' +\n",
              "          '<a target=\"_blank\" href=https://colab.research.google.com/notebooks/data_table.ipynb>data table notebook</a>'\n",
              "          + ' to learn more about interactive tables.';\n",
              "        element.innerHTML = '';\n",
              "        dataTable['output_type'] = 'display_data';\n",
              "        await google.colab.output.renderOutput(dataTable, element);\n",
              "        const docLink = document.createElement('div');\n",
              "        docLink.innerHTML = docLinkHtml;\n",
              "        element.appendChild(docLink);\n",
              "      }\n",
              "    </script>\n",
              "  </div>\n",
              "\n",
              "    </div>\n",
              "  </div>\n"
            ]
          },
          "metadata": {},
          "execution_count": 17
        }
      ]
    },
    {
      "cell_type": "markdown",
      "source": [
        "4. ¿A cuantos productos no les queda Stock?"
      ],
      "metadata": {
        "id": "QrOFW9TXuXq6"
      },
      "id": "QrOFW9TXuXq6"
    },
    {
      "cell_type": "code",
      "source": [
        "prd_sin_stock=df[df['STOCK']==0]\n",
        "prductos_sin_stock= prd_sin_stock.value_counts().sum()\n",
        "prc_sin_stocl = (prductos_sin_stock*100)/ act\n",
        "print(f'Hay un total de {prductos_sin_stock} productos sin Stock. Este valor representa un {prc_sin_stocl.round(2)}% del total')\n"
      ],
      "metadata": {
        "colab": {
          "base_uri": "https://localhost:8080/"
        },
        "id": "jC3EVyWyucTQ",
        "outputId": "5761ec7d-eb94-432d-97f7-c0ad22b19689"
      },
      "id": "jC3EVyWyucTQ",
      "execution_count": 18,
      "outputs": [
        {
          "output_type": "stream",
          "name": "stdout",
          "text": [
            "Hay un total de 137 productos sin Stock. Este valor representa un 4.84% del total\n"
          ]
        }
      ]
    },
    {
      "cell_type": "code",
      "source": [
        " pd.crosstab(prd_sin_stock['NOMBRE_PRODUCTO'].value_counts().sum(),prd_sin_stock['ZONA_SUPERMERCADO'])"
      ],
      "metadata": {
        "id": "EaTmWJMkA-ZX",
        "outputId": "8bc08d4d-c759-45ab-d596-ef55dbf255b3",
        "colab": {
          "base_uri": "https://localhost:8080/",
          "height": 112
        }
      },
      "id": "EaTmWJMkA-ZX",
      "execution_count": 19,
      "outputs": [
        {
          "output_type": "execute_result",
          "data": {
            "text/plain": [
              "ZONA_SUPERMERCADO  carniceria  despensa  frutas-y-verduras  lacteos  \\\n",
              "row_0                                                                 \n",
              "137                         5        47                  6       22   \n",
              "\n",
              "ZONA_SUPERMERCADO  supermercados  \n",
              "row_0                             \n",
              "137                           57  "
            ],
            "text/html": [
              "\n",
              "  <div id=\"df-befbfd91-b731-4b87-8dc8-f4449cccadcf\" class=\"colab-df-container\">\n",
              "    <div>\n",
              "<style scoped>\n",
              "    .dataframe tbody tr th:only-of-type {\n",
              "        vertical-align: middle;\n",
              "    }\n",
              "\n",
              "    .dataframe tbody tr th {\n",
              "        vertical-align: top;\n",
              "    }\n",
              "\n",
              "    .dataframe thead th {\n",
              "        text-align: right;\n",
              "    }\n",
              "</style>\n",
              "<table border=\"1\" class=\"dataframe\">\n",
              "  <thead>\n",
              "    <tr style=\"text-align: right;\">\n",
              "      <th>ZONA_SUPERMERCADO</th>\n",
              "      <th>carniceria</th>\n",
              "      <th>despensa</th>\n",
              "      <th>frutas-y-verduras</th>\n",
              "      <th>lacteos</th>\n",
              "      <th>supermercados</th>\n",
              "    </tr>\n",
              "    <tr>\n",
              "      <th>row_0</th>\n",
              "      <th></th>\n",
              "      <th></th>\n",
              "      <th></th>\n",
              "      <th></th>\n",
              "      <th></th>\n",
              "    </tr>\n",
              "  </thead>\n",
              "  <tbody>\n",
              "    <tr>\n",
              "      <th>137</th>\n",
              "      <td>5</td>\n",
              "      <td>47</td>\n",
              "      <td>6</td>\n",
              "      <td>22</td>\n",
              "      <td>57</td>\n",
              "    </tr>\n",
              "  </tbody>\n",
              "</table>\n",
              "</div>\n",
              "    <div class=\"colab-df-buttons\">\n",
              "\n",
              "  <div class=\"colab-df-container\">\n",
              "    <button class=\"colab-df-convert\" onclick=\"convertToInteractive('df-befbfd91-b731-4b87-8dc8-f4449cccadcf')\"\n",
              "            title=\"Convert this dataframe to an interactive table.\"\n",
              "            style=\"display:none;\">\n",
              "\n",
              "  <svg xmlns=\"http://www.w3.org/2000/svg\" height=\"24px\" viewBox=\"0 -960 960 960\">\n",
              "    <path d=\"M120-120v-720h720v720H120Zm60-500h600v-160H180v160Zm220 220h160v-160H400v160Zm0 220h160v-160H400v160ZM180-400h160v-160H180v160Zm440 0h160v-160H620v160ZM180-180h160v-160H180v160Zm440 0h160v-160H620v160Z\"/>\n",
              "  </svg>\n",
              "    </button>\n",
              "\n",
              "  <style>\n",
              "    .colab-df-container {\n",
              "      display:flex;\n",
              "      gap: 12px;\n",
              "    }\n",
              "\n",
              "    .colab-df-convert {\n",
              "      background-color: #E8F0FE;\n",
              "      border: none;\n",
              "      border-radius: 50%;\n",
              "      cursor: pointer;\n",
              "      display: none;\n",
              "      fill: #1967D2;\n",
              "      height: 32px;\n",
              "      padding: 0 0 0 0;\n",
              "      width: 32px;\n",
              "    }\n",
              "\n",
              "    .colab-df-convert:hover {\n",
              "      background-color: #E2EBFA;\n",
              "      box-shadow: 0px 1px 2px rgba(60, 64, 67, 0.3), 0px 1px 3px 1px rgba(60, 64, 67, 0.15);\n",
              "      fill: #174EA6;\n",
              "    }\n",
              "\n",
              "    .colab-df-buttons div {\n",
              "      margin-bottom: 4px;\n",
              "    }\n",
              "\n",
              "    [theme=dark] .colab-df-convert {\n",
              "      background-color: #3B4455;\n",
              "      fill: #D2E3FC;\n",
              "    }\n",
              "\n",
              "    [theme=dark] .colab-df-convert:hover {\n",
              "      background-color: #434B5C;\n",
              "      box-shadow: 0px 1px 3px 1px rgba(0, 0, 0, 0.15);\n",
              "      filter: drop-shadow(0px 1px 2px rgba(0, 0, 0, 0.3));\n",
              "      fill: #FFFFFF;\n",
              "    }\n",
              "  </style>\n",
              "\n",
              "    <script>\n",
              "      const buttonEl =\n",
              "        document.querySelector('#df-befbfd91-b731-4b87-8dc8-f4449cccadcf button.colab-df-convert');\n",
              "      buttonEl.style.display =\n",
              "        google.colab.kernel.accessAllowed ? 'block' : 'none';\n",
              "\n",
              "      async function convertToInteractive(key) {\n",
              "        const element = document.querySelector('#df-befbfd91-b731-4b87-8dc8-f4449cccadcf');\n",
              "        const dataTable =\n",
              "          await google.colab.kernel.invokeFunction('convertToInteractive',\n",
              "                                                    [key], {});\n",
              "        if (!dataTable) return;\n",
              "\n",
              "        const docLinkHtml = 'Like what you see? Visit the ' +\n",
              "          '<a target=\"_blank\" href=https://colab.research.google.com/notebooks/data_table.ipynb>data table notebook</a>'\n",
              "          + ' to learn more about interactive tables.';\n",
              "        element.innerHTML = '';\n",
              "        dataTable['output_type'] = 'display_data';\n",
              "        await google.colab.output.renderOutput(dataTable, element);\n",
              "        const docLink = document.createElement('div');\n",
              "        docLink.innerHTML = docLinkHtml;\n",
              "        element.appendChild(docLink);\n",
              "      }\n",
              "    </script>\n",
              "  </div>\n",
              "\n",
              "    </div>\n",
              "  </div>\n"
            ]
          },
          "metadata": {},
          "execution_count": 19
        }
      ]
    },
    {
      "cell_type": "code",
      "source": [
        "cross_table_grf_prdctos_sin_stock_ZS = pd.crosstab(prd_sin_stock['NOMBRE_PRODUCTO'].value_counts().sum(),prd_sin_stock['ZONA_SUPERMERCADO'])\n",
        "colores = ['blue', 'orange','green', 'red', 'purple']\n",
        "cross_table_grf_prdctos_sin_stock_ZS=cross_table_grf_prdctos_sin_stock_ZS.plot(kind='bar',color=colores,title='Productos sin stock por Zona del Supermercado',legend=True)\n",
        "cross_table_grf_prdctos_sin_stock_ZS.legend(bbox_to_anchor=(1.05, 1), loc='upper left', borderaxespad=0., ncol=1)\n",
        "cross_table_grf_prdctos_sin_stock_ZS.set_xlabel(None)\n",
        "for p in cross_table_grf_prdctos_sin_stock_ZS.patches:\n",
        "    cross_table_grf_prdctos_sin_stock_ZS.annotate(str(p.get_height()), (p.get_x() + p.get_width() / 2., p.get_height()), ha='center', va='center', xytext=(0, 10), textcoords='offset points')\n",
        "\n",
        "plt.show()"
      ],
      "metadata": {
        "id": "0WL5sGs8AUMu",
        "outputId": "3305f947-de81-4570-b381-1adc3300b911",
        "colab": {
          "base_uri": "https://localhost:8080/",
          "height": 465
        }
      },
      "id": "0WL5sGs8AUMu",
      "execution_count": 20,
      "outputs": [
        {
          "output_type": "display_data",
          "data": {
            "text/plain": [
              "<Figure size 640x480 with 1 Axes>"
            ],
            "image/png": "[encoded data removed]"
          },
          "metadata": {}
        }
      ]
    },
    {
      "cell_type": "markdown",
      "source": [
        "5. ¿Cuál es el producto más barato?"
      ],
      "metadata": {
        "id": "EXIyV5shwYlu"
      },
      "id": "EXIyV5shwYlu"
    },
    {
      "cell_type": "code",
      "source": [
        "pd.DataFrame(df.groupby(\"NOMBRE_PRODUCTO\")[\"PRECIO_SIN_OFERTA\"].min().sort_values(ascending=True).head(1))"
      ],
      "metadata": {
        "colab": {
          "base_uri": "https://localhost:8080/",
          "height": 112
        },
        "id": "hD197x1xwb-i",
        "outputId": "46f91b2c-1a18-45e3-9263-de65ffb916c1"
      },
      "id": "hD197x1xwb-i",
      "execution_count": 21,
      "outputs": [
        {
          "output_type": "execute_result",
          "data": {
            "text/plain": [
              "                                             PRECIO_SIN_OFERTA\n",
              "NOMBRE_PRODUCTO                                               \n",
              "Bicarbonato Gourmet Refinado, Sobre 30 grs.             0.1529"
            ],
            "text/html": [
              "\n",
              "  <div id=\"df-eceda0d2-0c61-4bf4-9c62-7aab002574b7\" class=\"colab-df-container\">\n",
              "    <div>\n",
              "<style scoped>\n",
              "    .dataframe tbody tr th:only-of-type {\n",
              "        vertical-align: middle;\n",
              "    }\n",
              "\n",
              "    .dataframe tbody tr th {\n",
              "        vertical-align: top;\n",
              "    }\n",
              "\n",
              "    .dataframe thead th {\n",
              "        text-align: right;\n",
              "    }\n",
              "</style>\n",
              "<table border=\"1\" class=\"dataframe\">\n",
              "  <thead>\n",
              "    <tr style=\"text-align: right;\">\n",
              "      <th></th>\n",
              "      <th>PRECIO_SIN_OFERTA</th>\n",
              "    </tr>\n",
              "    <tr>\n",
              "      <th>NOMBRE_PRODUCTO</th>\n",
              "      <th></th>\n",
              "    </tr>\n",
              "  </thead>\n",
              "  <tbody>\n",
              "    <tr>\n",
              "      <th>Bicarbonato Gourmet Refinado, Sobre 30 grs.</th>\n",
              "      <td>0.1529</td>\n",
              "    </tr>\n",
              "  </tbody>\n",
              "</table>\n",
              "</div>\n",
              "    <div class=\"colab-df-buttons\">\n",
              "\n",
              "  <div class=\"colab-df-container\">\n",
              "    <button class=\"colab-df-convert\" onclick=\"convertToInteractive('df-eceda0d2-0c61-4bf4-9c62-7aab002574b7')\"\n",
              "            title=\"Convert this dataframe to an interactive table.\"\n",
              "            style=\"display:none;\">\n",
              "\n",
              "  <svg xmlns=\"http://www.w3.org/2000/svg\" height=\"24px\" viewBox=\"0 -960 960 960\">\n",
              "    <path d=\"M120-120v-720h720v720H120Zm60-500h600v-160H180v160Zm220 220h160v-160H400v160Zm0 220h160v-160H400v160ZM180-400h160v-160H180v160Zm440 0h160v-160H620v160ZM180-180h160v-160H180v160Zm440 0h160v-160H620v160Z\"/>\n",
              "  </svg>\n",
              "    </button>\n",
              "\n",
              "  <style>\n",
              "    .colab-df-container {\n",
              "      display:flex;\n",
              "      gap: 12px;\n",
              "    }\n",
              "\n",
              "    .colab-df-convert {\n",
              "      background-color: #E8F0FE;\n",
              "      border: none;\n",
              "      border-radius: 50%;\n",
              "      cursor: pointer;\n",
              "      display: none;\n",
              "      fill: #1967D2;\n",
              "      height: 32px;\n",
              "      padding: 0 0 0 0;\n",
              "      width: 32px;\n",
              "    }\n",
              "\n",
              "    .colab-df-convert:hover {\n",
              "      background-color: #E2EBFA;\n",
              "      box-shadow: 0px 1px 2px rgba(60, 64, 67, 0.3), 0px 1px 3px 1px rgba(60, 64, 67, 0.15);\n",
              "      fill: #174EA6;\n",
              "    }\n",
              "\n",
              "    .colab-df-buttons div {\n",
              "      margin-bottom: 4px;\n",
              "    }\n",
              "\n",
              "    [theme=dark] .colab-df-convert {\n",
              "      background-color: #3B4455;\n",
              "      fill: #D2E3FC;\n",
              "    }\n",
              "\n",
              "    [theme=dark] .colab-df-convert:hover {\n",
              "      background-color: #434B5C;\n",
              "      box-shadow: 0px 1px 3px 1px rgba(0, 0, 0, 0.15);\n",
              "      filter: drop-shadow(0px 1px 2px rgba(0, 0, 0, 0.3));\n",
              "      fill: #FFFFFF;\n",
              "    }\n",
              "  </style>\n",
              "\n",
              "    <script>\n",
              "      const buttonEl =\n",
              "        document.querySelector('#df-eceda0d2-0c61-4bf4-9c62-7aab002574b7 button.colab-df-convert');\n",
              "      buttonEl.style.display =\n",
              "        google.colab.kernel.accessAllowed ? 'block' : 'none';\n",
              "\n",
              "      async function convertToInteractive(key) {\n",
              "        const element = document.querySelector('#df-eceda0d2-0c61-4bf4-9c62-7aab002574b7');\n",
              "        const dataTable =\n",
              "          await google.colab.kernel.invokeFunction('convertToInteractive',\n",
              "                                                    [key], {});\n",
              "        if (!dataTable) return;\n",
              "\n",
              "        const docLinkHtml = 'Like what you see? Visit the ' +\n",
              "          '<a target=\"_blank\" href=https://colab.research.google.com/notebooks/data_table.ipynb>data table notebook</a>'\n",
              "          + ' to learn more about interactive tables.';\n",
              "        element.innerHTML = '';\n",
              "        dataTable['output_type'] = 'display_data';\n",
              "        await google.colab.output.renderOutput(dataTable, element);\n",
              "        const docLink = document.createElement('div');\n",
              "        docLink.innerHTML = docLinkHtml;\n",
              "        element.appendChild(docLink);\n",
              "      }\n",
              "    </script>\n",
              "  </div>\n",
              "\n",
              "    </div>\n",
              "  </div>\n"
            ]
          },
          "metadata": {},
          "execution_count": 21
        }
      ]
    },
    {
      "cell_type": "markdown",
      "source": [
        "6. ¿Cuál es el producto con más Stock? ¿Se le está aplicando oferta a este producto?"
      ],
      "metadata": {
        "id": "biqFx096wxGX"
      },
      "id": "biqFx096wxGX"
    },
    {
      "cell_type": "code",
      "source": [
        "mas_stock = pd.DataFrame(df.groupby(\"NOMBRE_PRODUCTO\")[[\"CANTIDAD_STOCK\",'OFERTA']].max().sort_values(by='CANTIDAD_STOCK',ascending=False).head(1))\n",
        "mas_stock"
      ],
      "metadata": {
        "colab": {
          "base_uri": "https://localhost:8080/",
          "height": 112
        },
        "id": "gVmCpuG3zw9D",
        "outputId": "a99077c0-2ac6-46f2-db6e-01c3a902c354"
      },
      "id": "gVmCpuG3zw9D",
      "execution_count": 22,
      "outputs": [
        {
          "output_type": "execute_result",
          "data": {
            "text/plain": [
              "                           CANTIDAD_STOCK  OFERTA\n",
              "NOMBRE_PRODUCTO                                  \n",
              "Porotos negros bolsa 1 kg              50       0"
            ],
            "text/html": [
              "\n",
              "  <div id=\"df-0b600838-967f-4667-8463-56cac85421c4\" class=\"colab-df-container\">\n",
              "    <div>\n",
              "<style scoped>\n",
              "    .dataframe tbody tr th:only-of-type {\n",
              "        vertical-align: middle;\n",
              "    }\n",
              "\n",
              "    .dataframe tbody tr th {\n",
              "        vertical-align: top;\n",
              "    }\n",
              "\n",
              "    .dataframe thead th {\n",
              "        text-align: right;\n",
              "    }\n",
              "</style>\n",
              "<table border=\"1\" class=\"dataframe\">\n",
              "  <thead>\n",
              "    <tr style=\"text-align: right;\">\n",
              "      <th></th>\n",
              "      <th>CANTIDAD_STOCK</th>\n",
              "      <th>OFERTA</th>\n",
              "    </tr>\n",
              "    <tr>\n",
              "      <th>NOMBRE_PRODUCTO</th>\n",
              "      <th></th>\n",
              "      <th></th>\n",
              "    </tr>\n",
              "  </thead>\n",
              "  <tbody>\n",
              "    <tr>\n",
              "      <th>Porotos negros bolsa 1 kg</th>\n",
              "      <td>50</td>\n",
              "      <td>0</td>\n",
              "    </tr>\n",
              "  </tbody>\n",
              "</table>\n",
              "</div>\n",
              "    <div class=\"colab-df-buttons\">\n",
              "\n",
              "  <div class=\"colab-df-container\">\n",
              "    <button class=\"colab-df-convert\" onclick=\"convertToInteractive('df-0b600838-967f-4667-8463-56cac85421c4')\"\n",
              "            title=\"Convert this dataframe to an interactive table.\"\n",
              "            style=\"display:none;\">\n",
              "\n",
              "  <svg xmlns=\"http://www.w3.org/2000/svg\" height=\"24px\" viewBox=\"0 -960 960 960\">\n",
              "    <path d=\"M120-120v-720h720v720H120Zm60-500h600v-160H180v160Zm220 220h160v-160H400v160Zm0 220h160v-160H400v160ZM180-400h160v-160H180v160Zm440 0h160v-160H620v160ZM180-180h160v-160H180v160Zm440 0h160v-160H620v160Z\"/>\n",
              "  </svg>\n",
              "    </button>\n",
              "\n",
              "  <style>\n",
              "    .colab-df-container {\n",
              "      display:flex;\n",
              "      gap: 12px;\n",
              "    }\n",
              "\n",
              "    .colab-df-convert {\n",
              "      background-color: #E8F0FE;\n",
              "      border: none;\n",
              "      border-radius: 50%;\n",
              "      cursor: pointer;\n",
              "      display: none;\n",
              "      fill: #1967D2;\n",
              "      height: 32px;\n",
              "      padding: 0 0 0 0;\n",
              "      width: 32px;\n",
              "    }\n",
              "\n",
              "    .colab-df-convert:hover {\n",
              "      background-color: #E2EBFA;\n",
              "      box-shadow: 0px 1px 2px rgba(60, 64, 67, 0.3), 0px 1px 3px 1px rgba(60, 64, 67, 0.15);\n",
              "      fill: #174EA6;\n",
              "    }\n",
              "\n",
              "    .colab-df-buttons div {\n",
              "      margin-bottom: 4px;\n",
              "    }\n",
              "\n",
              "    [theme=dark] .colab-df-convert {\n",
              "      background-color: #3B4455;\n",
              "      fill: #D2E3FC;\n",
              "    }\n",
              "\n",
              "    [theme=dark] .colab-df-convert:hover {\n",
              "      background-color: #434B5C;\n",
              "      box-shadow: 0px 1px 3px 1px rgba(0, 0, 0, 0.15);\n",
              "      filter: drop-shadow(0px 1px 2px rgba(0, 0, 0, 0.3));\n",
              "      fill: #FFFFFF;\n",
              "    }\n",
              "  </style>\n",
              "\n",
              "    <script>\n",
              "      const buttonEl =\n",
              "        document.querySelector('#df-0b600838-967f-4667-8463-56cac85421c4 button.colab-df-convert');\n",
              "      buttonEl.style.display =\n",
              "        google.colab.kernel.accessAllowed ? 'block' : 'none';\n",
              "\n",
              "      async function convertToInteractive(key) {\n",
              "        const element = document.querySelector('#df-0b600838-967f-4667-8463-56cac85421c4');\n",
              "        const dataTable =\n",
              "          await google.colab.kernel.invokeFunction('convertToInteractive',\n",
              "                                                    [key], {});\n",
              "        if (!dataTable) return;\n",
              "\n",
              "        const docLinkHtml = 'Like what you see? Visit the ' +\n",
              "          '<a target=\"_blank\" href=https://colab.research.google.com/notebooks/data_table.ipynb>data table notebook</a>'\n",
              "          + ' to learn more about interactive tables.';\n",
              "        element.innerHTML = '';\n",
              "        dataTable['output_type'] = 'display_data';\n",
              "        await google.colab.output.renderOutput(dataTable, element);\n",
              "        const docLink = document.createElement('div');\n",
              "        docLink.innerHTML = docLinkHtml;\n",
              "        element.appendChild(docLink);\n",
              "      }\n",
              "    </script>\n",
              "  </div>\n",
              "\n",
              "    </div>\n",
              "  </div>\n"
            ]
          },
          "metadata": {},
          "execution_count": 22
        }
      ]
    },
    {
      "cell_type": "markdown",
      "source": [
        "7.A los producos que se les aplica la oferta, ¿Cuánto dinero se está ahorrando el cliente?"
      ],
      "metadata": {
        "id": "zQCAiymJzkQ7"
      },
      "id": "zQCAiymJzkQ7"
    },
    {
      "cell_type": "code",
      "source": [
        "cond = df[df['OFERTA']==1]\n",
        "total = cond['PRECIO_SIN_OFERTA'].sum().round(2)\n",
        "prc_ahorro_oferta = (total*100)/ df['PRECIO_SIN_OFERTA'].sum().round(2)\n",
        "print(f'En total, el cliente se estaria ahorrando un total de \"{total}\"€.Este valor representa un {prc_ahorro_oferta.round(2)}% del total')\n"
      ],
      "metadata": {
        "colab": {
          "base_uri": "https://localhost:8080/"
        },
        "id": "3Okr_1smzkLC",
        "outputId": "b1f0ecae-3bc3-4cff-d0d5-ce52501b59ed"
      },
      "id": "3Okr_1smzkLC",
      "execution_count": 23,
      "outputs": [
        {
          "output_type": "stream",
          "name": "stdout",
          "text": [
            "En total, el cliente se estaria ahorrando un total de \"1367.42\"€.Este valor representa un 17.35% del total\n"
          ]
        }
      ]
    },
    {
      "cell_type": "markdown",
      "source": [
        "8.¿Cuál es el producto más barato por pasillos?"
      ],
      "metadata": {
        "id": "Ss-PLpuazkFG"
      },
      "id": "Ss-PLpuazkFG"
    },
    {
      "cell_type": "code",
      "source": [
        "df.groupby('NUM_PASILLOS')[['NOMBRE_PRODUCTO','PRECIO_SIN_OFERTA','CANTIDAD_STOCK','ZONA_SUPERMERCADO']].min()"
      ],
      "metadata": {
        "id": "2_NIeoGpzj_q",
        "outputId": "f35cb29a-03a0-44f4-b59b-95319dd9d0f9",
        "colab": {
          "base_uri": "https://localhost:8080/",
          "height": 237
        }
      },
      "id": "2_NIeoGpzj_q",
      "execution_count": 24,
      "outputs": [
        {
          "output_type": "execute_result",
          "data": {
            "text/plain": [
              "                                                NOMBRE_PRODUCTO  \\\n",
              "NUM_PASILLOS                                                      \n",
              "1                         Acondicionador Aloe Hidra Bomb 350 ml   \n",
              "2             Alimento de Avena Nestlé Veggie Probióticos Fr...   \n",
              "3                                                  Acelga 500 g   \n",
              "4                                               Abastero Cat. V   \n",
              "5                                            Aceite Vegetal 1 L   \n",
              "\n",
              "              PRECIO_SIN_OFERTA  CANTIDAD_STOCK  ZONA_SUPERMERCADO  \n",
              "NUM_PASILLOS                                                        \n",
              "1                        0.2090               0      supermercados  \n",
              "2                        0.2299               0            lacteos  \n",
              "3                        0.4829               0  frutas-y-verduras  \n",
              "4                        2.1890               0         carniceria  \n",
              "5                        0.1529               0           despensa  "
            ],
            "text/html": [
              "\n",
              "  <div id=\"df-b189b9ba-3880-4eac-a4c5-0db6c7bf8fd1\" class=\"colab-df-container\">\n",
              "    <div>\n",
              "<style scoped>\n",
              "    .dataframe tbody tr th:only-of-type {\n",
              "        vertical-align: middle;\n",
              "    }\n",
              "\n",
              "    .dataframe tbody tr th {\n",
              "        vertical-align: top;\n",
              "    }\n",
              "\n",
              "    .dataframe thead th {\n",
              "        text-align: right;\n",
              "    }\n",
              "</style>\n",
              "<table border=\"1\" class=\"dataframe\">\n",
              "  <thead>\n",
              "    <tr style=\"text-align: right;\">\n",
              "      <th></th>\n",
              "      <th>NOMBRE_PRODUCTO</th>\n",
              "      <th>PRECIO_SIN_OFERTA</th>\n",
              "      <th>CANTIDAD_STOCK</th>\n",
              "      <th>ZONA_SUPERMERCADO</th>\n",
              "    </tr>\n",
              "    <tr>\n",
              "      <th>NUM_PASILLOS</th>\n",
              "      <th></th>\n",
              "      <th></th>\n",
              "      <th></th>\n",
              "      <th></th>\n",
              "    </tr>\n",
              "  </thead>\n",
              "  <tbody>\n",
              "    <tr>\n",
              "      <th>1</th>\n",
              "      <td>Acondicionador Aloe Hidra Bomb 350 ml</td>\n",
              "      <td>0.2090</td>\n",
              "      <td>0</td>\n",
              "      <td>supermercados</td>\n",
              "    </tr>\n",
              "    <tr>\n",
              "      <th>2</th>\n",
              "      <td>Alimento de Avena Nestlé Veggie Probióticos Fr...</td>\n",
              "      <td>0.2299</td>\n",
              "      <td>0</td>\n",
              "      <td>lacteos</td>\n",
              "    </tr>\n",
              "    <tr>\n",
              "      <th>3</th>\n",
              "      <td>Acelga 500 g</td>\n",
              "      <td>0.4829</td>\n",
              "      <td>0</td>\n",
              "      <td>frutas-y-verduras</td>\n",
              "    </tr>\n",
              "    <tr>\n",
              "      <th>4</th>\n",
              "      <td>Abastero Cat. V</td>\n",
              "      <td>2.1890</td>\n",
              "      <td>0</td>\n",
              "      <td>carniceria</td>\n",
              "    </tr>\n",
              "    <tr>\n",
              "      <th>5</th>\n",
              "      <td>Aceite Vegetal 1 L</td>\n",
              "      <td>0.1529</td>\n",
              "      <td>0</td>\n",
              "      <td>despensa</td>\n",
              "    </tr>\n",
              "  </tbody>\n",
              "</table>\n",
              "</div>\n",
              "    <div class=\"colab-df-buttons\">\n",
              "\n",
              "  <div class=\"colab-df-container\">\n",
              "    <button class=\"colab-df-convert\" onclick=\"convertToInteractive('df-b189b9ba-3880-4eac-a4c5-0db6c7bf8fd1')\"\n",
              "            title=\"Convert this dataframe to an interactive table.\"\n",
              "            style=\"display:none;\">\n",
              "\n",
              "  <svg xmlns=\"http://www.w3.org/2000/svg\" height=\"24px\" viewBox=\"0 -960 960 960\">\n",
              "    <path d=\"M120-120v-720h720v720H120Zm60-500h600v-160H180v160Zm220 220h160v-160H400v160Zm0 220h160v-160H400v160ZM180-400h160v-160H180v160Zm440 0h160v-160H620v160ZM180-180h160v-160H180v160Zm440 0h160v-160H620v160Z\"/>\n",
              "  </svg>\n",
              "    </button>\n",
              "\n",
              "  <style>\n",
              "    .colab-df-container {\n",
              "      display:flex;\n",
              "      gap: 12px;\n",
              "    }\n",
              "\n",
              "    .colab-df-convert {\n",
              "      background-color: #E8F0FE;\n",
              "      border: none;\n",
              "      border-radius: 50%;\n",
              "      cursor: pointer;\n",
              "      display: none;\n",
              "      fill: #1967D2;\n",
              "      height: 32px;\n",
              "      padding: 0 0 0 0;\n",
              "      width: 32px;\n",
              "    }\n",
              "\n",
              "    .colab-df-convert:hover {\n",
              "      background-color: #E2EBFA;\n",
              "      box-shadow: 0px 1px 2px rgba(60, 64, 67, 0.3), 0px 1px 3px 1px rgba(60, 64, 67, 0.15);\n",
              "      fill: #174EA6;\n",
              "    }\n",
              "\n",
              "    .colab-df-buttons div {\n",
              "      margin-bottom: 4px;\n",
              "    }\n",
              "\n",
              "    [theme=dark] .colab-df-convert {\n",
              "      background-color: #3B4455;\n",
              "      fill: #D2E3FC;\n",
              "    }\n",
              "\n",
              "    [theme=dark] .colab-df-convert:hover {\n",
              "      background-color: #434B5C;\n",
              "      box-shadow: 0px 1px 3px 1px rgba(0, 0, 0, 0.15);\n",
              "      filter: drop-shadow(0px 1px 2px rgba(0, 0, 0, 0.3));\n",
              "      fill: #FFFFFF;\n",
              "    }\n",
              "  </style>\n",
              "\n",
              "    <script>\n",
              "      const buttonEl =\n",
              "        document.querySelector('#df-b189b9ba-3880-4eac-a4c5-0db6c7bf8fd1 button.colab-df-convert');\n",
              "      buttonEl.style.display =\n",
              "        google.colab.kernel.accessAllowed ? 'block' : 'none';\n",
              "\n",
              "      async function convertToInteractive(key) {\n",
              "        const element = document.querySelector('#df-b189b9ba-3880-4eac-a4c5-0db6c7bf8fd1');\n",
              "        const dataTable =\n",
              "          await google.colab.kernel.invokeFunction('convertToInteractive',\n",
              "                                                    [key], {});\n",
              "        if (!dataTable) return;\n",
              "\n",
              "        const docLinkHtml = 'Like what you see? Visit the ' +\n",
              "          '<a target=\"_blank\" href=https://colab.research.google.com/notebooks/data_table.ipynb>data table notebook</a>'\n",
              "          + ' to learn more about interactive tables.';\n",
              "        element.innerHTML = '';\n",
              "        dataTable['output_type'] = 'display_data';\n",
              "        await google.colab.output.renderOutput(dataTable, element);\n",
              "        const docLink = document.createElement('div');\n",
              "        docLink.innerHTML = docLinkHtml;\n",
              "        element.appendChild(docLink);\n",
              "      }\n",
              "    </script>\n",
              "  </div>\n",
              "\n",
              "\n",
              "<div id=\"df-78c20709-206a-4eea-8f3d-139163bb71f6\">\n",
              "  <button class=\"colab-df-quickchart\" onclick=\"quickchart('df-78c20709-206a-4eea-8f3d-139163bb71f6')\"\n",
              "            title=\"Suggest charts\"\n",
              "            style=\"display:none;\">\n",
              "\n",
              "<svg xmlns=\"http://www.w3.org/2000/svg\" height=\"24px\"viewBox=\"0 0 24 24\"\n",
              "     width=\"24px\">\n",
              "    <g>\n",
              "        <path d=\"M19 3H5c-1.1 0-2 .9-2 2v14c0 1.1.9 2 2 2h14c1.1 0 2-.9 2-2V5c0-1.1-.9-2-2-2zM9 17H7v-7h2v7zm4 0h-2V7h2v10zm4 0h-2v-4h2v4z\"/>\n",
              "    </g>\n",
              "</svg>\n",
              "  </button>\n",
              "\n",
              "<style>\n",
              "  .colab-df-quickchart {\n",
              "      --bg-color: #E8F0FE;\n",
              "      --fill-color: #1967D2;\n",
              "      --hover-bg-color: #E2EBFA;\n",
              "      --hover-fill-color: #174EA6;\n",
              "      --disabled-fill-color: #AAA;\n",
              "      --disabled-bg-color: #DDD;\n",
              "  }\n",
              "\n",
              "  [theme=dark] .colab-df-quickchart {\n",
              "      --bg-color: #3B4455;\n",
              "      --fill-color: #D2E3FC;\n",
              "      --hover-bg-color: #434B5C;\n",
              "      --hover-fill-color: #FFFFFF;\n",
              "      --disabled-bg-color: #3B4455;\n",
              "      --disabled-fill-color: #666;\n",
              "  }\n",
              "\n",
              "  .colab-df-quickchart {\n",
              "    background-color: var(--bg-color);\n",
              "    border: none;\n",
              "    border-radius: 50%;\n",
              "    cursor: pointer;\n",
              "    display: none;\n",
              "    fill: var(--fill-color);\n",
              "    height: 32px;\n",
              "    padding: 0;\n",
              "    width: 32px;\n",
              "  }\n",
              "\n",
              "  .colab-df-quickchart:hover {\n",
              "    background-color: var(--hover-bg-color);\n",
              "    box-shadow: 0 1px 2px rgba(60, 64, 67, 0.3), 0 1px 3px 1px rgba(60, 64, 67, 0.15);\n",
              "    fill: var(--button-hover-fill-color);\n",
              "  }\n",
              "\n",
              "  .colab-df-quickchart-complete:disabled,\n",
              "  .colab-df-quickchart-complete:disabled:hover {\n",
              "    background-color: var(--disabled-bg-color);\n",
              "    fill: var(--disabled-fill-color);\n",
              "    box-shadow: none;\n",
              "  }\n",
              "\n",
              "  .colab-df-spinner {\n",
              "    border: 2px solid var(--fill-color);\n",
              "    border-color: transparent;\n",
              "    border-bottom-color: var(--fill-color);\n",
              "    animation:\n",
              "      spin 1s steps(1) infinite;\n",
              "  }\n",
              "\n",
              "  @keyframes spin {\n",
              "    0% {\n",
              "      border-color: transparent;\n",
              "      border-bottom-color: var(--fill-color);\n",
              "      border-left-color: var(--fill-color);\n",
              "    }\n",
              "    20% {\n",
              "      border-color: transparent;\n",
              "      border-left-color: var(--fill-color);\n",
              "      border-top-color: var(--fill-color);\n",
              "    }\n",
              "    30% {\n",
              "      border-color: transparent;\n",
              "      border-left-color: var(--fill-color);\n",
              "      border-top-color: var(--fill-color);\n",
              "      border-right-color: var(--fill-color);\n",
              "    }\n",
              "    40% {\n",
              "      border-color: transparent;\n",
              "      border-right-color: var(--fill-color);\n",
              "      border-top-color: var(--fill-color);\n",
              "    }\n",
              "    60% {\n",
              "      border-color: transparent;\n",
              "      border-right-color: var(--fill-color);\n",
              "    }\n",
              "    80% {\n",
              "      border-color: transparent;\n",
              "      border-right-color: var(--fill-color);\n",
              "      border-bottom-color: var(--fill-color);\n",
              "    }\n",
              "    90% {\n",
              "      border-color: transparent;\n",
              "      border-bottom-color: var(--fill-color);\n",
              "    }\n",
              "  }\n",
              "</style>\n",
              "\n",
              "  <script>\n",
              "    async function quickchart(key) {\n",
              "      const quickchartButtonEl =\n",
              "        document.querySelector('#' + key + ' button');\n",
              "      quickchartButtonEl.disabled = true;  // To prevent multiple clicks.\n",
              "      quickchartButtonEl.classList.add('colab-df-spinner');\n",
              "      try {\n",
              "        const charts = await google.colab.kernel.invokeFunction(\n",
              "            'suggestCharts', [key], {});\n",
              "      } catch (error) {\n",
              "        console.error('Error during call to suggestCharts:', error);\n",
              "      }\n",
              "      quickchartButtonEl.classList.remove('colab-df-spinner');\n",
              "      quickchartButtonEl.classList.add('colab-df-quickchart-complete');\n",
              "    }\n",
              "    (() => {\n",
              "      let quickchartButtonEl =\n",
              "        document.querySelector('#df-78c20709-206a-4eea-8f3d-139163bb71f6 button');\n",
              "      quickchartButtonEl.style.display =\n",
              "        google.colab.kernel.accessAllowed ? 'block' : 'none';\n",
              "    })();\n",
              "  </script>\n",
              "</div>\n",
              "    </div>\n",
              "  </div>\n"
            ]
          },
          "metadata": {},
          "execution_count": 24
        }
      ]
    },
    {
      "cell_type": "code",
      "source": [
        "cross_table_precio_min_ZS=df.groupby('ZONA_SUPERMERCADO')[['NOMBRE_PRODUCTO', 'PRECIO_SIN_OFERTA', 'CANTIDAD_STOCK','ZONA_SUPERMERCADO']].min().round(2).sort_values(by='PRECIO_SIN_OFERTA')\n",
        "\n",
        "colores = ['lightblue',\"#FFD700\"]\n",
        "cross_table_precio_min_ZS=cross_table_precio_min_ZS.plot(kind='bar',color=colores,title='Productos mas baratos por pasillo',legend=False)\n",
        "cross_table_precio_min_ZS.legend(bbox_to_anchor=(1.05, 1), loc='upper left', borderaxespad=0., ncol=1)\n",
        "cross_table_precio_min_ZS.set_xlabel(None)\n",
        "for p in cross_table_precio_min_ZS.patches:\n",
        "    cross_table_precio_min_ZS.annotate(str(p.get_height()), (p.get_x() + p.get_width() / 2., p.get_height()), ha='center', va='center', xytext=(0, 10), textcoords='offset points')\n",
        "\n",
        "plt.show()"
      ],
      "metadata": {
        "id": "Uo7fjqcXyhbY",
        "outputId": "5c478748-943a-4256-ec6f-3b6ed372edce",
        "colab": {
          "base_uri": "https://localhost:8080/",
          "height": 557
        }
      },
      "id": "Uo7fjqcXyhbY",
      "execution_count": 27,
      "outputs": [
        {
          "output_type": "display_data",
          "data": {
            "text/plain": [
              "<Figure size 640x480 with 1 Axes>"
            ],
            "image/png": "[encoded data removed]"
          },
          "metadata": {}
        }
      ]
    },
    {
      "cell_type": "markdown",
      "source": [
        "9.¿Cuál es el producto más caro por pasillos?"
      ],
      "metadata": {
        "id": "g6JBWUURzj57"
      },
      "id": "g6JBWUURzj57"
    },
    {
      "cell_type": "code",
      "source": [
        "df.groupby('NUM_PASILLOS')[['NOMBRE_PRODUCTO','PRECIO_SIN_OFERTA','CANTIDAD_STOCK','ZONA_SUPERMERCADO']].max().sort_values(by='NUM_PASILLOS')"
      ],
      "metadata": {
        "id": "3DPBqzbczjzJ",
        "outputId": "076a3fd0-db71-485c-ff6b-fc617a5d1c83",
        "colab": {
          "base_uri": "https://localhost:8080/",
          "height": 238
        }
      },
      "id": "3DPBqzbczjzJ",
      "execution_count": null,
      "outputs": [
        {
          "output_type": "execute_result",
          "data": {
            "text/plain": [
              "                                NOMBRE_PRODUCTO  PRECIO_SIN_OFERTA  \\\n",
              "NUM_PASILLOS                                                         \n",
              "1                          Ñoquis de papa 500 g            35.7390   \n",
              "2             Yogurt sin lactosa frutilla 900 g            21.7668   \n",
              "3                          Zapallo italiano un.            12.0890   \n",
              "4                               Trutro largo kg            38.6958   \n",
              "5                 Vinagre de vino rosado 500 ml            48.4308   \n",
              "\n",
              "              CANTIDAD_STOCK  ZONA_SUPERMERCADO  \n",
              "NUM_PASILLOS                                     \n",
              "1                         50      supermercados  \n",
              "2                         50            lacteos  \n",
              "3                         50  frutas-y-verduras  \n",
              "4                         49         carniceria  \n",
              "5                         50           despensa  "
            ],
            "text/html": [
              "\n",
              "  <div id=\"df-2d2a145a-4f57-4d5d-aa31-7df573f55645\" class=\"colab-df-container\">\n",
              "    <div>\n",
              "<style scoped>\n",
              "    .dataframe tbody tr th:only-of-type {\n",
              "        vertical-align: middle;\n",
              "    }\n",
              "\n",
              "    .dataframe tbody tr th {\n",
              "        vertical-align: top;\n",
              "    }\n",
              "\n",
              "    .dataframe thead th {\n",
              "        text-align: right;\n",
              "    }\n",
              "</style>\n",
              "<table border=\"1\" class=\"dataframe\">\n",
              "  <thead>\n",
              "    <tr style=\"text-align: right;\">\n",
              "      <th></th>\n",
              "      <th>NOMBRE_PRODUCTO</th>\n",
              "      <th>PRECIO_SIN_OFERTA</th>\n",
              "      <th>CANTIDAD_STOCK</th>\n",
              "      <th>ZONA_SUPERMERCADO</th>\n",
              "    </tr>\n",
              "    <tr>\n",
              "      <th>NUM_PASILLOS</th>\n",
              "      <th></th>\n",
              "      <th></th>\n",
              "      <th></th>\n",
              "      <th></th>\n",
              "    </tr>\n",
              "  </thead>\n",
              "  <tbody>\n",
              "    <tr>\n",
              "      <th>1</th>\n",
              "      <td>Ñoquis de papa 500 g</td>\n",
              "      <td>35.7390</td>\n",
              "      <td>50</td>\n",
              "      <td>supermercados</td>\n",
              "    </tr>\n",
              "    <tr>\n",
              "      <th>2</th>\n",
              "      <td>Yogurt sin lactosa frutilla 900 g</td>\n",
              "      <td>21.7668</td>\n",
              "      <td>50</td>\n",
              "      <td>lacteos</td>\n",
              "    </tr>\n",
              "    <tr>\n",
              "      <th>3</th>\n",
              "      <td>Zapallo italiano un.</td>\n",
              "      <td>12.0890</td>\n",
              "      <td>50</td>\n",
              "      <td>frutas-y-verduras</td>\n",
              "    </tr>\n",
              "    <tr>\n",
              "      <th>4</th>\n",
              "      <td>Trutro largo kg</td>\n",
              "      <td>38.6958</td>\n",
              "      <td>49</td>\n",
              "      <td>carniceria</td>\n",
              "    </tr>\n",
              "    <tr>\n",
              "      <th>5</th>\n",
              "      <td>Vinagre de vino rosado 500 ml</td>\n",
              "      <td>48.4308</td>\n",
              "      <td>50</td>\n",
              "      <td>despensa</td>\n",
              "    </tr>\n",
              "  </tbody>\n",
              "</table>\n",
              "</div>\n",
              "    <div class=\"colab-df-buttons\">\n",
              "\n",
              "  <div class=\"colab-df-container\">\n",
              "    <button class=\"colab-df-convert\" onclick=\"convertToInteractive('df-2d2a145a-4f57-4d5d-aa31-7df573f55645')\"\n",
              "            title=\"Convert this dataframe to an interactive table.\"\n",
              "            style=\"display:none;\">\n",
              "\n",
              "  <svg xmlns=\"http://www.w3.org/2000/svg\" height=\"24px\" viewBox=\"0 -960 960 960\">\n",
              "    <path d=\"M120-120v-720h720v720H120Zm60-500h600v-160H180v160Zm220 220h160v-160H400v160Zm0 220h160v-160H400v160ZM180-400h160v-160H180v160Zm440 0h160v-160H620v160ZM180-180h160v-160H180v160Zm440 0h160v-160H620v160Z\"/>\n",
              "  </svg>\n",
              "    </button>\n",
              "\n",
              "  <style>\n",
              "    .colab-df-container {\n",
              "      display:flex;\n",
              "      gap: 12px;\n",
              "    }\n",
              "\n",
              "    .colab-df-convert {\n",
              "      background-color: #E8F0FE;\n",
              "      border: none;\n",
              "      border-radius: 50%;\n",
              "      cursor: pointer;\n",
              "      display: none;\n",
              "      fill: #1967D2;\n",
              "      height: 32px;\n",
              "      padding: 0 0 0 0;\n",
              "      width: 32px;\n",
              "    }\n",
              "\n",
              "    .colab-df-convert:hover {\n",
              "      background-color: #E2EBFA;\n",
              "      box-shadow: 0px 1px 2px rgba(60, 64, 67, 0.3), 0px 1px 3px 1px rgba(60, 64, 67, 0.15);\n",
              "      fill: #174EA6;\n",
              "    }\n",
              "\n",
              "    .colab-df-buttons div {\n",
              "      margin-bottom: 4px;\n",
              "    }\n",
              "\n",
              "    [theme=dark] .colab-df-convert {\n",
              "      background-color: #3B4455;\n",
              "      fill: #D2E3FC;\n",
              "    }\n",
              "\n",
              "    [theme=dark] .colab-df-convert:hover {\n",
              "      background-color: #434B5C;\n",
              "      box-shadow: 0px 1px 3px 1px rgba(0, 0, 0, 0.15);\n",
              "      filter: drop-shadow(0px 1px 2px rgba(0, 0, 0, 0.3));\n",
              "      fill: #FFFFFF;\n",
              "    }\n",
              "  </style>\n",
              "\n",
              "    <script>\n",
              "      const buttonEl =\n",
              "        document.querySelector('#df-2d2a145a-4f57-4d5d-aa31-7df573f55645 button.colab-df-convert');\n",
              "      buttonEl.style.display =\n",
              "        google.colab.kernel.accessAllowed ? 'block' : 'none';\n",
              "\n",
              "      async function convertToInteractive(key) {\n",
              "        const element = document.querySelector('#df-2d2a145a-4f57-4d5d-aa31-7df573f55645');\n",
              "        const dataTable =\n",
              "          await google.colab.kernel.invokeFunction('convertToInteractive',\n",
              "                                                    [key], {});\n",
              "        if (!dataTable) return;\n",
              "\n",
              "        const docLinkHtml = 'Like what you see? Visit the ' +\n",
              "          '<a target=\"_blank\" href=https://colab.research.google.com/notebooks/data_table.ipynb>data table notebook</a>'\n",
              "          + ' to learn more about interactive tables.';\n",
              "        element.innerHTML = '';\n",
              "        dataTable['output_type'] = 'display_data';\n",
              "        await google.colab.output.renderOutput(dataTable, element);\n",
              "        const docLink = document.createElement('div');\n",
              "        docLink.innerHTML = docLinkHtml;\n",
              "        element.appendChild(docLink);\n",
              "      }\n",
              "    </script>\n",
              "  </div>\n",
              "\n",
              "\n",
              "<div id=\"df-1ab1f5ba-f4d2-4946-9b41-a914fb595eae\">\n",
              "  <button class=\"colab-df-quickchart\" onclick=\"quickchart('df-1ab1f5ba-f4d2-4946-9b41-a914fb595eae')\"\n",
              "            title=\"Suggest charts\"\n",
              "            style=\"display:none;\">\n",
              "\n",
              "<svg xmlns=\"http://www.w3.org/2000/svg\" height=\"24px\"viewBox=\"0 0 24 24\"\n",
              "     width=\"24px\">\n",
              "    <g>\n",
              "        <path d=\"M19 3H5c-1.1 0-2 .9-2 2v14c0 1.1.9 2 2 2h14c1.1 0 2-.9 2-2V5c0-1.1-.9-2-2-2zM9 17H7v-7h2v7zm4 0h-2V7h2v10zm4 0h-2v-4h2v4z\"/>\n",
              "    </g>\n",
              "</svg>\n",
              "  </button>\n",
              "\n",
              "<style>\n",
              "  .colab-df-quickchart {\n",
              "      --bg-color: #E8F0FE;\n",
              "      --fill-color: #1967D2;\n",
              "      --hover-bg-color: #E2EBFA;\n",
              "      --hover-fill-color: #174EA6;\n",
              "      --disabled-fill-color: #AAA;\n",
              "      --disabled-bg-color: #DDD;\n",
              "  }\n",
              "\n",
              "  [theme=dark] .colab-df-quickchart {\n",
              "      --bg-color: #3B4455;\n",
              "      --fill-color: #D2E3FC;\n",
              "      --hover-bg-color: #434B5C;\n",
              "      --hover-fill-color: #FFFFFF;\n",
              "      --disabled-bg-color: #3B4455;\n",
              "      --disabled-fill-color: #666;\n",
              "  }\n",
              "\n",
              "  .colab-df-quickchart {\n",
              "    background-color: var(--bg-color);\n",
              "    border: none;\n",
              "    border-radius: 50%;\n",
              "    cursor: pointer;\n",
              "    display: none;\n",
              "    fill: var(--fill-color);\n",
              "    height: 32px;\n",
              "    padding: 0;\n",
              "    width: 32px;\n",
              "  }\n",
              "\n",
              "  .colab-df-quickchart:hover {\n",
              "    background-color: var(--hover-bg-color);\n",
              "    box-shadow: 0 1px 2px rgba(60, 64, 67, 0.3), 0 1px 3px 1px rgba(60, 64, 67, 0.15);\n",
              "    fill: var(--button-hover-fill-color);\n",
              "  }\n",
              "\n",
              "  .colab-df-quickchart-complete:disabled,\n",
              "  .colab-df-quickchart-complete:disabled:hover {\n",
              "    background-color: var(--disabled-bg-color);\n",
              "    fill: var(--disabled-fill-color);\n",
              "    box-shadow: none;\n",
              "  }\n",
              "\n",
              "  .colab-df-spinner {\n",
              "    border: 2px solid var(--fill-color);\n",
              "    border-color: transparent;\n",
              "    border-bottom-color: var(--fill-color);\n",
              "    animation:\n",
              "      spin 1s steps(1) infinite;\n",
              "  }\n",
              "\n",
              "  @keyframes spin {\n",
              "    0% {\n",
              "      border-color: transparent;\n",
              "      border-bottom-color: var(--fill-color);\n",
              "      border-left-color: var(--fill-color);\n",
              "    }\n",
              "    20% {\n",
              "      border-color: transparent;\n",
              "      border-left-color: var(--fill-color);\n",
              "      border-top-color: var(--fill-color);\n",
              "    }\n",
              "    30% {\n",
              "      border-color: transparent;\n",
              "      border-left-color: var(--fill-color);\n",
              "      border-top-color: var(--fill-color);\n",
              "      border-right-color: var(--fill-color);\n",
              "    }\n",
              "    40% {\n",
              "      border-color: transparent;\n",
              "      border-right-color: var(--fill-color);\n",
              "      border-top-color: var(--fill-color);\n",
              "    }\n",
              "    60% {\n",
              "      border-color: transparent;\n",
              "      border-right-color: var(--fill-color);\n",
              "    }\n",
              "    80% {\n",
              "      border-color: transparent;\n",
              "      border-right-color: var(--fill-color);\n",
              "      border-bottom-color: var(--fill-color);\n",
              "    }\n",
              "    90% {\n",
              "      border-color: transparent;\n",
              "      border-bottom-color: var(--fill-color);\n",
              "    }\n",
              "  }\n",
              "</style>\n",
              "\n",
              "  <script>\n",
              "    async function quickchart(key) {\n",
              "      const quickchartButtonEl =\n",
              "        document.querySelector('#' + key + ' button');\n",
              "      quickchartButtonEl.disabled = true;  // To prevent multiple clicks.\n",
              "      quickchartButtonEl.classList.add('colab-df-spinner');\n",
              "      try {\n",
              "        const charts = await google.colab.kernel.invokeFunction(\n",
              "            'suggestCharts', [key], {});\n",
              "      } catch (error) {\n",
              "        console.error('Error during call to suggestCharts:', error);\n",
              "      }\n",
              "      quickchartButtonEl.classList.remove('colab-df-spinner');\n",
              "      quickchartButtonEl.classList.add('colab-df-quickchart-complete');\n",
              "    }\n",
              "    (() => {\n",
              "      let quickchartButtonEl =\n",
              "        document.querySelector('#df-1ab1f5ba-f4d2-4946-9b41-a914fb595eae button');\n",
              "      quickchartButtonEl.style.display =\n",
              "        google.colab.kernel.accessAllowed ? 'block' : 'none';\n",
              "    })();\n",
              "  </script>\n",
              "</div>\n",
              "    </div>\n",
              "  </div>\n"
            ]
          },
          "metadata": {},
          "execution_count": 67
        }
      ]
    },
    {
      "cell_type": "code",
      "source": [
        "cross_table_precio_max_ZS=df.groupby('ZONA_SUPERMERCADO')[['NOMBRE_PRODUCTO', 'PRECIO_SIN_OFERTA', 'CANTIDAD_STOCK','ZONA_SUPERMERCADO']].max().round(2).sort_values(by='PRECIO_SIN_OFERTA')\n",
        "\n",
        "colores = ['lightblue','#FFD700']\n",
        "cross_table_precio_max_ZS=cross_table_precio_max_ZS.plot(kind='bar',color=colores,title='Productos mas caro por pasillo',legend=False)\n",
        "cross_table_precio_max_ZS.legend(bbox_to_anchor=(1.05, 1), loc='upper left', borderaxespad=0., ncol=1)\n",
        "cross_table_precio_max_ZS.set_xlabel(None)\n",
        "for p in cross_table_precio_max_ZS.patches:\n",
        "    cross_table_precio_max_ZS.annotate(str(p.get_height()), (p.get_x() + p.get_width() / 2., p.get_height()), ha='center', va='center', xytext=(0, 10), textcoords='offset points')\n",
        "\n",
        "plt.show()"
      ],
      "metadata": {
        "id": "69JKznl87Q4f",
        "outputId": "b6d846cf-55da-4db6-d68c-217935fb9f74",
        "colab": {
          "base_uri": "https://localhost:8080/",
          "height": 557
        }
      },
      "id": "69JKznl87Q4f",
      "execution_count": 28,
      "outputs": [
        {
          "output_type": "display_data",
          "data": {
            "text/plain": [
              "<Figure size 640x480 with 1 Axes>"
            ],
            "image/png": "[encoded data removed]"
          },
          "metadata": {}
        }
      ]
    },
    {
      "cell_type": "markdown",
      "source": [
        "10.¿Cuál es el producto con más Stock por pasillos?"
      ],
      "metadata": {
        "id": "eKdH-nWjzjtK"
      },
      "id": "eKdH-nWjzjtK"
    },
    {
      "cell_type": "code",
      "source": [
        "pd.crosstab(df['NOMBRE_PRODUCTO'].value_counts().sum(),df['ZONA_SUPERMERCADO'])"
      ],
      "metadata": {
        "id": "55FelRMxClnI",
        "outputId": "1acd6178-3818-427a-a5d7-dfd8d8cedf44",
        "colab": {
          "base_uri": "https://localhost:8080/",
          "height": 112
        }
      },
      "id": "55FelRMxClnI",
      "execution_count": 29,
      "outputs": [
        {
          "output_type": "execute_result",
          "data": {
            "text/plain": [
              "ZONA_SUPERMERCADO  carniceria  despensa  frutas-y-verduras  lacteos  \\\n",
              "row_0                                                                 \n",
              "2830                       82      1146                106      450   \n",
              "\n",
              "ZONA_SUPERMERCADO  supermercados  \n",
              "row_0                             \n",
              "2830                        1046  "
            ],
            "text/html": [
              "\n",
              "  <div id=\"df-7ad1e31a-d370-4034-94fa-dddbf2216d90\" class=\"colab-df-container\">\n",
              "    <div>\n",
              "<style scoped>\n",
              "    .dataframe tbody tr th:only-of-type {\n",
              "        vertical-align: middle;\n",
              "    }\n",
              "\n",
              "    .dataframe tbody tr th {\n",
              "        vertical-align: top;\n",
              "    }\n",
              "\n",
              "    .dataframe thead th {\n",
              "        text-align: right;\n",
              "    }\n",
              "</style>\n",
              "<table border=\"1\" class=\"dataframe\">\n",
              "  <thead>\n",
              "    <tr style=\"text-align: right;\">\n",
              "      <th>ZONA_SUPERMERCADO</th>\n",
              "      <th>carniceria</th>\n",
              "      <th>despensa</th>\n",
              "      <th>frutas-y-verduras</th>\n",
              "      <th>lacteos</th>\n",
              "      <th>supermercados</th>\n",
              "    </tr>\n",
              "    <tr>\n",
              "      <th>row_0</th>\n",
              "      <th></th>\n",
              "      <th></th>\n",
              "      <th></th>\n",
              "      <th></th>\n",
              "      <th></th>\n",
              "    </tr>\n",
              "  </thead>\n",
              "  <tbody>\n",
              "    <tr>\n",
              "      <th>2830</th>\n",
              "      <td>82</td>\n",
              "      <td>1146</td>\n",
              "      <td>106</td>\n",
              "      <td>450</td>\n",
              "      <td>1046</td>\n",
              "    </tr>\n",
              "  </tbody>\n",
              "</table>\n",
              "</div>\n",
              "    <div class=\"colab-df-buttons\">\n",
              "\n",
              "  <div class=\"colab-df-container\">\n",
              "    <button class=\"colab-df-convert\" onclick=\"convertToInteractive('df-7ad1e31a-d370-4034-94fa-dddbf2216d90')\"\n",
              "            title=\"Convert this dataframe to an interactive table.\"\n",
              "            style=\"display:none;\">\n",
              "\n",
              "  <svg xmlns=\"http://www.w3.org/2000/svg\" height=\"24px\" viewBox=\"0 -960 960 960\">\n",
              "    <path d=\"M120-120v-720h720v720H120Zm60-500h600v-160H180v160Zm220 220h160v-160H400v160Zm0 220h160v-160H400v160ZM180-400h160v-160H180v160Zm440 0h160v-160H620v160ZM180-180h160v-160H180v160Zm440 0h160v-160H620v160Z\"/>\n",
              "  </svg>\n",
              "    </button>\n",
              "\n",
              "  <style>\n",
              "    .colab-df-container {\n",
              "      display:flex;\n",
              "      gap: 12px;\n",
              "    }\n",
              "\n",
              "    .colab-df-convert {\n",
              "      background-color: #E8F0FE;\n",
              "      border: none;\n",
              "      border-radius: 50%;\n",
              "      cursor: pointer;\n",
              "      display: none;\n",
              "      fill: #1967D2;\n",
              "      height: 32px;\n",
              "      padding: 0 0 0 0;\n",
              "      width: 32px;\n",
              "    }\n",
              "\n",
              "    .colab-df-convert:hover {\n",
              "      background-color: #E2EBFA;\n",
              "      box-shadow: 0px 1px 2px rgba(60, 64, 67, 0.3), 0px 1px 3px 1px rgba(60, 64, 67, 0.15);\n",
              "      fill: #174EA6;\n",
              "    }\n",
              "\n",
              "    .colab-df-buttons div {\n",
              "      margin-bottom: 4px;\n",
              "    }\n",
              "\n",
              "    [theme=dark] .colab-df-convert {\n",
              "      background-color: #3B4455;\n",
              "      fill: #D2E3FC;\n",
              "    }\n",
              "\n",
              "    [theme=dark] .colab-df-convert:hover {\n",
              "      background-color: #434B5C;\n",
              "      box-shadow: 0px 1px 3px 1px rgba(0, 0, 0, 0.15);\n",
              "      filter: drop-shadow(0px 1px 2px rgba(0, 0, 0, 0.3));\n",
              "      fill: #FFFFFF;\n",
              "    }\n",
              "  </style>\n",
              "\n",
              "    <script>\n",
              "      const buttonEl =\n",
              "        document.querySelector('#df-7ad1e31a-d370-4034-94fa-dddbf2216d90 button.colab-df-convert');\n",
              "      buttonEl.style.display =\n",
              "        google.colab.kernel.accessAllowed ? 'block' : 'none';\n",
              "\n",
              "      async function convertToInteractive(key) {\n",
              "        const element = document.querySelector('#df-7ad1e31a-d370-4034-94fa-dddbf2216d90');\n",
              "        const dataTable =\n",
              "          await google.colab.kernel.invokeFunction('convertToInteractive',\n",
              "                                                    [key], {});\n",
              "        if (!dataTable) return;\n",
              "\n",
              "        const docLinkHtml = 'Like what you see? Visit the ' +\n",
              "          '<a target=\"_blank\" href=https://colab.research.google.com/notebooks/data_table.ipynb>data table notebook</a>'\n",
              "          + ' to learn more about interactive tables.';\n",
              "        element.innerHTML = '';\n",
              "        dataTable['output_type'] = 'display_data';\n",
              "        await google.colab.output.renderOutput(dataTable, element);\n",
              "        const docLink = document.createElement('div');\n",
              "        docLink.innerHTML = docLinkHtml;\n",
              "        element.appendChild(docLink);\n",
              "      }\n",
              "    </script>\n",
              "  </div>\n",
              "\n",
              "    </div>\n",
              "  </div>\n"
            ]
          },
          "metadata": {},
          "execution_count": 29
        }
      ]
    },
    {
      "cell_type": "code",
      "source": [
        "prd_con_stock=df[df['STOCK']==1]\n",
        "prductos_con_stock= prd_con_stock.value_counts().sum()\n",
        "prc_con_stock = (prductos_con_stock*100)/ act\n",
        "print(f'Hay un total de {prductos_con_stock} productos con Stock. Este valor representa un {prc_con_stock.round(2)}% del total')"
      ],
      "metadata": {
        "id": "FDfy9HXLD_l6",
        "outputId": "ab098a90-8a8b-4386-914c-42d097164322",
        "colab": {
          "base_uri": "https://localhost:8080/"
        }
      },
      "id": "FDfy9HXLD_l6",
      "execution_count": 30,
      "outputs": [
        {
          "output_type": "stream",
          "name": "stdout",
          "text": [
            "Hay un total de 2693 productos con Stock. Este valor representa un 95.16% del total\n"
          ]
        }
      ]
    },
    {
      "cell_type": "code",
      "source": [
        "cross_table_grf_prdctos_con_mas_stock_ZS = pd.crosstab(prd_con_stock['NOMBRE_PRODUCTO'].value_counts().sum(),prd_con_stock['ZONA_SUPERMERCADO'])\n",
        "colores = ['blue', 'orange','green', 'red', 'purple']\n",
        "cross_table_grf_prdctos_con_mas_stock_ZS=cross_table_grf_prdctos_con_mas_stock_ZS.plot(kind='bar',color=colores,title='Productos con mas stock por Zona del Supermercado',legend=True)\n",
        "cross_table_grf_prdctos_con_mas_stock_ZS.legend(bbox_to_anchor=(1.05, 1), loc='upper left', borderaxespad=0., ncol=1)\n",
        "cross_table_grf_prdctos_con_mas_stock_ZS.set_xlabel(None)\n",
        "for p in cross_table_grf_prdctos_con_mas_stock_ZS.patches:\n",
        "    cross_table_grf_prdctos_con_mas_stock_ZS.annotate(str(p.get_height()), (p.get_x() + p.get_width() / 2., p.get_height()), ha='center', va='center', xytext=(0, 10), textcoords='offset points')\n",
        "\n",
        "plt.show()"
      ],
      "metadata": {
        "id": "7HeQYZj_GvA7",
        "outputId": "8db3ecdc-ed37-48d0-914b-4f9b0191b74a",
        "colab": {
          "base_uri": "https://localhost:8080/",
          "height": 473
        }
      },
      "id": "7HeQYZj_GvA7",
      "execution_count": 48,
      "outputs": [
        {
          "output_type": "display_data",
          "data": {
            "text/plain": [
              "<Figure size 640x480 with 1 Axes>"
            ],
            "image/png": "[encoded data removed]"
          },
          "metadata": {}
        }
      ]
    },
    {
      "cell_type": "code",
      "source": [
        "df.groupby('NUM_PASILLOS')[['NOMBRE_PRODUCTO','CANTIDAD_STOCK','PRECIO_SIN_OFERTA']].max()"
      ],
      "metadata": {
        "id": "PaymC_bpzjk9",
        "outputId": "45e3c95d-b69a-419a-f443-2baf48b7670d",
        "colab": {
          "base_uri": "https://localhost:8080/",
          "height": 237
        }
      },
      "id": "PaymC_bpzjk9",
      "execution_count": 32,
      "outputs": [
        {
          "output_type": "execute_result",
          "data": {
            "text/plain": [
              "                                NOMBRE_PRODUCTO  CANTIDAD_STOCK  \\\n",
              "NUM_PASILLOS                                                      \n",
              "1                          Ñoquis de papa 500 g              50   \n",
              "2             Yogurt sin lactosa frutilla 900 g              50   \n",
              "3                          Zapallo italiano un.              50   \n",
              "4                               Trutro largo kg              49   \n",
              "5                 Vinagre de vino rosado 500 ml              50   \n",
              "\n",
              "              PRECIO_SIN_OFERTA  \n",
              "NUM_PASILLOS                     \n",
              "1                       35.7390  \n",
              "2                       21.7668  \n",
              "3                       12.0890  \n",
              "4                       38.6958  \n",
              "5                       48.4308  "
            ],
            "text/html": [
              "\n",
              "  <div id=\"df-419d492b-9cc3-4cee-b1e5-d4999d1dba4d\" class=\"colab-df-container\">\n",
              "    <div>\n",
              "<style scoped>\n",
              "    .dataframe tbody tr th:only-of-type {\n",
              "        vertical-align: middle;\n",
              "    }\n",
              "\n",
              "    .dataframe tbody tr th {\n",
              "        vertical-align: top;\n",
              "    }\n",
              "\n",
              "    .dataframe thead th {\n",
              "        text-align: right;\n",
              "    }\n",
              "</style>\n",
              "<table border=\"1\" class=\"dataframe\">\n",
              "  <thead>\n",
              "    <tr style=\"text-align: right;\">\n",
              "      <th></th>\n",
              "      <th>NOMBRE_PRODUCTO</th>\n",
              "      <th>CANTIDAD_STOCK</th>\n",
              "      <th>PRECIO_SIN_OFERTA</th>\n",
              "    </tr>\n",
              "    <tr>\n",
              "      <th>NUM_PASILLOS</th>\n",
              "      <th></th>\n",
              "      <th></th>\n",
              "      <th></th>\n",
              "    </tr>\n",
              "  </thead>\n",
              "  <tbody>\n",
              "    <tr>\n",
              "      <th>1</th>\n",
              "      <td>Ñoquis de papa 500 g</td>\n",
              "      <td>50</td>\n",
              "      <td>35.7390</td>\n",
              "    </tr>\n",
              "    <tr>\n",
              "      <th>2</th>\n",
              "      <td>Yogurt sin lactosa frutilla 900 g</td>\n",
              "      <td>50</td>\n",
              "      <td>21.7668</td>\n",
              "    </tr>\n",
              "    <tr>\n",
              "      <th>3</th>\n",
              "      <td>Zapallo italiano un.</td>\n",
              "      <td>50</td>\n",
              "      <td>12.0890</td>\n",
              "    </tr>\n",
              "    <tr>\n",
              "      <th>4</th>\n",
              "      <td>Trutro largo kg</td>\n",
              "      <td>49</td>\n",
              "      <td>38.6958</td>\n",
              "    </tr>\n",
              "    <tr>\n",
              "      <th>5</th>\n",
              "      <td>Vinagre de vino rosado 500 ml</td>\n",
              "      <td>50</td>\n",
              "      <td>48.4308</td>\n",
              "    </tr>\n",
              "  </tbody>\n",
              "</table>\n",
              "</div>\n",
              "    <div class=\"colab-df-buttons\">\n",
              "\n",
              "  <div class=\"colab-df-container\">\n",
              "    <button class=\"colab-df-convert\" onclick=\"convertToInteractive('df-419d492b-9cc3-4cee-b1e5-d4999d1dba4d')\"\n",
              "            title=\"Convert this dataframe to an interactive table.\"\n",
              "            style=\"display:none;\">\n",
              "\n",
              "  <svg xmlns=\"http://www.w3.org/2000/svg\" height=\"24px\" viewBox=\"0 -960 960 960\">\n",
              "    <path d=\"M120-120v-720h720v720H120Zm60-500h600v-160H180v160Zm220 220h160v-160H400v160Zm0 220h160v-160H400v160ZM180-400h160v-160H180v160Zm440 0h160v-160H620v160ZM180-180h160v-160H180v160Zm440 0h160v-160H620v160Z\"/>\n",
              "  </svg>\n",
              "    </button>\n",
              "\n",
              "  <style>\n",
              "    .colab-df-container {\n",
              "      display:flex;\n",
              "      gap: 12px;\n",
              "    }\n",
              "\n",
              "    .colab-df-convert {\n",
              "      background-color: #E8F0FE;\n",
              "      border: none;\n",
              "      border-radius: 50%;\n",
              "      cursor: pointer;\n",
              "      display: none;\n",
              "      fill: #1967D2;\n",
              "      height: 32px;\n",
              "      padding: 0 0 0 0;\n",
              "      width: 32px;\n",
              "    }\n",
              "\n",
              "    .colab-df-convert:hover {\n",
              "      background-color: #E2EBFA;\n",
              "      box-shadow: 0px 1px 2px rgba(60, 64, 67, 0.3), 0px 1px 3px 1px rgba(60, 64, 67, 0.15);\n",
              "      fill: #174EA6;\n",
              "    }\n",
              "\n",
              "    .colab-df-buttons div {\n",
              "      margin-bottom: 4px;\n",
              "    }\n",
              "\n",
              "    [theme=dark] .colab-df-convert {\n",
              "      background-color: #3B4455;\n",
              "      fill: #D2E3FC;\n",
              "    }\n",
              "\n",
              "    [theme=dark] .colab-df-convert:hover {\n",
              "      background-color: #434B5C;\n",
              "      box-shadow: 0px 1px 3px 1px rgba(0, 0, 0, 0.15);\n",
              "      filter: drop-shadow(0px 1px 2px rgba(0, 0, 0, 0.3));\n",
              "      fill: #FFFFFF;\n",
              "    }\n",
              "  </style>\n",
              "\n",
              "    <script>\n",
              "      const buttonEl =\n",
              "        document.querySelector('#df-419d492b-9cc3-4cee-b1e5-d4999d1dba4d button.colab-df-convert');\n",
              "      buttonEl.style.display =\n",
              "        google.colab.kernel.accessAllowed ? 'block' : 'none';\n",
              "\n",
              "      async function convertToInteractive(key) {\n",
              "        const element = document.querySelector('#df-419d492b-9cc3-4cee-b1e5-d4999d1dba4d');\n",
              "        const dataTable =\n",
              "          await google.colab.kernel.invokeFunction('convertToInteractive',\n",
              "                                                    [key], {});\n",
              "        if (!dataTable) return;\n",
              "\n",
              "        const docLinkHtml = 'Like what you see? Visit the ' +\n",
              "          '<a target=\"_blank\" href=https://colab.research.google.com/notebooks/data_table.ipynb>data table notebook</a>'\n",
              "          + ' to learn more about interactive tables.';\n",
              "        element.innerHTML = '';\n",
              "        dataTable['output_type'] = 'display_data';\n",
              "        await google.colab.output.renderOutput(dataTable, element);\n",
              "        const docLink = document.createElement('div');\n",
              "        docLink.innerHTML = docLinkHtml;\n",
              "        element.appendChild(docLink);\n",
              "      }\n",
              "    </script>\n",
              "  </div>\n",
              "\n",
              "\n",
              "<div id=\"df-883249f0-f46a-4461-9336-1b11b45c2afb\">\n",
              "  <button class=\"colab-df-quickchart\" onclick=\"quickchart('df-883249f0-f46a-4461-9336-1b11b45c2afb')\"\n",
              "            title=\"Suggest charts\"\n",
              "            style=\"display:none;\">\n",
              "\n",
              "<svg xmlns=\"http://www.w3.org/2000/svg\" height=\"24px\"viewBox=\"0 0 24 24\"\n",
              "     width=\"24px\">\n",
              "    <g>\n",
              "        <path d=\"M19 3H5c-1.1 0-2 .9-2 2v14c0 1.1.9 2 2 2h14c1.1 0 2-.9 2-2V5c0-1.1-.9-2-2-2zM9 17H7v-7h2v7zm4 0h-2V7h2v10zm4 0h-2v-4h2v4z\"/>\n",
              "    </g>\n",
              "</svg>\n",
              "  </button>\n",
              "\n",
              "<style>\n",
              "  .colab-df-quickchart {\n",
              "      --bg-color: #E8F0FE;\n",
              "      --fill-color: #1967D2;\n",
              "      --hover-bg-color: #E2EBFA;\n",
              "      --hover-fill-color: #174EA6;\n",
              "      --disabled-fill-color: #AAA;\n",
              "      --disabled-bg-color: #DDD;\n",
              "  }\n",
              "\n",
              "  [theme=dark] .colab-df-quickchart {\n",
              "      --bg-color: #3B4455;\n",
              "      --fill-color: #D2E3FC;\n",
              "      --hover-bg-color: #434B5C;\n",
              "      --hover-fill-color: #FFFFFF;\n",
              "      --disabled-bg-color: #3B4455;\n",
              "      --disabled-fill-color: #666;\n",
              "  }\n",
              "\n",
              "  .colab-df-quickchart {\n",
              "    background-color: var(--bg-color);\n",
              "    border: none;\n",
              "    border-radius: 50%;\n",
              "    cursor: pointer;\n",
              "    display: none;\n",
              "    fill: var(--fill-color);\n",
              "    height: 32px;\n",
              "    padding: 0;\n",
              "    width: 32px;\n",
              "  }\n",
              "\n",
              "  .colab-df-quickchart:hover {\n",
              "    background-color: var(--hover-bg-color);\n",
              "    box-shadow: 0 1px 2px rgba(60, 64, 67, 0.3), 0 1px 3px 1px rgba(60, 64, 67, 0.15);\n",
              "    fill: var(--button-hover-fill-color);\n",
              "  }\n",
              "\n",
              "  .colab-df-quickchart-complete:disabled,\n",
              "  .colab-df-quickchart-complete:disabled:hover {\n",
              "    background-color: var(--disabled-bg-color);\n",
              "    fill: var(--disabled-fill-color);\n",
              "    box-shadow: none;\n",
              "  }\n",
              "\n",
              "  .colab-df-spinner {\n",
              "    border: 2px solid var(--fill-color);\n",
              "    border-color: transparent;\n",
              "    border-bottom-color: var(--fill-color);\n",
              "    animation:\n",
              "      spin 1s steps(1) infinite;\n",
              "  }\n",
              "\n",
              "  @keyframes spin {\n",
              "    0% {\n",
              "      border-color: transparent;\n",
              "      border-bottom-color: var(--fill-color);\n",
              "      border-left-color: var(--fill-color);\n",
              "    }\n",
              "    20% {\n",
              "      border-color: transparent;\n",
              "      border-left-color: var(--fill-color);\n",
              "      border-top-color: var(--fill-color);\n",
              "    }\n",
              "    30% {\n",
              "      border-color: transparent;\n",
              "      border-left-color: var(--fill-color);\n",
              "      border-top-color: var(--fill-color);\n",
              "      border-right-color: var(--fill-color);\n",
              "    }\n",
              "    40% {\n",
              "      border-color: transparent;\n",
              "      border-right-color: var(--fill-color);\n",
              "      border-top-color: var(--fill-color);\n",
              "    }\n",
              "    60% {\n",
              "      border-color: transparent;\n",
              "      border-right-color: var(--fill-color);\n",
              "    }\n",
              "    80% {\n",
              "      border-color: transparent;\n",
              "      border-right-color: var(--fill-color);\n",
              "      border-bottom-color: var(--fill-color);\n",
              "    }\n",
              "    90% {\n",
              "      border-color: transparent;\n",
              "      border-bottom-color: var(--fill-color);\n",
              "    }\n",
              "  }\n",
              "</style>\n",
              "\n",
              "  <script>\n",
              "    async function quickchart(key) {\n",
              "      const quickchartButtonEl =\n",
              "        document.querySelector('#' + key + ' button');\n",
              "      quickchartButtonEl.disabled = true;  // To prevent multiple clicks.\n",
              "      quickchartButtonEl.classList.add('colab-df-spinner');\n",
              "      try {\n",
              "        const charts = await google.colab.kernel.invokeFunction(\n",
              "            'suggestCharts', [key], {});\n",
              "      } catch (error) {\n",
              "        console.error('Error during call to suggestCharts:', error);\n",
              "      }\n",
              "      quickchartButtonEl.classList.remove('colab-df-spinner');\n",
              "      quickchartButtonEl.classList.add('colab-df-quickchart-complete');\n",
              "    }\n",
              "    (() => {\n",
              "      let quickchartButtonEl =\n",
              "        document.querySelector('#df-883249f0-f46a-4461-9336-1b11b45c2afb button');\n",
              "      quickchartButtonEl.style.display =\n",
              "        google.colab.kernel.accessAllowed ? 'block' : 'none';\n",
              "    })();\n",
              "  </script>\n",
              "</div>\n",
              "    </div>\n",
              "  </div>\n"
            ]
          },
          "metadata": {},
          "execution_count": 32
        }
      ]
    },
    {
      "cell_type": "markdown",
      "source": [
        "11.¿Qué ocurre con el producto \"Mostaza regular doypack 1000 g\"? ¿Hay algún otro producto que le ocurra lo mismo?"
      ],
      "metadata": {
        "id": "pdT7XnFNzjeT"
      },
      "id": "pdT7XnFNzjeT"
    },
    {
      "cell_type": "code",
      "source": [
        "df[df['NOMBRE_PRODUCTO']== \"Mostaza regular doypack 1000 g\"]"
      ],
      "metadata": {
        "id": "C11_PfMPzjW1",
        "outputId": "37ee8c1f-6182-4b7f-a720-8584d84e804d",
        "colab": {
          "base_uri": "https://localhost:8080/",
          "height": 118
        }
      },
      "id": "C11_PfMPzjW1",
      "execution_count": 33,
      "outputs": [
        {
          "output_type": "execute_result",
          "data": {
            "text/plain": [
              "                     NOMBRE_PRODUCTO MARCA  PRECIO_SIN_OFERTA  \\\n",
              "3505  Mostaza regular doypack 1000 g    JB           2.194894   \n",
              "\n",
              "      PRECIO_OFERTA_MIN  PRECIO_OFERTA_MAX  OFERTA ZONA_SUPERMERCADO  \\\n",
              "3505           0.641355            0.66124       0          despensa   \n",
              "\n",
              "      NUM_PASILLOS      TIPO_PRODUCTO                    DATATIME ATRIBUTOS  \\\n",
              "3505             5  aderezos-y-salsas  2022-07-16 20:54:13.402156      1 un   \n",
              "\n",
              "      STOCK  CANTIDAD_STOCK  PAGE  \n",
              "3505      0               0     1  "
            ],
            "text/html": [
              "\n",
              "  <div id=\"df-a3958018-9fba-404c-9640-d7754b839844\" class=\"colab-df-container\">\n",
              "    <div>\n",
              "<style scoped>\n",
              "    .dataframe tbody tr th:only-of-type {\n",
              "        vertical-align: middle;\n",
              "    }\n",
              "\n",
              "    .dataframe tbody tr th {\n",
              "        vertical-align: top;\n",
              "    }\n",
              "\n",
              "    .dataframe thead th {\n",
              "        text-align: right;\n",
              "    }\n",
              "</style>\n",
              "<table border=\"1\" class=\"dataframe\">\n",
              "  <thead>\n",
              "    <tr style=\"text-align: right;\">\n",
              "      <th></th>\n",
              "      <th>NOMBRE_PRODUCTO</th>\n",
              "      <th>MARCA</th>\n",
              "      <th>PRECIO_SIN_OFERTA</th>\n",
              "      <th>PRECIO_OFERTA_MIN</th>\n",
              "      <th>PRECIO_OFERTA_MAX</th>\n",
              "      <th>OFERTA</th>\n",
              "      <th>ZONA_SUPERMERCADO</th>\n",
              "      <th>NUM_PASILLOS</th>\n",
              "      <th>TIPO_PRODUCTO</th>\n",
              "      <th>DATATIME</th>\n",
              "      <th>ATRIBUTOS</th>\n",
              "      <th>STOCK</th>\n",
              "      <th>CANTIDAD_STOCK</th>\n",
              "      <th>PAGE</th>\n",
              "    </tr>\n",
              "  </thead>\n",
              "  <tbody>\n",
              "    <tr>\n",
              "      <th>3505</th>\n",
              "      <td>Mostaza regular doypack 1000 g</td>\n",
              "      <td>JB</td>\n",
              "      <td>2.194894</td>\n",
              "      <td>0.641355</td>\n",
              "      <td>0.66124</td>\n",
              "      <td>0</td>\n",
              "      <td>despensa</td>\n",
              "      <td>5</td>\n",
              "      <td>aderezos-y-salsas</td>\n",
              "      <td>2022-07-16 20:54:13.402156</td>\n",
              "      <td>1 un</td>\n",
              "      <td>0</td>\n",
              "      <td>0</td>\n",
              "      <td>1</td>\n",
              "    </tr>\n",
              "  </tbody>\n",
              "</table>\n",
              "</div>\n",
              "    <div class=\"colab-df-buttons\">\n",
              "\n",
              "  <div class=\"colab-df-container\">\n",
              "    <button class=\"colab-df-convert\" onclick=\"convertToInteractive('df-a3958018-9fba-404c-9640-d7754b839844')\"\n",
              "            title=\"Convert this dataframe to an interactive table.\"\n",
              "            style=\"display:none;\">\n",
              "\n",
              "  <svg xmlns=\"http://www.w3.org/2000/svg\" height=\"24px\" viewBox=\"0 -960 960 960\">\n",
              "    <path d=\"M120-120v-720h720v720H120Zm60-500h600v-160H180v160Zm220 220h160v-160H400v160Zm0 220h160v-160H400v160ZM180-400h160v-160H180v160Zm440 0h160v-160H620v160ZM180-180h160v-160H180v160Zm440 0h160v-160H620v160Z\"/>\n",
              "  </svg>\n",
              "    </button>\n",
              "\n",
              "  <style>\n",
              "    .colab-df-container {\n",
              "      display:flex;\n",
              "      gap: 12px;\n",
              "    }\n",
              "\n",
              "    .colab-df-convert {\n",
              "      background-color: #E8F0FE;\n",
              "      border: none;\n",
              "      border-radius: 50%;\n",
              "      cursor: pointer;\n",
              "      display: none;\n",
              "      fill: #1967D2;\n",
              "      height: 32px;\n",
              "      padding: 0 0 0 0;\n",
              "      width: 32px;\n",
              "    }\n",
              "\n",
              "    .colab-df-convert:hover {\n",
              "      background-color: #E2EBFA;\n",
              "      box-shadow: 0px 1px 2px rgba(60, 64, 67, 0.3), 0px 1px 3px 1px rgba(60, 64, 67, 0.15);\n",
              "      fill: #174EA6;\n",
              "    }\n",
              "\n",
              "    .colab-df-buttons div {\n",
              "      margin-bottom: 4px;\n",
              "    }\n",
              "\n",
              "    [theme=dark] .colab-df-convert {\n",
              "      background-color: #3B4455;\n",
              "      fill: #D2E3FC;\n",
              "    }\n",
              "\n",
              "    [theme=dark] .colab-df-convert:hover {\n",
              "      background-color: #434B5C;\n",
              "      box-shadow: 0px 1px 3px 1px rgba(0, 0, 0, 0.15);\n",
              "      filter: drop-shadow(0px 1px 2px rgba(0, 0, 0, 0.3));\n",
              "      fill: #FFFFFF;\n",
              "    }\n",
              "  </style>\n",
              "\n",
              "    <script>\n",
              "      const buttonEl =\n",
              "        document.querySelector('#df-a3958018-9fba-404c-9640-d7754b839844 button.colab-df-convert');\n",
              "      buttonEl.style.display =\n",
              "        google.colab.kernel.accessAllowed ? 'block' : 'none';\n",
              "\n",
              "      async function convertToInteractive(key) {\n",
              "        const element = document.querySelector('#df-a3958018-9fba-404c-9640-d7754b839844');\n",
              "        const dataTable =\n",
              "          await google.colab.kernel.invokeFunction('convertToInteractive',\n",
              "                                                    [key], {});\n",
              "        if (!dataTable) return;\n",
              "\n",
              "        const docLinkHtml = 'Like what you see? Visit the ' +\n",
              "          '<a target=\"_blank\" href=https://colab.research.google.com/notebooks/data_table.ipynb>data table notebook</a>'\n",
              "          + ' to learn more about interactive tables.';\n",
              "        element.innerHTML = '';\n",
              "        dataTable['output_type'] = 'display_data';\n",
              "        await google.colab.output.renderOutput(dataTable, element);\n",
              "        const docLink = document.createElement('div');\n",
              "        docLink.innerHTML = docLinkHtml;\n",
              "        element.appendChild(docLink);\n",
              "      }\n",
              "    </script>\n",
              "  </div>\n",
              "\n",
              "    </div>\n",
              "  </div>\n"
            ]
          },
          "metadata": {},
          "execution_count": 33
        }
      ]
    },
    {
      "cell_type": "markdown",
      "source": [
        "12.¿Cuál es la marca con más productos?"
      ],
      "metadata": {
        "id": "UxCtCvwEzjP2"
      },
      "id": "UxCtCvwEzjP2"
    },
    {
      "cell_type": "code",
      "source": [
        "df.groupby('MARCA')[['NOMBRE_PRODUCTO','CANTIDAD_STOCK']].max().sort_values(by='CANTIDAD_STOCK',ascending=False).head(1)"
      ],
      "metadata": {
        "id": "NQumWDY9zjI8",
        "colab": {
          "base_uri": "https://localhost:8080/",
          "height": 112
        },
        "outputId": "67931ad2-f9dc-499e-c328-4791face34ed"
      },
      "id": "NQumWDY9zjI8",
      "execution_count": 34,
      "outputs": [
        {
          "output_type": "execute_result",
          "data": {
            "text/plain": [
              "             NOMBRE_PRODUCTO  CANTIDAD_STOCK\n",
              "MARCA                                       \n",
              "Calo   Margarina light 500 g              50"
            ],
            "text/html": [
              "\n",
              "  <div id=\"df-f050edc6-a945-42a4-b020-6814af4f64aa\" class=\"colab-df-container\">\n",
              "    <div>\n",
              "<style scoped>\n",
              "    .dataframe tbody tr th:only-of-type {\n",
              "        vertical-align: middle;\n",
              "    }\n",
              "\n",
              "    .dataframe tbody tr th {\n",
              "        vertical-align: top;\n",
              "    }\n",
              "\n",
              "    .dataframe thead th {\n",
              "        text-align: right;\n",
              "    }\n",
              "</style>\n",
              "<table border=\"1\" class=\"dataframe\">\n",
              "  <thead>\n",
              "    <tr style=\"text-align: right;\">\n",
              "      <th></th>\n",
              "      <th>NOMBRE_PRODUCTO</th>\n",
              "      <th>CANTIDAD_STOCK</th>\n",
              "    </tr>\n",
              "    <tr>\n",
              "      <th>MARCA</th>\n",
              "      <th></th>\n",
              "      <th></th>\n",
              "    </tr>\n",
              "  </thead>\n",
              "  <tbody>\n",
              "    <tr>\n",
              "      <th>Calo</th>\n",
              "      <td>Margarina light 500 g</td>\n",
              "      <td>50</td>\n",
              "    </tr>\n",
              "  </tbody>\n",
              "</table>\n",
              "</div>\n",
              "    <div class=\"colab-df-buttons\">\n",
              "\n",
              "  <div class=\"colab-df-container\">\n",
              "    <button class=\"colab-df-convert\" onclick=\"convertToInteractive('df-f050edc6-a945-42a4-b020-6814af4f64aa')\"\n",
              "            title=\"Convert this dataframe to an interactive table.\"\n",
              "            style=\"display:none;\">\n",
              "\n",
              "  <svg xmlns=\"http://www.w3.org/2000/svg\" height=\"24px\" viewBox=\"0 -960 960 960\">\n",
              "    <path d=\"M120-120v-720h720v720H120Zm60-500h600v-160H180v160Zm220 220h160v-160H400v160Zm0 220h160v-160H400v160ZM180-400h160v-160H180v160Zm440 0h160v-160H620v160ZM180-180h160v-160H180v160Zm440 0h160v-160H620v160Z\"/>\n",
              "  </svg>\n",
              "    </button>\n",
              "\n",
              "  <style>\n",
              "    .colab-df-container {\n",
              "      display:flex;\n",
              "      gap: 12px;\n",
              "    }\n",
              "\n",
              "    .colab-df-convert {\n",
              "      background-color: #E8F0FE;\n",
              "      border: none;\n",
              "      border-radius: 50%;\n",
              "      cursor: pointer;\n",
              "      display: none;\n",
              "      fill: #1967D2;\n",
              "      height: 32px;\n",
              "      padding: 0 0 0 0;\n",
              "      width: 32px;\n",
              "    }\n",
              "\n",
              "    .colab-df-convert:hover {\n",
              "      background-color: #E2EBFA;\n",
              "      box-shadow: 0px 1px 2px rgba(60, 64, 67, 0.3), 0px 1px 3px 1px rgba(60, 64, 67, 0.15);\n",
              "      fill: #174EA6;\n",
              "    }\n",
              "\n",
              "    .colab-df-buttons div {\n",
              "      margin-bottom: 4px;\n",
              "    }\n",
              "\n",
              "    [theme=dark] .colab-df-convert {\n",
              "      background-color: #3B4455;\n",
              "      fill: #D2E3FC;\n",
              "    }\n",
              "\n",
              "    [theme=dark] .colab-df-convert:hover {\n",
              "      background-color: #434B5C;\n",
              "      box-shadow: 0px 1px 3px 1px rgba(0, 0, 0, 0.15);\n",
              "      filter: drop-shadow(0px 1px 2px rgba(0, 0, 0, 0.3));\n",
              "      fill: #FFFFFF;\n",
              "    }\n",
              "  </style>\n",
              "\n",
              "    <script>\n",
              "      const buttonEl =\n",
              "        document.querySelector('#df-f050edc6-a945-42a4-b020-6814af4f64aa button.colab-df-convert');\n",
              "      buttonEl.style.display =\n",
              "        google.colab.kernel.accessAllowed ? 'block' : 'none';\n",
              "\n",
              "      async function convertToInteractive(key) {\n",
              "        const element = document.querySelector('#df-f050edc6-a945-42a4-b020-6814af4f64aa');\n",
              "        const dataTable =\n",
              "          await google.colab.kernel.invokeFunction('convertToInteractive',\n",
              "                                                    [key], {});\n",
              "        if (!dataTable) return;\n",
              "\n",
              "        const docLinkHtml = 'Like what you see? Visit the ' +\n",
              "          '<a target=\"_blank\" href=https://colab.research.google.com/notebooks/data_table.ipynb>data table notebook</a>'\n",
              "          + ' to learn more about interactive tables.';\n",
              "        element.innerHTML = '';\n",
              "        dataTable['output_type'] = 'display_data';\n",
              "        await google.colab.output.renderOutput(dataTable, element);\n",
              "        const docLink = document.createElement('div');\n",
              "        docLink.innerHTML = docLinkHtml;\n",
              "        element.appendChild(docLink);\n",
              "      }\n",
              "    </script>\n",
              "  </div>\n",
              "\n",
              "    </div>\n",
              "  </div>\n"
            ]
          },
          "metadata": {},
          "execution_count": 34
        }
      ]
    },
    {
      "cell_type": "markdown",
      "source": [
        "13.¿Cuántos productos hay en cada pasillo?"
      ],
      "metadata": {
        "id": "DYqIaIc2zjCK"
      },
      "id": "DYqIaIc2zjCK"
    },
    {
      "cell_type": "code",
      "source": [
        "cross_table_grf_prdctos_ZS= pd.crosstab(df['NOMBRE_PRODUCTO'].value_counts().sum(),df['ZONA_SUPERMERCADO'])\n",
        "colores = ['blue', 'orange','green', 'red', 'purple']\n",
        "grf_prdctos_ZS=cross_table_grf_prdctos_ZS.plot(kind='bar',color=colores,title='Productos por Zona del Supermercado',legend=True)\n",
        "grf_prdctos_ZS.legend(bbox_to_anchor=(1.05, 1), loc='upper left', borderaxespad=0., ncol=1)\n",
        "grf_prdctos_ZS.set_xlabel(None)\n",
        "for p in grf_prdctos_ZS.patches:\n",
        "    grf_prdctos_ZS.annotate(str(p.get_height()), (p.get_x() + p.get_width() / 2., p.get_height()), ha='center', va='center', xytext=(0, 10), textcoords='offset points')\n",
        "\n",
        "plt.show()"
      ],
      "metadata": {
        "id": "wzJTC9LIXmb6",
        "outputId": "313e9be1-3623-4f27-9b45-fc16f9df8c21",
        "colab": {
          "base_uri": "https://localhost:8080/",
          "height": 473
        }
      },
      "id": "wzJTC9LIXmb6",
      "execution_count": 35,
      "outputs": [
        {
          "output_type": "display_data",
          "data": {
            "text/plain": [
              "<Figure size 640x480 with 1 Axes>"
            ],
            "image/png": "[encoded data removed]"
          },
          "metadata": {}
        }
      ]
    },
    {
      "cell_type": "code",
      "source": [
        "cross_table"
      ],
      "metadata": {
        "id": "sfP9XJP8zi7H",
        "colab": {
          "base_uri": "https://localhost:8080/",
          "height": 112
        },
        "outputId": "1818abd3-10eb-437d-a933-35311e223734"
      },
      "id": "sfP9XJP8zi7H",
      "execution_count": 36,
      "outputs": [
        {
          "output_type": "execute_result",
          "data": {
            "text/plain": [
              "ZONA_SUPERMERCADO  carniceria  despensa  frutas-y-verduras  lacteos  \\\n",
              "row_0                                                                 \n",
              "2830                       82      1146                106      450   \n",
              "\n",
              "ZONA_SUPERMERCADO  supermercados  \n",
              "row_0                             \n",
              "2830                        1046  "
            ],
            "text/html": [
              "\n",
              "  <div id=\"df-07ef2fd8-605c-49d4-8db0-b692655b51e6\" class=\"colab-df-container\">\n",
              "    <div>\n",
              "<style scoped>\n",
              "    .dataframe tbody tr th:only-of-type {\n",
              "        vertical-align: middle;\n",
              "    }\n",
              "\n",
              "    .dataframe tbody tr th {\n",
              "        vertical-align: top;\n",
              "    }\n",
              "\n",
              "    .dataframe thead th {\n",
              "        text-align: right;\n",
              "    }\n",
              "</style>\n",
              "<table border=\"1\" class=\"dataframe\">\n",
              "  <thead>\n",
              "    <tr style=\"text-align: right;\">\n",
              "      <th>ZONA_SUPERMERCADO</th>\n",
              "      <th>carniceria</th>\n",
              "      <th>despensa</th>\n",
              "      <th>frutas-y-verduras</th>\n",
              "      <th>lacteos</th>\n",
              "      <th>supermercados</th>\n",
              "    </tr>\n",
              "    <tr>\n",
              "      <th>row_0</th>\n",
              "      <th></th>\n",
              "      <th></th>\n",
              "      <th></th>\n",
              "      <th></th>\n",
              "      <th></th>\n",
              "    </tr>\n",
              "  </thead>\n",
              "  <tbody>\n",
              "    <tr>\n",
              "      <th>2830</th>\n",
              "      <td>82</td>\n",
              "      <td>1146</td>\n",
              "      <td>106</td>\n",
              "      <td>450</td>\n",
              "      <td>1046</td>\n",
              "    </tr>\n",
              "  </tbody>\n",
              "</table>\n",
              "</div>\n",
              "    <div class=\"colab-df-buttons\">\n",
              "\n",
              "  <div class=\"colab-df-container\">\n",
              "    <button class=\"colab-df-convert\" onclick=\"convertToInteractive('df-07ef2fd8-605c-49d4-8db0-b692655b51e6')\"\n",
              "            title=\"Convert this dataframe to an interactive table.\"\n",
              "            style=\"display:none;\">\n",
              "\n",
              "  <svg xmlns=\"http://www.w3.org/2000/svg\" height=\"24px\" viewBox=\"0 -960 960 960\">\n",
              "    <path d=\"M120-120v-720h720v720H120Zm60-500h600v-160H180v160Zm220 220h160v-160H400v160Zm0 220h160v-160H400v160ZM180-400h160v-160H180v160Zm440 0h160v-160H620v160ZM180-180h160v-160H180v160Zm440 0h160v-160H620v160Z\"/>\n",
              "  </svg>\n",
              "    </button>\n",
              "\n",
              "  <style>\n",
              "    .colab-df-container {\n",
              "      display:flex;\n",
              "      gap: 12px;\n",
              "    }\n",
              "\n",
              "    .colab-df-convert {\n",
              "      background-color: #E8F0FE;\n",
              "      border: none;\n",
              "      border-radius: 50%;\n",
              "      cursor: pointer;\n",
              "      display: none;\n",
              "      fill: #1967D2;\n",
              "      height: 32px;\n",
              "      padding: 0 0 0 0;\n",
              "      width: 32px;\n",
              "    }\n",
              "\n",
              "    .colab-df-convert:hover {\n",
              "      background-color: #E2EBFA;\n",
              "      box-shadow: 0px 1px 2px rgba(60, 64, 67, 0.3), 0px 1px 3px 1px rgba(60, 64, 67, 0.15);\n",
              "      fill: #174EA6;\n",
              "    }\n",
              "\n",
              "    .colab-df-buttons div {\n",
              "      margin-bottom: 4px;\n",
              "    }\n",
              "\n",
              "    [theme=dark] .colab-df-convert {\n",
              "      background-color: #3B4455;\n",
              "      fill: #D2E3FC;\n",
              "    }\n",
              "\n",
              "    [theme=dark] .colab-df-convert:hover {\n",
              "      background-color: #434B5C;\n",
              "      box-shadow: 0px 1px 3px 1px rgba(0, 0, 0, 0.15);\n",
              "      filter: drop-shadow(0px 1px 2px rgba(0, 0, 0, 0.3));\n",
              "      fill: #FFFFFF;\n",
              "    }\n",
              "  </style>\n",
              "\n",
              "    <script>\n",
              "      const buttonEl =\n",
              "        document.querySelector('#df-07ef2fd8-605c-49d4-8db0-b692655b51e6 button.colab-df-convert');\n",
              "      buttonEl.style.display =\n",
              "        google.colab.kernel.accessAllowed ? 'block' : 'none';\n",
              "\n",
              "      async function convertToInteractive(key) {\n",
              "        const element = document.querySelector('#df-07ef2fd8-605c-49d4-8db0-b692655b51e6');\n",
              "        const dataTable =\n",
              "          await google.colab.kernel.invokeFunction('convertToInteractive',\n",
              "                                                    [key], {});\n",
              "        if (!dataTable) return;\n",
              "\n",
              "        const docLinkHtml = 'Like what you see? Visit the ' +\n",
              "          '<a target=\"_blank\" href=https://colab.research.google.com/notebooks/data_table.ipynb>data table notebook</a>'\n",
              "          + ' to learn more about interactive tables.';\n",
              "        element.innerHTML = '';\n",
              "        dataTable['output_type'] = 'display_data';\n",
              "        await google.colab.output.renderOutput(dataTable, element);\n",
              "        const docLink = document.createElement('div');\n",
              "        docLink.innerHTML = docLinkHtml;\n",
              "        element.appendChild(docLink);\n",
              "      }\n",
              "    </script>\n",
              "  </div>\n",
              "\n",
              "    </div>\n",
              "  </div>\n"
            ]
          },
          "metadata": {},
          "execution_count": 36
        }
      ]
    },
    {
      "cell_type": "markdown",
      "source": [
        "14.Cambiar los nombres de los productos a en formato mayúsculas y cambiando los espacios por \"_\"."
      ],
      "metadata": {
        "id": "Oq8E12WYzixS"
      },
      "id": "Oq8E12WYzixS"
    },
    {
      "cell_type": "code",
      "source": [
        " df['NOMBRE_PRODUCTO']= df['NOMBRE_PRODUCTO'].str.upper()"
      ],
      "metadata": {
        "id": "MyZyFjUnzijr"
      },
      "id": "MyZyFjUnzijr",
      "execution_count": 37,
      "outputs": []
    },
    {
      "cell_type": "code",
      "source": [
        "def transformar_nombres(nombre_producto):\n",
        "  return nombre_producto.upper().replace(\" \", \"_\")\n",
        "\n",
        "df['NOMBRE_PRODUCTO'] = df['NOMBRE_PRODUCTO'].apply(transformar_nombres)\n"
      ],
      "metadata": {
        "id": "osThRCt789ko"
      },
      "id": "osThRCt789ko",
      "execution_count": 38,
      "outputs": []
    },
    {
      "cell_type": "markdown",
      "source": [
        "15.¿Cuántas variedades de vinos venden? ¿Y cuál es el más caro?"
      ],
      "metadata": {
        "id": "lecLC-1QB7Bj"
      },
      "id": "lecLC-1QB7Bj"
    },
    {
      "cell_type": "code",
      "source": [
        "cond = df[df['TIPO_PRODUCTO']=='vinos-cervezas-y-licores']\n",
        "cond.loc[:,'NOMBRE_PRODUCTO']"
      ],
      "metadata": {
        "colab": {
          "base_uri": "https://localhost:8080/"
        },
        "id": "4AZ3GUfN83w6",
        "outputId": "e1abd581-2bdd-48e2-a13e-3ed814263d41"
      },
      "id": "4AZ3GUfN83w6",
      "execution_count": 39,
      "outputs": [
        {
          "output_type": "execute_result",
          "data": {
            "text/plain": [
              "240                PACK_24_UN._CERVEZA_LAGER_5.2°_330_CC\n",
              "241                    VINO_DIABLO_RED_ENSAMBLAJE_750_CC\n",
              "242              PACK_6_UN._CERVEZA_RUBIA_BOTELLA_330_CC\n",
              "243                 PACK_6_UN._CERVEZA_LAGER_LATA_354_CC\n",
              "244            PACK_18_UN._CERVEZA_LAGER_4.6°_330_CC_C/U\n",
              "                             ...                        \n",
              "475                             ESPUMANTE_LOVE_7°_750_CC\n",
              "476                  VINO_CARMÉNÈRE_PANUL_RESERVA_750_CC\n",
              "477                  ESPUMANTE_BRUT_12.5°_BOTELLA_750_CC\n",
              "478    VINO_CHARDONNAY_TRES_MEDALLAS_VIÑA_SANTA_RITA_...\n",
              "479            VINO_CARMÉNÈRE_SAUVIGNON_BLANC_13°_750_CC\n",
              "Name: NOMBRE_PRODUCTO, Length: 239, dtype: object"
            ]
          },
          "metadata": {},
          "execution_count": 39
        }
      ]
    },
    {
      "cell_type": "code",
      "source": [
        "total_vinos = df[df[\"NOMBRE_PRODUCTO\"].str.contains(\"VINO\", case = False, regex = False)].value_counts().sum()\n",
        "x = df[df[\"NOMBRE_PRODUCTO\"].str.contains(\"VINO\", case = False, regex = False)]\n",
        "xn = x.groupby(\"NOMBRE_PRODUCTO\")[\"PRECIO_SIN_OFERTA\"].max()\n",
        "vino_caro = xn.sort_values(ascending=False).head(1)\n",
        "print(vino_caro)\n",
        "print(f'Hay {total_vinos} variedades de vino')"
      ],
      "metadata": {
        "colab": {
          "base_uri": "https://localhost:8080/"
        },
        "id": "WkJTX1e3kAZi",
        "outputId": "58cf0d40-21ae-4298-9408-1e1e89f97b32"
      },
      "id": "WkJTX1e3kAZi",
      "execution_count": 40,
      "outputs": [
        {
          "output_type": "stream",
          "name": "stdout",
          "text": [
            "NOMBRE_PRODUCTO\n",
            "VINO_SYRAH/CABERNET_SAUVIGNON_TORO_DE_PIEDRA_750_CC    10.989\n",
            "Name: PRECIO_SIN_OFERTA, dtype: float64\n",
            "Hay 147 variedades de vino\n"
          ]
        }
      ]
    },
    {
      "cell_type": "markdown",
      "source": [
        "16.¿Qué pasillo tiene más productos sin ofertas aplicadas?"
      ],
      "metadata": {
        "id": "4rpT3lpHzh91"
      },
      "id": "4rpT3lpHzh91"
    },
    {
      "cell_type": "code",
      "source": [
        "prd_sin_oferta= df[df['OFERTA']==0]\n",
        "ofrta_sin_apli= prd_sin_oferta[\"OFERTA\"].value_counts().sum()\n",
        "ofrta_sin_apli_prc = (ofrta_sin_apli*100)/ act\n",
        "print(f'Hay un total de {ofrta_sin_apli} productos sin oferta aplicada. Este valor representa el {ofrta_sin_apli_prc.round(2)}% del total ')\n",
        "\n"
      ],
      "metadata": {
        "id": "dGDru8R6fWlH",
        "outputId": "f12c4be6-13c6-4ab3-9969-b497d53dd918",
        "colab": {
          "base_uri": "https://localhost:8080/"
        }
      },
      "id": "dGDru8R6fWlH",
      "execution_count": 41,
      "outputs": [
        {
          "output_type": "stream",
          "name": "stdout",
          "text": [
            "Hay un total de 2207 productos sin oferta aplicada. Este valor representa el 77.99% del total \n"
          ]
        }
      ]
    },
    {
      "cell_type": "code",
      "source": [
        "pd.crosstab(prd_sin_oferta['NOMBRE_PRODUCTO'].value_counts().sum(),prd_sin_oferta['ZONA_SUPERMERCADO'])\n"
      ],
      "metadata": {
        "id": "U3uuqh25trze",
        "outputId": "ba88e6cc-b531-45a2-a5a7-df4342f6ffc2",
        "colab": {
          "base_uri": "https://localhost:8080/",
          "height": 112
        }
      },
      "id": "U3uuqh25trze",
      "execution_count": 42,
      "outputs": [
        {
          "output_type": "execute_result",
          "data": {
            "text/plain": [
              "ZONA_SUPERMERCADO  carniceria  despensa  frutas-y-verduras  lacteos  \\\n",
              "row_0                                                                 \n",
              "2207                       60       954                106      377   \n",
              "\n",
              "ZONA_SUPERMERCADO  supermercados  \n",
              "row_0                             \n",
              "2207                         710  "
            ],
            "text/html": [
              "\n",
              "  <div id=\"df-9c121f68-f398-43bc-a9aa-b55f2c3e443f\" class=\"colab-df-container\">\n",
              "    <div>\n",
              "<style scoped>\n",
              "    .dataframe tbody tr th:only-of-type {\n",
              "        vertical-align: middle;\n",
              "    }\n",
              "\n",
              "    .dataframe tbody tr th {\n",
              "        vertical-align: top;\n",
              "    }\n",
              "\n",
              "    .dataframe thead th {\n",
              "        text-align: right;\n",
              "    }\n",
              "</style>\n",
              "<table border=\"1\" class=\"dataframe\">\n",
              "  <thead>\n",
              "    <tr style=\"text-align: right;\">\n",
              "      <th>ZONA_SUPERMERCADO</th>\n",
              "      <th>carniceria</th>\n",
              "      <th>despensa</th>\n",
              "      <th>frutas-y-verduras</th>\n",
              "      <th>lacteos</th>\n",
              "      <th>supermercados</th>\n",
              "    </tr>\n",
              "    <tr>\n",
              "      <th>row_0</th>\n",
              "      <th></th>\n",
              "      <th></th>\n",
              "      <th></th>\n",
              "      <th></th>\n",
              "      <th></th>\n",
              "    </tr>\n",
              "  </thead>\n",
              "  <tbody>\n",
              "    <tr>\n",
              "      <th>2207</th>\n",
              "      <td>60</td>\n",
              "      <td>954</td>\n",
              "      <td>106</td>\n",
              "      <td>377</td>\n",
              "      <td>710</td>\n",
              "    </tr>\n",
              "  </tbody>\n",
              "</table>\n",
              "</div>\n",
              "    <div class=\"colab-df-buttons\">\n",
              "\n",
              "  <div class=\"colab-df-container\">\n",
              "    <button class=\"colab-df-convert\" onclick=\"convertToInteractive('df-9c121f68-f398-43bc-a9aa-b55f2c3e443f')\"\n",
              "            title=\"Convert this dataframe to an interactive table.\"\n",
              "            style=\"display:none;\">\n",
              "\n",
              "  <svg xmlns=\"http://www.w3.org/2000/svg\" height=\"24px\" viewBox=\"0 -960 960 960\">\n",
              "    <path d=\"M120-120v-720h720v720H120Zm60-500h600v-160H180v160Zm220 220h160v-160H400v160Zm0 220h160v-160H400v160ZM180-400h160v-160H180v160Zm440 0h160v-160H620v160ZM180-180h160v-160H180v160Zm440 0h160v-160H620v160Z\"/>\n",
              "  </svg>\n",
              "    </button>\n",
              "\n",
              "  <style>\n",
              "    .colab-df-container {\n",
              "      display:flex;\n",
              "      gap: 12px;\n",
              "    }\n",
              "\n",
              "    .colab-df-convert {\n",
              "      background-color: #E8F0FE;\n",
              "      border: none;\n",
              "      border-radius: 50%;\n",
              "      cursor: pointer;\n",
              "      display: none;\n",
              "      fill: #1967D2;\n",
              "      height: 32px;\n",
              "      padding: 0 0 0 0;\n",
              "      width: 32px;\n",
              "    }\n",
              "\n",
              "    .colab-df-convert:hover {\n",
              "      background-color: #E2EBFA;\n",
              "      box-shadow: 0px 1px 2px rgba(60, 64, 67, 0.3), 0px 1px 3px 1px rgba(60, 64, 67, 0.15);\n",
              "      fill: #174EA6;\n",
              "    }\n",
              "\n",
              "    .colab-df-buttons div {\n",
              "      margin-bottom: 4px;\n",
              "    }\n",
              "\n",
              "    [theme=dark] .colab-df-convert {\n",
              "      background-color: #3B4455;\n",
              "      fill: #D2E3FC;\n",
              "    }\n",
              "\n",
              "    [theme=dark] .colab-df-convert:hover {\n",
              "      background-color: #434B5C;\n",
              "      box-shadow: 0px 1px 3px 1px rgba(0, 0, 0, 0.15);\n",
              "      filter: drop-shadow(0px 1px 2px rgba(0, 0, 0, 0.3));\n",
              "      fill: #FFFFFF;\n",
              "    }\n",
              "  </style>\n",
              "\n",
              "    <script>\n",
              "      const buttonEl =\n",
              "        document.querySelector('#df-9c121f68-f398-43bc-a9aa-b55f2c3e443f button.colab-df-convert');\n",
              "      buttonEl.style.display =\n",
              "        google.colab.kernel.accessAllowed ? 'block' : 'none';\n",
              "\n",
              "      async function convertToInteractive(key) {\n",
              "        const element = document.querySelector('#df-9c121f68-f398-43bc-a9aa-b55f2c3e443f');\n",
              "        const dataTable =\n",
              "          await google.colab.kernel.invokeFunction('convertToInteractive',\n",
              "                                                    [key], {});\n",
              "        if (!dataTable) return;\n",
              "\n",
              "        const docLinkHtml = 'Like what you see? Visit the ' +\n",
              "          '<a target=\"_blank\" href=https://colab.research.google.com/notebooks/data_table.ipynb>data table notebook</a>'\n",
              "          + ' to learn more about interactive tables.';\n",
              "        element.innerHTML = '';\n",
              "        dataTable['output_type'] = 'display_data';\n",
              "        await google.colab.output.renderOutput(dataTable, element);\n",
              "        const docLink = document.createElement('div');\n",
              "        docLink.innerHTML = docLinkHtml;\n",
              "        element.appendChild(docLink);\n",
              "      }\n",
              "    </script>\n",
              "  </div>\n",
              "\n",
              "    </div>\n",
              "  </div>\n"
            ]
          },
          "metadata": {},
          "execution_count": 42
        }
      ]
    },
    {
      "cell_type": "code",
      "source": [
        "cross_table_grf_prdctos_sin_oferta_ZS= pd.crosstab(prd_sin_oferta['NOMBRE_PRODUCTO'].value_counts().sum(),prd_sin_oferta['ZONA_SUPERMERCADO'])\n",
        "colores = ['blue', 'orange','green', 'red', 'purple']\n",
        "cross_table_grf_prdctos_sin_oferta_ZS=cross_table_grf_prdctos_sin_oferta_ZS.plot(kind='bar',color=colores,title='Productos sin oferta aplicada por Zona del Supermercado',legend=True)\n",
        "cross_table_grf_prdctos_sin_oferta_ZS.legend(bbox_to_anchor=(1.05, 1), loc='upper left', borderaxespad=0., ncol=1)\n",
        "cross_table_grf_prdctos_sin_oferta_ZS.set_xlabel(None)\n",
        "for p in cross_table_grf_prdctos_sin_oferta_ZS.patches:\n",
        "    cross_table_grf_prdctos_sin_oferta_ZS.annotate(str(p.get_height()), (p.get_x() + p.get_width() / 2., p.get_height()), ha='center', va='center', xytext=(0, 10), textcoords='offset points')\n",
        "\n",
        "plt.show()"
      ],
      "metadata": {
        "id": "5AvI1MirehtL",
        "outputId": "08890e61-c7b8-401a-eae6-59a8b0672720",
        "colab": {
          "base_uri": "https://localhost:8080/",
          "height": 473
        }
      },
      "id": "5AvI1MirehtL",
      "execution_count": 43,
      "outputs": [
        {
          "output_type": "display_data",
          "data": {
            "text/plain": [
              "<Figure size 640x480 with 1 Axes>"
            ],
            "image/png": "[encoded data removed]"
          },
          "metadata": {}
        }
      ]
    },
    {
      "cell_type": "markdown",
      "source": [
        "17.¿Cuántos productos se venden a granel y cuántos por unidad?"
      ],
      "metadata": {
        "id": "ct537wD1E_3i"
      },
      "id": "ct537wD1E_3i"
    },
    {
      "cell_type": "code",
      "source": [
        "g = df[df[\"ATRIBUTOS\"].str.contains(\" g\", case = False, regex = False)].value_counts().sum()\n",
        "u = df[df[\"ATRIBUTOS\"].str.contains(\" un\", case = False, regex = False)].value_counts().sum()\n",
        "print(f\"Hay {g} productos que se venden a granel.\")\n",
        "print(f\"Hay {u} productos que se venden por unidad.\")"
      ],
      "metadata": {
        "colab": {
          "base_uri": "https://localhost:8080/"
        },
        "id": "QTX9XmWeFYdg",
        "outputId": "e314468a-495f-436f-ebcd-16ebab08cd59"
      },
      "id": "QTX9XmWeFYdg",
      "execution_count": 44,
      "outputs": [
        {
          "output_type": "stream",
          "name": "stdout",
          "text": [
            "Hay 23 productos que se venden a granel.\n",
            "Hay 2764 productos que se venden por unidad.\n"
          ]
        }
      ]
    },
    {
      "cell_type": "markdown",
      "source": [
        "18.¿Cuántos productos de los que hay en stock se les está aplicando oferta?"
      ],
      "metadata": {
        "id": "aqFxN8RFE_xz"
      },
      "id": "aqFxN8RFE_xz"
    },
    {
      "cell_type": "code",
      "source": [
        "prdtos_con_oferta_en_stock = df[df['OFERTA']==1]\n",
        "prductos_stock_con_ofertas=prdtos_con_oferta_en_stock.groupby('OFERTA')[['STOCK']].value_counts().sum()\n",
        "print(f'Hay un total de {prductos_stock_con_ofertas} productos en stock que tienen una oferta aplicada')"
      ],
      "metadata": {
        "colab": {
          "base_uri": "https://localhost:8080/"
        },
        "id": "wTAvJs-LFZQY",
        "outputId": "1cab6593-d090-40a6-8e1e-5d6112d9968f"
      },
      "id": "wTAvJs-LFZQY",
      "execution_count": 84,
      "outputs": [
        {
          "output_type": "stream",
          "name": "stdout",
          "text": [
            "Hay un total de 623 productos en stock que tienen una oferta aplicada\n"
          ]
        }
      ]
    },
    {
      "cell_type": "code",
      "source": [
        "pd.crosstab(prdtos_con_oferta_en_stock['ZONA_SUPERMERCADO'],prdtos_con_oferta_en_stock['STOCK'])\n"
      ],
      "metadata": {
        "id": "yZrTGc-ND5Pj",
        "outputId": "f35dadea-76e8-4df4-8f11-25a5eb41edee",
        "colab": {
          "base_uri": "https://localhost:8080/",
          "height": 206
        }
      },
      "id": "yZrTGc-ND5Pj",
      "execution_count": 91,
      "outputs": [
        {
          "output_type": "execute_result",
          "data": {
            "text/plain": [
              "STOCK                1\n",
              "ZONA_SUPERMERCADO     \n",
              "carniceria          22\n",
              "despensa           192\n",
              "lacteos             73\n",
              "supermercados      336"
            ],
            "text/html": [
              "\n",
              "  <div id=\"df-0794160a-c16c-463d-a4a1-02373d867f30\" class=\"colab-df-container\">\n",
              "    <div>\n",
              "<style scoped>\n",
              "    .dataframe tbody tr th:only-of-type {\n",
              "        vertical-align: middle;\n",
              "    }\n",
              "\n",
              "    .dataframe tbody tr th {\n",
              "        vertical-align: top;\n",
              "    }\n",
              "\n",
              "    .dataframe thead th {\n",
              "        text-align: right;\n",
              "    }\n",
              "</style>\n",
              "<table border=\"1\" class=\"dataframe\">\n",
              "  <thead>\n",
              "    <tr style=\"text-align: right;\">\n",
              "      <th>STOCK</th>\n",
              "      <th>1</th>\n",
              "    </tr>\n",
              "    <tr>\n",
              "      <th>ZONA_SUPERMERCADO</th>\n",
              "      <th></th>\n",
              "    </tr>\n",
              "  </thead>\n",
              "  <tbody>\n",
              "    <tr>\n",
              "      <th>carniceria</th>\n",
              "      <td>22</td>\n",
              "    </tr>\n",
              "    <tr>\n",
              "      <th>despensa</th>\n",
              "      <td>192</td>\n",
              "    </tr>\n",
              "    <tr>\n",
              "      <th>lacteos</th>\n",
              "      <td>73</td>\n",
              "    </tr>\n",
              "    <tr>\n",
              "      <th>supermercados</th>\n",
              "      <td>336</td>\n",
              "    </tr>\n",
              "  </tbody>\n",
              "</table>\n",
              "</div>\n",
              "    <div class=\"colab-df-buttons\">\n",
              "\n",
              "  <div class=\"colab-df-container\">\n",
              "    <button class=\"colab-df-convert\" onclick=\"convertToInteractive('df-0794160a-c16c-463d-a4a1-02373d867f30')\"\n",
              "            title=\"Convert this dataframe to an interactive table.\"\n",
              "            style=\"display:none;\">\n",
              "\n",
              "  <svg xmlns=\"http://www.w3.org/2000/svg\" height=\"24px\" viewBox=\"0 -960 960 960\">\n",
              "    <path d=\"M120-120v-720h720v720H120Zm60-500h600v-160H180v160Zm220 220h160v-160H400v160Zm0 220h160v-160H400v160ZM180-400h160v-160H180v160Zm440 0h160v-160H620v160ZM180-180h160v-160H180v160Zm440 0h160v-160H620v160Z\"/>\n",
              "  </svg>\n",
              "    </button>\n",
              "\n",
              "  <style>\n",
              "    .colab-df-container {\n",
              "      display:flex;\n",
              "      gap: 12px;\n",
              "    }\n",
              "\n",
              "    .colab-df-convert {\n",
              "      background-color: #E8F0FE;\n",
              "      border: none;\n",
              "      border-radius: 50%;\n",
              "      cursor: pointer;\n",
              "      display: none;\n",
              "      fill: #1967D2;\n",
              "      height: 32px;\n",
              "      padding: 0 0 0 0;\n",
              "      width: 32px;\n",
              "    }\n",
              "\n",
              "    .colab-df-convert:hover {\n",
              "      background-color: #E2EBFA;\n",
              "      box-shadow: 0px 1px 2px rgba(60, 64, 67, 0.3), 0px 1px 3px 1px rgba(60, 64, 67, 0.15);\n",
              "      fill: #174EA6;\n",
              "    }\n",
              "\n",
              "    .colab-df-buttons div {\n",
              "      margin-bottom: 4px;\n",
              "    }\n",
              "\n",
              "    [theme=dark] .colab-df-convert {\n",
              "      background-color: #3B4455;\n",
              "      fill: #D2E3FC;\n",
              "    }\n",
              "\n",
              "    [theme=dark] .colab-df-convert:hover {\n",
              "      background-color: #434B5C;\n",
              "      box-shadow: 0px 1px 3px 1px rgba(0, 0, 0, 0.15);\n",
              "      filter: drop-shadow(0px 1px 2px rgba(0, 0, 0, 0.3));\n",
              "      fill: #FFFFFF;\n",
              "    }\n",
              "  </style>\n",
              "\n",
              "    <script>\n",
              "      const buttonEl =\n",
              "        document.querySelector('#df-0794160a-c16c-463d-a4a1-02373d867f30 button.colab-df-convert');\n",
              "      buttonEl.style.display =\n",
              "        google.colab.kernel.accessAllowed ? 'block' : 'none';\n",
              "\n",
              "      async function convertToInteractive(key) {\n",
              "        const element = document.querySelector('#df-0794160a-c16c-463d-a4a1-02373d867f30');\n",
              "        const dataTable =\n",
              "          await google.colab.kernel.invokeFunction('convertToInteractive',\n",
              "                                                    [key], {});\n",
              "        if (!dataTable) return;\n",
              "\n",
              "        const docLinkHtml = 'Like what you see? Visit the ' +\n",
              "          '<a target=\"_blank\" href=https://colab.research.google.com/notebooks/data_table.ipynb>data table notebook</a>'\n",
              "          + ' to learn more about interactive tables.';\n",
              "        element.innerHTML = '';\n",
              "        dataTable['output_type'] = 'display_data';\n",
              "        await google.colab.output.renderOutput(dataTable, element);\n",
              "        const docLink = document.createElement('div');\n",
              "        docLink.innerHTML = docLinkHtml;\n",
              "        element.appendChild(docLink);\n",
              "      }\n",
              "    </script>\n",
              "  </div>\n",
              "\n",
              "\n",
              "<div id=\"df-97aebc25-cb3d-4685-be39-30e9ef51a625\">\n",
              "  <button class=\"colab-df-quickchart\" onclick=\"quickchart('df-97aebc25-cb3d-4685-be39-30e9ef51a625')\"\n",
              "            title=\"Suggest charts\"\n",
              "            style=\"display:none;\">\n",
              "\n",
              "<svg xmlns=\"http://www.w3.org/2000/svg\" height=\"24px\"viewBox=\"0 0 24 24\"\n",
              "     width=\"24px\">\n",
              "    <g>\n",
              "        <path d=\"M19 3H5c-1.1 0-2 .9-2 2v14c0 1.1.9 2 2 2h14c1.1 0 2-.9 2-2V5c0-1.1-.9-2-2-2zM9 17H7v-7h2v7zm4 0h-2V7h2v10zm4 0h-2v-4h2v4z\"/>\n",
              "    </g>\n",
              "</svg>\n",
              "  </button>\n",
              "\n",
              "<style>\n",
              "  .colab-df-quickchart {\n",
              "      --bg-color: #E8F0FE;\n",
              "      --fill-color: #1967D2;\n",
              "      --hover-bg-color: #E2EBFA;\n",
              "      --hover-fill-color: #174EA6;\n",
              "      --disabled-fill-color: #AAA;\n",
              "      --disabled-bg-color: #DDD;\n",
              "  }\n",
              "\n",
              "  [theme=dark] .colab-df-quickchart {\n",
              "      --bg-color: #3B4455;\n",
              "      --fill-color: #D2E3FC;\n",
              "      --hover-bg-color: #434B5C;\n",
              "      --hover-fill-color: #FFFFFF;\n",
              "      --disabled-bg-color: #3B4455;\n",
              "      --disabled-fill-color: #666;\n",
              "  }\n",
              "\n",
              "  .colab-df-quickchart {\n",
              "    background-color: var(--bg-color);\n",
              "    border: none;\n",
              "    border-radius: 50%;\n",
              "    cursor: pointer;\n",
              "    display: none;\n",
              "    fill: var(--fill-color);\n",
              "    height: 32px;\n",
              "    padding: 0;\n",
              "    width: 32px;\n",
              "  }\n",
              "\n",
              "  .colab-df-quickchart:hover {\n",
              "    background-color: var(--hover-bg-color);\n",
              "    box-shadow: 0 1px 2px rgba(60, 64, 67, 0.3), 0 1px 3px 1px rgba(60, 64, 67, 0.15);\n",
              "    fill: var(--button-hover-fill-color);\n",
              "  }\n",
              "\n",
              "  .colab-df-quickchart-complete:disabled,\n",
              "  .colab-df-quickchart-complete:disabled:hover {\n",
              "    background-color: var(--disabled-bg-color);\n",
              "    fill: var(--disabled-fill-color);\n",
              "    box-shadow: none;\n",
              "  }\n",
              "\n",
              "  .colab-df-spinner {\n",
              "    border: 2px solid var(--fill-color);\n",
              "    border-color: transparent;\n",
              "    border-bottom-color: var(--fill-color);\n",
              "    animation:\n",
              "      spin 1s steps(1) infinite;\n",
              "  }\n",
              "\n",
              "  @keyframes spin {\n",
              "    0% {\n",
              "      border-color: transparent;\n",
              "      border-bottom-color: var(--fill-color);\n",
              "      border-left-color: var(--fill-color);\n",
              "    }\n",
              "    20% {\n",
              "      border-color: transparent;\n",
              "      border-left-color: var(--fill-color);\n",
              "      border-top-color: var(--fill-color);\n",
              "    }\n",
              "    30% {\n",
              "      border-color: transparent;\n",
              "      border-left-color: var(--fill-color);\n",
              "      border-top-color: var(--fill-color);\n",
              "      border-right-color: var(--fill-color);\n",
              "    }\n",
              "    40% {\n",
              "      border-color: transparent;\n",
              "      border-right-color: var(--fill-color);\n",
              "      border-top-color: var(--fill-color);\n",
              "    }\n",
              "    60% {\n",
              "      border-color: transparent;\n",
              "      border-right-color: var(--fill-color);\n",
              "    }\n",
              "    80% {\n",
              "      border-color: transparent;\n",
              "      border-right-color: var(--fill-color);\n",
              "      border-bottom-color: var(--fill-color);\n",
              "    }\n",
              "    90% {\n",
              "      border-color: transparent;\n",
              "      border-bottom-color: var(--fill-color);\n",
              "    }\n",
              "  }\n",
              "</style>\n",
              "\n",
              "  <script>\n",
              "    async function quickchart(key) {\n",
              "      const quickchartButtonEl =\n",
              "        document.querySelector('#' + key + ' button');\n",
              "      quickchartButtonEl.disabled = true;  // To prevent multiple clicks.\n",
              "      quickchartButtonEl.classList.add('colab-df-spinner');\n",
              "      try {\n",
              "        const charts = await google.colab.kernel.invokeFunction(\n",
              "            'suggestCharts', [key], {});\n",
              "      } catch (error) {\n",
              "        console.error('Error during call to suggestCharts:', error);\n",
              "      }\n",
              "      quickchartButtonEl.classList.remove('colab-df-spinner');\n",
              "      quickchartButtonEl.classList.add('colab-df-quickchart-complete');\n",
              "    }\n",
              "    (() => {\n",
              "      let quickchartButtonEl =\n",
              "        document.querySelector('#df-97aebc25-cb3d-4685-be39-30e9ef51a625 button');\n",
              "      quickchartButtonEl.style.display =\n",
              "        google.colab.kernel.accessAllowed ? 'block' : 'none';\n",
              "    })();\n",
              "  </script>\n",
              "</div>\n",
              "    </div>\n",
              "  </div>\n"
            ]
          },
          "metadata": {},
          "execution_count": 91
        }
      ]
    },
    {
      "cell_type": "code",
      "source": [],
      "metadata": {
        "id": "nYTmQoYrN9G4"
      },
      "id": "nYTmQoYrN9G4",
      "execution_count": null,
      "outputs": []
    },
    {
      "cell_type": "markdown",
      "source": [
        "19.¿Qué está ocurriendo con el Producto \"Aceite de Oliva extra virgen 250 ml\" en temas de oferta y demanda?"
      ],
      "metadata": {
        "id": "_JYzSiZEE_u_"
      },
      "id": "_JYzSiZEE_u_"
    },
    {
      "cell_type": "code",
      "source": [
        "df[df['NOMBRE_PRODUCTO']==\"ACEITE DE OLIVA EXTRA VIRGEN 250 ML\"]"
      ],
      "metadata": {
        "id": "-TUGgdA9FZun",
        "colab": {
          "base_uri": "https://localhost:8080/",
          "height": 73
        },
        "outputId": "89300bd5-c27f-4287-9fe6-869ba472eac5"
      },
      "id": "-TUGgdA9FZun",
      "execution_count": 46,
      "outputs": [
        {
          "output_type": "execute_result",
          "data": {
            "text/plain": [
              "Empty DataFrame\n",
              "Columns: [NOMBRE_PRODUCTO, MARCA, PRECIO_SIN_OFERTA, PRECIO_OFERTA_MIN, PRECIO_OFERTA_MAX, OFERTA, ZONA_SUPERMERCADO, NUM_PASILLOS, TIPO_PRODUCTO, DATATIME, ATRIBUTOS, STOCK, CANTIDAD_STOCK, PAGE]\n",
              "Index: []"
            ],
            "text/html": [
              "\n",
              "  <div id=\"df-2e515b71-3407-4dda-8cea-af3a24638232\" class=\"colab-df-container\">\n",
              "    <div>\n",
              "<style scoped>\n",
              "    .dataframe tbody tr th:only-of-type {\n",
              "        vertical-align: middle;\n",
              "    }\n",
              "\n",
              "    .dataframe tbody tr th {\n",
              "        vertical-align: top;\n",
              "    }\n",
              "\n",
              "    .dataframe thead th {\n",
              "        text-align: right;\n",
              "    }\n",
              "</style>\n",
              "<table border=\"1\" class=\"dataframe\">\n",
              "  <thead>\n",
              "    <tr style=\"text-align: right;\">\n",
              "      <th></th>\n",
              "      <th>NOMBRE_PRODUCTO</th>\n",
              "      <th>MARCA</th>\n",
              "      <th>PRECIO_SIN_OFERTA</th>\n",
              "      <th>PRECIO_OFERTA_MIN</th>\n",
              "      <th>PRECIO_OFERTA_MAX</th>\n",
              "      <th>OFERTA</th>\n",
              "      <th>ZONA_SUPERMERCADO</th>\n",
              "      <th>NUM_PASILLOS</th>\n",
              "      <th>TIPO_PRODUCTO</th>\n",
              "      <th>DATATIME</th>\n",
              "      <th>ATRIBUTOS</th>\n",
              "      <th>STOCK</th>\n",
              "      <th>CANTIDAD_STOCK</th>\n",
              "      <th>PAGE</th>\n",
              "    </tr>\n",
              "  </thead>\n",
              "  <tbody>\n",
              "  </tbody>\n",
              "</table>\n",
              "</div>\n",
              "    <div class=\"colab-df-buttons\">\n",
              "\n",
              "  <div class=\"colab-df-container\">\n",
              "    <button class=\"colab-df-convert\" onclick=\"convertToInteractive('df-2e515b71-3407-4dda-8cea-af3a24638232')\"\n",
              "            title=\"Convert this dataframe to an interactive table.\"\n",
              "            style=\"display:none;\">\n",
              "\n",
              "  <svg xmlns=\"http://www.w3.org/2000/svg\" height=\"24px\" viewBox=\"0 -960 960 960\">\n",
              "    <path d=\"M120-120v-720h720v720H120Zm60-500h600v-160H180v160Zm220 220h160v-160H400v160Zm0 220h160v-160H400v160ZM180-400h160v-160H180v160Zm440 0h160v-160H620v160ZM180-180h160v-160H180v160Zm440 0h160v-160H620v160Z\"/>\n",
              "  </svg>\n",
              "    </button>\n",
              "\n",
              "  <style>\n",
              "    .colab-df-container {\n",
              "      display:flex;\n",
              "      gap: 12px;\n",
              "    }\n",
              "\n",
              "    .colab-df-convert {\n",
              "      background-color: #E8F0FE;\n",
              "      border: none;\n",
              "      border-radius: 50%;\n",
              "      cursor: pointer;\n",
              "      display: none;\n",
              "      fill: #1967D2;\n",
              "      height: 32px;\n",
              "      padding: 0 0 0 0;\n",
              "      width: 32px;\n",
              "    }\n",
              "\n",
              "    .colab-df-convert:hover {\n",
              "      background-color: #E2EBFA;\n",
              "      box-shadow: 0px 1px 2px rgba(60, 64, 67, 0.3), 0px 1px 3px 1px rgba(60, 64, 67, 0.15);\n",
              "      fill: #174EA6;\n",
              "    }\n",
              "\n",
              "    .colab-df-buttons div {\n",
              "      margin-bottom: 4px;\n",
              "    }\n",
              "\n",
              "    [theme=dark] .colab-df-convert {\n",
              "      background-color: #3B4455;\n",
              "      fill: #D2E3FC;\n",
              "    }\n",
              "\n",
              "    [theme=dark] .colab-df-convert:hover {\n",
              "      background-color: #434B5C;\n",
              "      box-shadow: 0px 1px 3px 1px rgba(0, 0, 0, 0.15);\n",
              "      filter: drop-shadow(0px 1px 2px rgba(0, 0, 0, 0.3));\n",
              "      fill: #FFFFFF;\n",
              "    }\n",
              "  </style>\n",
              "\n",
              "    <script>\n",
              "      const buttonEl =\n",
              "        document.querySelector('#df-2e515b71-3407-4dda-8cea-af3a24638232 button.colab-df-convert');\n",
              "      buttonEl.style.display =\n",
              "        google.colab.kernel.accessAllowed ? 'block' : 'none';\n",
              "\n",
              "      async function convertToInteractive(key) {\n",
              "        const element = document.querySelector('#df-2e515b71-3407-4dda-8cea-af3a24638232');\n",
              "        const dataTable =\n",
              "          await google.colab.kernel.invokeFunction('convertToInteractive',\n",
              "                                                    [key], {});\n",
              "        if (!dataTable) return;\n",
              "\n",
              "        const docLinkHtml = 'Like what you see? Visit the ' +\n",
              "          '<a target=\"_blank\" href=https://colab.research.google.com/notebooks/data_table.ipynb>data table notebook</a>'\n",
              "          + ' to learn more about interactive tables.';\n",
              "        element.innerHTML = '';\n",
              "        dataTable['output_type'] = 'display_data';\n",
              "        await google.colab.output.renderOutput(dataTable, element);\n",
              "        const docLink = document.createElement('div');\n",
              "        docLink.innerHTML = docLinkHtml;\n",
              "        element.appendChild(docLink);\n",
              "      }\n",
              "    </script>\n",
              "  </div>\n",
              "\n",
              "    </div>\n",
              "  </div>\n"
            ]
          },
          "metadata": {},
          "execution_count": 46
        }
      ]
    },
    {
      "cell_type": "markdown",
      "source": [
        "20.Ofrece recomendaciones específicas para mejorar la calidad de los datos y sugerir acciones futuras para la gestión del inventario."
      ],
      "metadata": {
        "id": "CEpNWEgwE_gz"
      },
      "id": "CEpNWEgwE_gz"
    },
    {
      "cell_type": "code",
      "source": [
        "df"
      ],
      "metadata": {
        "id": "U-BpxZq1E2gX"
      },
      "id": "U-BpxZq1E2gX",
      "execution_count": null,
      "outputs": []
    }
  ],
  "metadata": {
    "kernelspec": {
      "display_name": "Python 3 (ipykernel)",
      "language": "python",
      "name": "python3"
    },
    "language_info": {
      "codemirror_mode": {
        "name": "ipython",
        "version": 3
      },
      "file_extension": ".py",
      "mimetype": "text/x-python",
      "name": "python",
      "nbconvert_exporter": "python",
      "pygments_lexer": "ipython3",
      "version": "3.9.13"
    },
    "colab": {
      "provenance": [],
      "include_colab_link": true
    }
  },
  "nbformat": 4,
  "nbformat_minor": 5
}